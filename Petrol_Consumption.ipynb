{
  "nbformat": 4,
  "nbformat_minor": 0,
  "metadata": {
    "colab": {
      "name": "Petrol_Consumption.ipynb",
      "provenance": [],
      "collapsed_sections": [],
      "authorship_tag": "ABX9TyPwfHDN9EsTVduEEreTs91A",
      "include_colab_link": true
    },
    "kernelspec": {
      "name": "python3",
      "display_name": "Python 3"
    }
  },
  "cells": [
    {
      "cell_type": "markdown",
      "metadata": {
        "id": "view-in-github",
        "colab_type": "text"
      },
      "source": [
        "<a href=\"https://colab.research.google.com/github/Balbuenar/Unclassified--repo/blob/master/Petrol_Consumption.ipynb\" target=\"_parent\"><img src=\"https://colab.research.google.com/assets/colab-badge.svg\" alt=\"Open In Colab\"/></a>"
      ]
    },
    {
      "cell_type": "code",
      "metadata": {
        "id": "pS09hZRjv07N"
      },
      "source": [
        "import numpy as np\r\n",
        "import pickle\r\n",
        "import pandas as pd\r\n",
        "import matplotlib.pyplot as plt\r\n",
        "\r\n",
        "from sklearn.preprocessing import StandardScaler, PolynomialFeatures\r\n",
        "from sklearn.model_selection import KFold, cross_val_predict\r\n",
        "from sklearn.linear_model import LinearRegression, Lasso, Ridge\r\n",
        "from sklearn.metrics import r2_score\r\n",
        "from sklearn.pipeline import Pipeline"
      ],
      "execution_count": 2,
      "outputs": []
    },
    {
      "cell_type": "code",
      "metadata": {
        "colab": {
          "base_uri": "https://localhost:8080/"
        },
        "id": "SGW5gh6-v81J",
        "outputId": "d5492b30-b294-44f0-e49b-b9f6ddcd2e3d"
      },
      "source": [
        "from google.colab import drive\r\n",
        "drive.mount(\"/content/gdrive\")"
      ],
      "execution_count": 3,
      "outputs": [
        {
          "output_type": "stream",
          "text": [
            "Mounted at /content/gdrive\n"
          ],
          "name": "stdout"
        }
      ]
    },
    {
      "cell_type": "code",
      "metadata": {
        "id": "tZ67fGU6v9Cq"
      },
      "source": [
        "dataset = pd.read_csv(\"/content/gdrive/MyDrive/petrol_consumption.csv\")"
      ],
      "execution_count": 4,
      "outputs": []
    },
    {
      "cell_type": "code",
      "metadata": {
        "colab": {
          "base_uri": "https://localhost:8080/"
        },
        "id": "8YXpUMgGv9GU",
        "outputId": "65ffc410-39f2-4728-ac51-6e65b2feee90"
      },
      "source": [
        "dataset.shape"
      ],
      "execution_count": 5,
      "outputs": [
        {
          "output_type": "execute_result",
          "data": {
            "text/plain": [
              "(48, 5)"
            ]
          },
          "metadata": {
            "tags": []
          },
          "execution_count": 5
        }
      ]
    },
    {
      "cell_type": "code",
      "metadata": {
        "colab": {
          "base_uri": "https://localhost:8080/"
        },
        "id": "M_3Wun7nv9J2",
        "outputId": "82d547bc-bd61-47de-d870-63229fbc4d6a"
      },
      "source": [
        "dataset.keys()"
      ],
      "execution_count": 6,
      "outputs": [
        {
          "output_type": "execute_result",
          "data": {
            "text/plain": [
              "Index(['Petrol_tax', 'Average_income', 'Paved_Highways',\n",
              "       'Population_Driver_licence(%)', 'Petrol_Consumption'],\n",
              "      dtype='object')"
            ]
          },
          "metadata": {
            "tags": []
          },
          "execution_count": 6
        }
      ]
    },
    {
      "cell_type": "code",
      "metadata": {
        "colab": {
          "base_uri": "https://localhost:8080/",
          "height": 204
        },
        "id": "givb83Cdv9M4",
        "outputId": "143c9c11-ee04-40d7-8756-6aeb7d830985"
      },
      "source": [
        "dataset.head()"
      ],
      "execution_count": 7,
      "outputs": [
        {
          "output_type": "execute_result",
          "data": {
            "text/html": [
              "<div>\n",
              "<style scoped>\n",
              "    .dataframe tbody tr th:only-of-type {\n",
              "        vertical-align: middle;\n",
              "    }\n",
              "\n",
              "    .dataframe tbody tr th {\n",
              "        vertical-align: top;\n",
              "    }\n",
              "\n",
              "    .dataframe thead th {\n",
              "        text-align: right;\n",
              "    }\n",
              "</style>\n",
              "<table border=\"1\" class=\"dataframe\">\n",
              "  <thead>\n",
              "    <tr style=\"text-align: right;\">\n",
              "      <th></th>\n",
              "      <th>Petrol_tax</th>\n",
              "      <th>Average_income</th>\n",
              "      <th>Paved_Highways</th>\n",
              "      <th>Population_Driver_licence(%)</th>\n",
              "      <th>Petrol_Consumption</th>\n",
              "    </tr>\n",
              "  </thead>\n",
              "  <tbody>\n",
              "    <tr>\n",
              "      <th>0</th>\n",
              "      <td>9.0</td>\n",
              "      <td>3571</td>\n",
              "      <td>1976</td>\n",
              "      <td>0.525</td>\n",
              "      <td>541</td>\n",
              "    </tr>\n",
              "    <tr>\n",
              "      <th>1</th>\n",
              "      <td>9.0</td>\n",
              "      <td>4092</td>\n",
              "      <td>1250</td>\n",
              "      <td>0.572</td>\n",
              "      <td>524</td>\n",
              "    </tr>\n",
              "    <tr>\n",
              "      <th>2</th>\n",
              "      <td>9.0</td>\n",
              "      <td>3865</td>\n",
              "      <td>1586</td>\n",
              "      <td>0.580</td>\n",
              "      <td>561</td>\n",
              "    </tr>\n",
              "    <tr>\n",
              "      <th>3</th>\n",
              "      <td>7.5</td>\n",
              "      <td>4870</td>\n",
              "      <td>2351</td>\n",
              "      <td>0.529</td>\n",
              "      <td>414</td>\n",
              "    </tr>\n",
              "    <tr>\n",
              "      <th>4</th>\n",
              "      <td>8.0</td>\n",
              "      <td>4399</td>\n",
              "      <td>431</td>\n",
              "      <td>0.544</td>\n",
              "      <td>410</td>\n",
              "    </tr>\n",
              "  </tbody>\n",
              "</table>\n",
              "</div>"
            ],
            "text/plain": [
              "   Petrol_tax  Average_income  ...  Population_Driver_licence(%)  Petrol_Consumption\n",
              "0         9.0            3571  ...                         0.525                 541\n",
              "1         9.0            4092  ...                         0.572                 524\n",
              "2         9.0            3865  ...                         0.580                 561\n",
              "3         7.5            4870  ...                         0.529                 414\n",
              "4         8.0            4399  ...                         0.544                 410\n",
              "\n",
              "[5 rows x 5 columns]"
            ]
          },
          "metadata": {
            "tags": []
          },
          "execution_count": 7
        }
      ]
    },
    {
      "cell_type": "code",
      "metadata": {
        "colab": {
          "base_uri": "https://localhost:8080/",
          "height": 297
        },
        "id": "jwkXVBmF0rPz",
        "outputId": "cb1fac2b-ac8a-404a-a0a9-74e9b09e5095"
      },
      "source": [
        "dataset.describe()"
      ],
      "execution_count": 8,
      "outputs": [
        {
          "output_type": "execute_result",
          "data": {
            "text/html": [
              "<div>\n",
              "<style scoped>\n",
              "    .dataframe tbody tr th:only-of-type {\n",
              "        vertical-align: middle;\n",
              "    }\n",
              "\n",
              "    .dataframe tbody tr th {\n",
              "        vertical-align: top;\n",
              "    }\n",
              "\n",
              "    .dataframe thead th {\n",
              "        text-align: right;\n",
              "    }\n",
              "</style>\n",
              "<table border=\"1\" class=\"dataframe\">\n",
              "  <thead>\n",
              "    <tr style=\"text-align: right;\">\n",
              "      <th></th>\n",
              "      <th>Petrol_tax</th>\n",
              "      <th>Average_income</th>\n",
              "      <th>Paved_Highways</th>\n",
              "      <th>Population_Driver_licence(%)</th>\n",
              "      <th>Petrol_Consumption</th>\n",
              "    </tr>\n",
              "  </thead>\n",
              "  <tbody>\n",
              "    <tr>\n",
              "      <th>count</th>\n",
              "      <td>48.000000</td>\n",
              "      <td>48.000000</td>\n",
              "      <td>48.000000</td>\n",
              "      <td>48.000000</td>\n",
              "      <td>48.000000</td>\n",
              "    </tr>\n",
              "    <tr>\n",
              "      <th>mean</th>\n",
              "      <td>7.668333</td>\n",
              "      <td>4241.833333</td>\n",
              "      <td>5565.416667</td>\n",
              "      <td>0.570333</td>\n",
              "      <td>576.770833</td>\n",
              "    </tr>\n",
              "    <tr>\n",
              "      <th>std</th>\n",
              "      <td>0.950770</td>\n",
              "      <td>573.623768</td>\n",
              "      <td>3491.507166</td>\n",
              "      <td>0.055470</td>\n",
              "      <td>111.885816</td>\n",
              "    </tr>\n",
              "    <tr>\n",
              "      <th>min</th>\n",
              "      <td>5.000000</td>\n",
              "      <td>3063.000000</td>\n",
              "      <td>431.000000</td>\n",
              "      <td>0.451000</td>\n",
              "      <td>344.000000</td>\n",
              "    </tr>\n",
              "    <tr>\n",
              "      <th>25%</th>\n",
              "      <td>7.000000</td>\n",
              "      <td>3739.000000</td>\n",
              "      <td>3110.250000</td>\n",
              "      <td>0.529750</td>\n",
              "      <td>509.500000</td>\n",
              "    </tr>\n",
              "    <tr>\n",
              "      <th>50%</th>\n",
              "      <td>7.500000</td>\n",
              "      <td>4298.000000</td>\n",
              "      <td>4735.500000</td>\n",
              "      <td>0.564500</td>\n",
              "      <td>568.500000</td>\n",
              "    </tr>\n",
              "    <tr>\n",
              "      <th>75%</th>\n",
              "      <td>8.125000</td>\n",
              "      <td>4578.750000</td>\n",
              "      <td>7156.000000</td>\n",
              "      <td>0.595250</td>\n",
              "      <td>632.750000</td>\n",
              "    </tr>\n",
              "    <tr>\n",
              "      <th>max</th>\n",
              "      <td>10.000000</td>\n",
              "      <td>5342.000000</td>\n",
              "      <td>17782.000000</td>\n",
              "      <td>0.724000</td>\n",
              "      <td>968.000000</td>\n",
              "    </tr>\n",
              "  </tbody>\n",
              "</table>\n",
              "</div>"
            ],
            "text/plain": [
              "       Petrol_tax  ...  Petrol_Consumption\n",
              "count   48.000000  ...           48.000000\n",
              "mean     7.668333  ...          576.770833\n",
              "std      0.950770  ...          111.885816\n",
              "min      5.000000  ...          344.000000\n",
              "25%      7.000000  ...          509.500000\n",
              "50%      7.500000  ...          568.500000\n",
              "75%      8.125000  ...          632.750000\n",
              "max     10.000000  ...          968.000000\n",
              "\n",
              "[8 rows x 5 columns]"
            ]
          },
          "metadata": {
            "tags": []
          },
          "execution_count": 8
        }
      ]
    },
    {
      "cell_type": "code",
      "metadata": {
        "colab": {
          "base_uri": "https://localhost:8080/",
          "height": 265
        },
        "id": "CI--gOB70_RI",
        "outputId": "b7a3910e-32ec-4731-f6c7-710766f6b18b"
      },
      "source": [
        "dataset.Petrol_Consumption.hist();"
      ],
      "execution_count": 9,
      "outputs": [
        {
          "output_type": "display_data",
          "data": {
            "image/png": "[encoded data removed]",
            "text/plain": [
              "<Figure size 432x288 with 1 Axes>"
            ]
          },
          "metadata": {
            "tags": [],
            "needs_background": "light"
          }
        }
      ]
    },
    {
      "cell_type": "code",
      "metadata": {
        "colab": {
          "base_uri": "https://localhost:8080/",
          "height": 422
        },
        "id": "osRNMex_1Bxf",
        "outputId": "3918069c-7ad9-4d06-dc96-fe70ea8e7472"
      },
      "source": [
        "import seaborn as sns\r\n",
        "sns.heatmap(dataset.isnull())"
      ],
      "execution_count": 10,
      "outputs": [
        {
          "output_type": "execute_result",
          "data": {
            "text/plain": [
              "<matplotlib.axes._subplots.AxesSubplot at 0x7f27878ecb70>"
            ]
          },
          "metadata": {
            "tags": []
          },
          "execution_count": 10
        },
        {
          "output_type": "display_data",
          "data": {
            "image/png": "[encoded data removed]",
            "text/plain": [
              "<Figure size 432x288 with 2 Axes>"
            ]
          },
          "metadata": {
            "tags": [],
            "needs_background": "light"
          }
        }
      ]
    },
    {
      "cell_type": "code",
      "metadata": {
        "colab": {
          "base_uri": "https://localhost:8080/",
          "height": 920
        },
        "id": "BWtkCmI_1HFd",
        "outputId": "95813a4b-9960-4e99-b516-6830f8638f42"
      },
      "source": [
        "import seaborn as sns\r\n",
        "sns.pairplot(dataset,kind=\"reg\")"
      ],
      "execution_count": 11,
      "outputs": [
        {
          "output_type": "execute_result",
          "data": {
            "text/plain": [
              "<seaborn.axisgrid.PairGrid at 0x7f2784fe6c18>"
            ]
          },
          "metadata": {
            "tags": []
          },
          "execution_count": 11
        },
        {
          "output_type": "display_data",
          "data": {
            "image/png": "[encoded data removed]",
            "text/plain": [
              "<Figure size 900x900 with 30 Axes>"
            ]
          },
          "metadata": {
            "tags": [],
            "needs_background": "light"
          }
        }
      ]
    },
    {
      "cell_type": "code",
      "metadata": {
        "colab": {
          "base_uri": "https://localhost:8080/",
          "height": 458
        },
        "id": "a2dxa9pO1J_O",
        "outputId": "1d817fb9-799b-48c7-e248-288425aa18f7"
      },
      "source": [
        "sns.jointplot(x=\"Petrol_Consumption\",y=\"Average_income\",data=dataset,kind=\"reg\")"
      ],
      "execution_count": 12,
      "outputs": [
        {
          "output_type": "execute_result",
          "data": {
            "text/plain": [
              "<seaborn.axisgrid.JointGrid at 0x7f2783bc2240>"
            ]
          },
          "metadata": {
            "tags": []
          },
          "execution_count": 12
        },
        {
          "output_type": "display_data",
          "data": {
            "image/png": "[encoded data removed]",
            "text/plain": [
              "<Figure size 432x432 with 3 Axes>"
            ]
          },
          "metadata": {
            "tags": [],
            "needs_background": "light"
          }
        }
      ]
    },
    {
      "cell_type": "code",
      "metadata": {
        "colab": {
          "base_uri": "https://localhost:8080/",
          "height": 458
        },
        "id": "GkD6BhrY1MeH",
        "outputId": "63ee80bd-6b6a-4419-f536-d75ca6b63b9c"
      },
      "source": [
        "sns.jointplot(x=\"Petrol_Consumption\",y=\"Petrol_tax\",data=dataset,kind=\"reg\")"
      ],
      "execution_count": 13,
      "outputs": [
        {
          "output_type": "execute_result",
          "data": {
            "text/plain": [
              "<seaborn.axisgrid.JointGrid at 0x7f2781a83ba8>"
            ]
          },
          "metadata": {
            "tags": []
          },
          "execution_count": 13
        },
        {
          "output_type": "display_data",
          "data": {
            "image/png": "[encoded data removed]",
            "text/plain": [
              "<Figure size 432x432 with 3 Axes>"
            ]
          },
          "metadata": {
            "tags": [],
            "needs_background": "light"
          }
        }
      ]
    },
    {
      "cell_type": "markdown",
      "metadata": {
        "id": "s6UAaW_R1nct"
      },
      "source": [
        "### Linear Regression first exploration\r\n"
      ]
    },
    {
      "cell_type": "code",
      "metadata": {
        "colab": {
          "base_uri": "https://localhost:8080/",
          "height": 478
        },
        "id": "W1Nt7E4p2AXO",
        "outputId": "2ad7a7a7-7015-4783-d149-ab01a1fa610a"
      },
      "source": [
        "## Linear Regression alternative 1\r\n",
        "import statsmodels.api as sm\r\n",
        "X=dataset[[\"Petrol_tax\"]]\r\n",
        "X[0:5]\r\n",
        "X=sm.add_constant(X)\r\n",
        "X[0:5]\r\n",
        "y=dataset[\"Petrol_Consumption\"]\r\n",
        "lm=sm.OLS(y,X)\r\n",
        "model=lm.fit()\r\n",
        "model.summary()"
      ],
      "execution_count": 14,
      "outputs": [
        {
          "output_type": "stream",
          "text": [
            "/usr/local/lib/python3.6/dist-packages/statsmodels/tools/_testing.py:19: FutureWarning: pandas.util.testing is deprecated. Use the functions in the public API at pandas.testing instead.\n",
            "  import pandas.util.testing as tm\n"
          ],
          "name": "stderr"
        },
        {
          "output_type": "execute_result",
          "data": {
            "text/html": [
              "<table class=\"simpletable\">\n",
              "<caption>OLS Regression Results</caption>\n",
              "<tr>\n",
              "  <th>Dep. Variable:</th>    <td>Petrol_Consumption</td> <th>  R-squared:         </th> <td>   0.204</td>\n",
              "</tr>\n",
              "<tr>\n",
              "  <th>Model:</th>                    <td>OLS</td>        <th>  Adj. R-squared:    </th> <td>   0.186</td>\n",
              "</tr>\n",
              "<tr>\n",
              "  <th>Method:</th>              <td>Least Squares</td>   <th>  F-statistic:       </th> <td>   11.76</td>\n",
              "</tr>\n",
              "<tr>\n",
              "  <th>Date:</th>              <td>Sun, 27 Dec 2020</td>  <th>  Prob (F-statistic):</th>  <td>0.00128</td>\n",
              "</tr>\n",
              "<tr>\n",
              "  <th>Time:</th>                  <td>20:19:43</td>      <th>  Log-Likelihood:    </th> <td> -288.58</td>\n",
              "</tr>\n",
              "<tr>\n",
              "  <th>No. Observations:</th>       <td>    48</td>       <th>  AIC:               </th> <td>   581.2</td>\n",
              "</tr>\n",
              "<tr>\n",
              "  <th>Df Residuals:</th>           <td>    46</td>       <th>  BIC:               </th> <td>   584.9</td>\n",
              "</tr>\n",
              "<tr>\n",
              "  <th>Df Model:</th>               <td>     1</td>       <th>                     </th>     <td> </td>   \n",
              "</tr>\n",
              "<tr>\n",
              "  <th>Covariance Type:</th>       <td>nonrobust</td>     <th>                     </th>     <td> </td>   \n",
              "</tr>\n",
              "</table>\n",
              "<table class=\"simpletable\">\n",
              "<tr>\n",
              "       <td></td>         <th>coef</th>     <th>std err</th>      <th>t</th>      <th>P>|t|</th>  <th>[0.025</th>    <th>0.975]</th>  \n",
              "</tr>\n",
              "<tr>\n",
              "  <th>const</th>      <td>  984.0076</td> <td>  119.624</td> <td>    8.226</td> <td> 0.000</td> <td>  743.218</td> <td> 1224.797</td>\n",
              "</tr>\n",
              "<tr>\n",
              "  <th>Petrol_tax</th> <td>  -53.1063</td> <td>   15.484</td> <td>   -3.430</td> <td> 0.001</td> <td>  -84.273</td> <td>  -21.939</td>\n",
              "</tr>\n",
              "</table>\n",
              "<table class=\"simpletable\">\n",
              "<tr>\n",
              "  <th>Omnibus:</th>       <td>13.679</td> <th>  Durbin-Watson:     </th> <td>   1.329</td>\n",
              "</tr>\n",
              "<tr>\n",
              "  <th>Prob(Omnibus):</th> <td> 0.001</td> <th>  Jarque-Bera (JB):  </th> <td>  19.100</td>\n",
              "</tr>\n",
              "<tr>\n",
              "  <th>Skew:</th>          <td> 0.899</td> <th>  Prob(JB):          </th> <td>7.12e-05</td>\n",
              "</tr>\n",
              "<tr>\n",
              "  <th>Kurtosis:</th>      <td> 5.514</td> <th>  Cond. No.          </th> <td>    64.5</td>\n",
              "</tr>\n",
              "</table><br/><br/>Warnings:<br/>[1] Standard Errors assume that the covariance matrix of the errors is correctly specified."
            ],
            "text/plain": [
              "<class 'statsmodels.iolib.summary.Summary'>\n",
              "\"\"\"\n",
              "                            OLS Regression Results                            \n",
              "==============================================================================\n",
              "Dep. Variable:     Petrol_Consumption   R-squared:                       0.204\n",
              "Model:                            OLS   Adj. R-squared:                  0.186\n",
              "Method:                 Least Squares   F-statistic:                     11.76\n",
              "Date:                Sun, 27 Dec 2020   Prob (F-statistic):            0.00128\n",
              "Time:                        20:19:43   Log-Likelihood:                -288.58\n",
              "No. Observations:                  48   AIC:                             581.2\n",
              "Df Residuals:                      46   BIC:                             584.9\n",
              "Df Model:                           1                                         \n",
              "Covariance Type:            nonrobust                                         \n",
              "==============================================================================\n",
              "                 coef    std err          t      P>|t|      [0.025      0.975]\n",
              "------------------------------------------------------------------------------\n",
              "const        984.0076    119.624      8.226      0.000     743.218    1224.797\n",
              "Petrol_tax   -53.1063     15.484     -3.430      0.001     -84.273     -21.939\n",
              "==============================================================================\n",
              "Omnibus:                       13.679   Durbin-Watson:                   1.329\n",
              "Prob(Omnibus):                  0.001   Jarque-Bera (JB):               19.100\n",
              "Skew:                           0.899   Prob(JB):                     7.12e-05\n",
              "Kurtosis:                       5.514   Cond. No.                         64.5\n",
              "==============================================================================\n",
              "\n",
              "Warnings:\n",
              "[1] Standard Errors assume that the covariance matrix of the errors is correctly specified.\n",
              "\"\"\""
            ]
          },
          "metadata": {
            "tags": []
          },
          "execution_count": 14
        }
      ]
    },
    {
      "cell_type": "code",
      "metadata": {
        "colab": {
          "base_uri": "https://localhost:8080/",
          "height": 444
        },
        "id": "3MRfR-WT2AmK",
        "outputId": "b2f6f3e2-a3e1-4b25-bd81-f8b438efeb4c"
      },
      "source": [
        "## Linear regression alternative 2\r\n",
        "import statsmodels.formula.api as smf\r\n",
        "lm=smf.ols(\"Petrol_Consumption ~ Petrol_tax\",dataset)\r\n",
        "model=lm.fit()\r\n",
        "model.summary()"
      ],
      "execution_count": 15,
      "outputs": [
        {
          "output_type": "execute_result",
          "data": {
            "text/html": [
              "<table class=\"simpletable\">\n",
              "<caption>OLS Regression Results</caption>\n",
              "<tr>\n",
              "  <th>Dep. Variable:</th>    <td>Petrol_Consumption</td> <th>  R-squared:         </th> <td>   0.204</td>\n",
              "</tr>\n",
              "<tr>\n",
              "  <th>Model:</th>                    <td>OLS</td>        <th>  Adj. R-squared:    </th> <td>   0.186</td>\n",
              "</tr>\n",
              "<tr>\n",
              "  <th>Method:</th>              <td>Least Squares</td>   <th>  F-statistic:       </th> <td>   11.76</td>\n",
              "</tr>\n",
              "<tr>\n",
              "  <th>Date:</th>              <td>Sun, 27 Dec 2020</td>  <th>  Prob (F-statistic):</th>  <td>0.00128</td>\n",
              "</tr>\n",
              "<tr>\n",
              "  <th>Time:</th>                  <td>20:19:43</td>      <th>  Log-Likelihood:    </th> <td> -288.58</td>\n",
              "</tr>\n",
              "<tr>\n",
              "  <th>No. Observations:</th>       <td>    48</td>       <th>  AIC:               </th> <td>   581.2</td>\n",
              "</tr>\n",
              "<tr>\n",
              "  <th>Df Residuals:</th>           <td>    46</td>       <th>  BIC:               </th> <td>   584.9</td>\n",
              "</tr>\n",
              "<tr>\n",
              "  <th>Df Model:</th>               <td>     1</td>       <th>                     </th>     <td> </td>   \n",
              "</tr>\n",
              "<tr>\n",
              "  <th>Covariance Type:</th>       <td>nonrobust</td>     <th>                     </th>     <td> </td>   \n",
              "</tr>\n",
              "</table>\n",
              "<table class=\"simpletable\">\n",
              "<tr>\n",
              "       <td></td>         <th>coef</th>     <th>std err</th>      <th>t</th>      <th>P>|t|</th>  <th>[0.025</th>    <th>0.975]</th>  \n",
              "</tr>\n",
              "<tr>\n",
              "  <th>Intercept</th>  <td>  984.0076</td> <td>  119.624</td> <td>    8.226</td> <td> 0.000</td> <td>  743.218</td> <td> 1224.797</td>\n",
              "</tr>\n",
              "<tr>\n",
              "  <th>Petrol_tax</th> <td>  -53.1063</td> <td>   15.484</td> <td>   -3.430</td> <td> 0.001</td> <td>  -84.273</td> <td>  -21.939</td>\n",
              "</tr>\n",
              "</table>\n",
              "<table class=\"simpletable\">\n",
              "<tr>\n",
              "  <th>Omnibus:</th>       <td>13.679</td> <th>  Durbin-Watson:     </th> <td>   1.329</td>\n",
              "</tr>\n",
              "<tr>\n",
              "  <th>Prob(Omnibus):</th> <td> 0.001</td> <th>  Jarque-Bera (JB):  </th> <td>  19.100</td>\n",
              "</tr>\n",
              "<tr>\n",
              "  <th>Skew:</th>          <td> 0.899</td> <th>  Prob(JB):          </th> <td>7.12e-05</td>\n",
              "</tr>\n",
              "<tr>\n",
              "  <th>Kurtosis:</th>      <td> 5.514</td> <th>  Cond. No.          </th> <td>    64.5</td>\n",
              "</tr>\n",
              "</table><br/><br/>Warnings:<br/>[1] Standard Errors assume that the covariance matrix of the errors is correctly specified."
            ],
            "text/plain": [
              "<class 'statsmodels.iolib.summary.Summary'>\n",
              "\"\"\"\n",
              "                            OLS Regression Results                            \n",
              "==============================================================================\n",
              "Dep. Variable:     Petrol_Consumption   R-squared:                       0.204\n",
              "Model:                            OLS   Adj. R-squared:                  0.186\n",
              "Method:                 Least Squares   F-statistic:                     11.76\n",
              "Date:                Sun, 27 Dec 2020   Prob (F-statistic):            0.00128\n",
              "Time:                        20:19:43   Log-Likelihood:                -288.58\n",
              "No. Observations:                  48   AIC:                             581.2\n",
              "Df Residuals:                      46   BIC:                             584.9\n",
              "Df Model:                           1                                         \n",
              "Covariance Type:            nonrobust                                         \n",
              "==============================================================================\n",
              "                 coef    std err          t      P>|t|      [0.025      0.975]\n",
              "------------------------------------------------------------------------------\n",
              "Intercept    984.0076    119.624      8.226      0.000     743.218    1224.797\n",
              "Petrol_tax   -53.1063     15.484     -3.430      0.001     -84.273     -21.939\n",
              "==============================================================================\n",
              "Omnibus:                       13.679   Durbin-Watson:                   1.329\n",
              "Prob(Omnibus):                  0.001   Jarque-Bera (JB):               19.100\n",
              "Skew:                           0.899   Prob(JB):                     7.12e-05\n",
              "Kurtosis:                       5.514   Cond. No.                         64.5\n",
              "==============================================================================\n",
              "\n",
              "Warnings:\n",
              "[1] Standard Errors assume that the covariance matrix of the errors is correctly specified.\n",
              "\"\"\""
            ]
          },
          "metadata": {
            "tags": []
          },
          "execution_count": 15
        }
      ]
    },
    {
      "cell_type": "code",
      "metadata": {
        "colab": {
          "base_uri": "https://localhost:8080/"
        },
        "id": "jjHdPM6s2AwO",
        "outputId": "eb284127-792a-412e-d06c-d68eb6a1a5b5"
      },
      "source": [
        "model.params"
      ],
      "execution_count": 16,
      "outputs": [
        {
          "output_type": "execute_result",
          "data": {
            "text/plain": [
              "Intercept     984.007628\n",
              "Petrol_tax    -53.106298\n",
              "dtype: float64"
            ]
          },
          "metadata": {
            "tags": []
          },
          "execution_count": 16
        }
      ]
    },
    {
      "cell_type": "code",
      "metadata": {
        "colab": {
          "base_uri": "https://localhost:8080/"
        },
        "id": "ltMRNVgQ2A9c",
        "outputId": "f7f193be-2a91-4dcf-94e0-30e4786e5dc3"
      },
      "source": [
        "print(model.summary().tables[1])"
      ],
      "execution_count": 17,
      "outputs": [
        {
          "output_type": "stream",
          "text": [
            "==============================================================================\n",
            "                 coef    std err          t      P>|t|      [0.025      0.975]\n",
            "------------------------------------------------------------------------------\n",
            "Intercept    984.0076    119.624      8.226      0.000     743.218    1224.797\n",
            "Petrol_tax   -53.1063     15.484     -3.430      0.001     -84.273     -21.939\n",
            "==============================================================================\n"
          ],
          "name": "stdout"
        }
      ]
    },
    {
      "cell_type": "code",
      "metadata": {
        "colab": {
          "base_uri": "https://localhost:8080/",
          "height": 111
        },
        "id": "kxr8AL1q2BGA",
        "outputId": "d580ab17-c39e-4eb3-8ef3-265f479023be"
      },
      "source": [
        "## Confidence Interval for data's parameters\r\n",
        "model.conf_int()"
      ],
      "execution_count": 18,
      "outputs": [
        {
          "output_type": "execute_result",
          "data": {
            "text/html": [
              "<div>\n",
              "<style scoped>\n",
              "    .dataframe tbody tr th:only-of-type {\n",
              "        vertical-align: middle;\n",
              "    }\n",
              "\n",
              "    .dataframe tbody tr th {\n",
              "        vertical-align: top;\n",
              "    }\n",
              "\n",
              "    .dataframe thead th {\n",
              "        text-align: right;\n",
              "    }\n",
              "</style>\n",
              "<table border=\"1\" class=\"dataframe\">\n",
              "  <thead>\n",
              "    <tr style=\"text-align: right;\">\n",
              "      <th></th>\n",
              "      <th>0</th>\n",
              "      <th>1</th>\n",
              "    </tr>\n",
              "  </thead>\n",
              "  <tbody>\n",
              "    <tr>\n",
              "      <th>Intercept</th>\n",
              "      <td>743.21779</td>\n",
              "      <td>1224.797465</td>\n",
              "    </tr>\n",
              "    <tr>\n",
              "      <th>Petrol_tax</th>\n",
              "      <td>-84.27315</td>\n",
              "      <td>-21.939446</td>\n",
              "    </tr>\n",
              "  </tbody>\n",
              "</table>\n",
              "</div>"
            ],
            "text/plain": [
              "                    0            1\n",
              "Intercept   743.21779  1224.797465\n",
              "Petrol_tax  -84.27315   -21.939446"
            ]
          },
          "metadata": {
            "tags": []
          },
          "execution_count": 18
        }
      ]
    },
    {
      "cell_type": "code",
      "metadata": {
        "colab": {
          "base_uri": "https://localhost:8080/"
        },
        "id": "_DUHysuv2BOC",
        "outputId": "4cac103f-a58d-431b-e4a6-e5055acd51c7"
      },
      "source": [
        "## Model's f p-value\r\n",
        "model.f_pvalue"
      ],
      "execution_count": 19,
      "outputs": [
        {
          "output_type": "execute_result",
          "data": {
            "text/plain": [
              "0.0012848906734289288"
            ]
          },
          "metadata": {
            "tags": []
          },
          "execution_count": 19
        }
      ]
    },
    {
      "cell_type": "code",
      "metadata": {
        "colab": {
          "base_uri": "https://localhost:8080/"
        },
        "id": "NkGe6UgA2QEh",
        "outputId": "3f4ceca5-e64b-4e06-fdf8-6ba997bc6c04"
      },
      "source": [
        "print(\"f_pvalue: \",\"%.4f\"%model.f_pvalue)"
      ],
      "execution_count": 20,
      "outputs": [
        {
          "output_type": "stream",
          "text": [
            "f_pvalue:  0.0013\n"
          ],
          "name": "stdout"
        }
      ]
    },
    {
      "cell_type": "code",
      "metadata": {
        "colab": {
          "base_uri": "https://localhost:8080/"
        },
        "id": "Udn9S2Tt2QLt",
        "outputId": "421c44db-50db-462f-ab65-f45d225c4c32"
      },
      "source": [
        "print(\"fvalue: \",\"%.2f\"%model.fvalue)"
      ],
      "execution_count": 21,
      "outputs": [
        {
          "output_type": "stream",
          "text": [
            "fvalue:  11.76\n"
          ],
          "name": "stdout"
        }
      ]
    },
    {
      "cell_type": "code",
      "metadata": {
        "colab": {
          "base_uri": "https://localhost:8080/"
        },
        "id": "wZCKTfu62QQ9",
        "outputId": "71c74a29-07b0-40b3-9344-f3a49acbabfd"
      },
      "source": [
        "## T value for intercept\r\n",
        "print(\"tvalue: \",\"%.2f\"%model.tvalues[0:1])"
      ],
      "execution_count": 22,
      "outputs": [
        {
          "output_type": "stream",
          "text": [
            "tvalue:  8.23\n"
          ],
          "name": "stdout"
        }
      ]
    },
    {
      "cell_type": "code",
      "metadata": {
        "colab": {
          "base_uri": "https://localhost:8080/"
        },
        "id": "AEnk-6iZ2QWc",
        "outputId": "41ade163-ecd2-45f4-885c-da9f832c6ac5"
      },
      "source": [
        "## T value for first paramater Petrol Tax\r\n",
        "print(\"tvalue: \",\"%.2f\"%model.tvalues[1:2])"
      ],
      "execution_count": 23,
      "outputs": [
        {
          "output_type": "stream",
          "text": [
            "tvalue:  -3.43\n"
          ],
          "name": "stdout"
        }
      ]
    },
    {
      "cell_type": "code",
      "metadata": {
        "colab": {
          "base_uri": "https://localhost:8080/"
        },
        "id": "_wuGyoD22Qat",
        "outputId": "d3add8b9-db36-4a87-ec4b-65db7f433ecd"
      },
      "source": [
        "## R squared score - representing score \r\n",
        "model.rsquared_adj"
      ],
      "execution_count": 24,
      "outputs": [
        {
          "output_type": "execute_result",
          "data": {
            "text/plain": [
              "0.18634201474616507"
            ]
          },
          "metadata": {
            "tags": []
          },
          "execution_count": 24
        }
      ]
    },
    {
      "cell_type": "code",
      "metadata": {
        "colab": {
          "base_uri": "https://localhost:8080/"
        },
        "id": "DoUYiN9e2Qgq",
        "outputId": "aa5e0da1-27f8-4664-a72c-b12f663c0771"
      },
      "source": [
        "for i in range(10):\r\n",
        "    est=(984.6084+(-53.4869*i))\r\n",
        "    print(\"{}\".format(i) +\". estimation: \"+str(est))"
      ],
      "execution_count": 25,
      "outputs": [
        {
          "output_type": "stream",
          "text": [
            "0. estimation: 984.6084\n",
            "1. estimation: 931.1215\n",
            "2. estimation: 877.6346\n",
            "3. estimation: 824.1477\n",
            "4. estimation: 770.6608\n",
            "5. estimation: 717.1739\n",
            "6. estimation: 663.6869999999999\n",
            "7. estimation: 610.2001\n",
            "8. estimation: 556.7131999999999\n",
            "9. estimation: 503.2263\n"
          ],
          "name": "stdout"
        }
      ]
    },
    {
      "cell_type": "code",
      "metadata": {
        "colab": {
          "base_uri": "https://localhost:8080/"
        },
        "id": "15g_g_CK2Qlo",
        "outputId": "e83197e6-5cb2-4764-e2eb-49ce0a26a3a5"
      },
      "source": [
        "## Linear Regression Model\r\n",
        "print(\"Consumption of petrol = \"+str(\"%.2f\"%model.params[0])+ \" + Petrol Tax \"+ \"* \"+ str(\"%.2f\"%model.params[1]))"
      ],
      "execution_count": 26,
      "outputs": [
        {
          "output_type": "stream",
          "text": [
            "Consumption of petrol = 984.01 + Petrol Tax * -53.11\n"
          ],
          "name": "stdout"
        }
      ]
    },
    {
      "cell_type": "code",
      "metadata": {
        "colab": {
          "base_uri": "https://localhost:8080/",
          "height": 366
        },
        "id": "GZiJV3oQ2QqJ",
        "outputId": "51f69c72-d17f-49b4-f7c5-26b74ac08fc8"
      },
      "source": [
        "## Addition to all of these, you can see the details in the plot attached below. \r\n",
        "## There is a negative regression between Consumption of petrol and Petrol Tax...\r\n",
        "\r\n",
        "\r\n",
        "g = sns.regplot(dataset[\"Petrol_Consumption\"], dataset[\"Petrol_tax\"], ci=None, scatter_kws={'color':'r', 's':9})\r\n",
        "g.set_title(\"Model Equation: Consumption of petrol = 984.61 + Petrol Tax*-53.49\")\r\n",
        "g.set_ylabel(\"Petrol Tax\")\r\n",
        "g.set_xlabel(\"Consumption of petrol\")"
      ],
      "execution_count": 27,
      "outputs": [
        {
          "output_type": "stream",
          "text": [
            "/usr/local/lib/python3.6/dist-packages/seaborn/_decorators.py:43: FutureWarning: Pass the following variables as keyword args: x, y. From version 0.12, the only valid positional argument will be `data`, and passing other arguments without an explicit keyword will result in an error or misinterpretation.\n",
            "  FutureWarning\n"
          ],
          "name": "stderr"
        },
        {
          "output_type": "execute_result",
          "data": {
            "text/plain": [
              "Text(0.5, 0, 'Consumption of petrol')"
            ]
          },
          "metadata": {
            "tags": []
          },
          "execution_count": 27
        },
        {
          "output_type": "display_data",
          "data": {
            "image/png": "[encoded data removed]",
            "text/plain": [
              "<Figure size 432x288 with 1 Axes>"
            ]
          },
          "metadata": {
            "tags": [],
            "needs_background": "light"
          }
        }
      ]
    },
    {
      "cell_type": "code",
      "metadata": {
        "id": "LcLuvPRG2Que"
      },
      "source": [
        ""
      ],
      "execution_count": 27,
      "outputs": []
    },
    {
      "cell_type": "markdown",
      "metadata": {
        "id": "k1hVd9pPwt9G"
      },
      "source": [
        "Discussion:\r\n",
        "Suppose we want to do Linear Regression on our dataset to get an estimate, based on mean squared error, of how well our model will perform on data outside our dataset.\r\n",
        "\r\n",
        "Suppose also that our data is split into three folds: Fold 1, Fold 2, and Fold 3.\r\n",
        "\r\n",
        "What would the steps be, in English, to do this?\r\n",
        "\r\n",
        "Your response below\r\n",
        "\r\n",
        "Coding this up\r\n",
        "The KFold object in SciKit Learn tells the cross validation object (see below) how to split up the data:"
      ]
    },
    {
      "cell_type": "code",
      "metadata": {
        "id": "eq7r3PQTv9Tf"
      },
      "source": [
        "X = dataset.drop('Petrol_Consumption', axis=1)\r\n",
        "y = dataset.Petrol_Consumption"
      ],
      "execution_count": 28,
      "outputs": []
    },
    {
      "cell_type": "code",
      "metadata": {
        "id": "pBup1zOGv9Wd"
      },
      "source": [
        "kf = KFold(shuffle=True, random_state=72018, n_splits=3)"
      ],
      "execution_count": 29,
      "outputs": []
    },
    {
      "cell_type": "code",
      "metadata": {
        "colab": {
          "base_uri": "https://localhost:8080/"
        },
        "id": "KUGkdNGNv9Z1",
        "outputId": "23c1df16-cdf4-4edd-e2bd-85a1adac1172"
      },
      "source": [
        "kf.split(X)"
      ],
      "execution_count": 30,
      "outputs": [
        {
          "output_type": "execute_result",
          "data": {
            "text/plain": [
              "<generator object _BaseKFold.split at 0x7f27778e5eb8>"
            ]
          },
          "metadata": {
            "tags": []
          },
          "execution_count": 30
        }
      ]
    },
    {
      "cell_type": "code",
      "metadata": {
        "colab": {
          "base_uri": "https://localhost:8080/"
        },
        "id": "55rHzXRhv9c9",
        "outputId": "3727921a-6374-455e-80c9-e5dd1827e088"
      },
      "source": [
        "X.shape"
      ],
      "execution_count": 31,
      "outputs": [
        {
          "output_type": "execute_result",
          "data": {
            "text/plain": [
              "(48, 4)"
            ]
          },
          "metadata": {
            "tags": []
          },
          "execution_count": 31
        }
      ]
    },
    {
      "cell_type": "code",
      "metadata": {
        "colab": {
          "base_uri": "https://localhost:8080/",
          "height": 204
        },
        "id": "yG-cT-yzv9gJ",
        "outputId": "75b367ae-47d0-4602-e725-b9a508c1386d"
      },
      "source": [
        "X.tail()"
      ],
      "execution_count": 32,
      "outputs": [
        {
          "output_type": "execute_result",
          "data": {
            "text/html": [
              "<div>\n",
              "<style scoped>\n",
              "    .dataframe tbody tr th:only-of-type {\n",
              "        vertical-align: middle;\n",
              "    }\n",
              "\n",
              "    .dataframe tbody tr th {\n",
              "        vertical-align: top;\n",
              "    }\n",
              "\n",
              "    .dataframe thead th {\n",
              "        text-align: right;\n",
              "    }\n",
              "</style>\n",
              "<table border=\"1\" class=\"dataframe\">\n",
              "  <thead>\n",
              "    <tr style=\"text-align: right;\">\n",
              "      <th></th>\n",
              "      <th>Petrol_tax</th>\n",
              "      <th>Average_income</th>\n",
              "      <th>Paved_Highways</th>\n",
              "      <th>Population_Driver_licence(%)</th>\n",
              "    </tr>\n",
              "  </thead>\n",
              "  <tbody>\n",
              "    <tr>\n",
              "      <th>43</th>\n",
              "      <td>7.0</td>\n",
              "      <td>3745</td>\n",
              "      <td>2611</td>\n",
              "      <td>0.508</td>\n",
              "    </tr>\n",
              "    <tr>\n",
              "      <th>44</th>\n",
              "      <td>6.0</td>\n",
              "      <td>5215</td>\n",
              "      <td>2302</td>\n",
              "      <td>0.672</td>\n",
              "    </tr>\n",
              "    <tr>\n",
              "      <th>45</th>\n",
              "      <td>9.0</td>\n",
              "      <td>4476</td>\n",
              "      <td>3942</td>\n",
              "      <td>0.571</td>\n",
              "    </tr>\n",
              "    <tr>\n",
              "      <th>46</th>\n",
              "      <td>7.0</td>\n",
              "      <td>4296</td>\n",
              "      <td>4083</td>\n",
              "      <td>0.623</td>\n",
              "    </tr>\n",
              "    <tr>\n",
              "      <th>47</th>\n",
              "      <td>7.0</td>\n",
              "      <td>5002</td>\n",
              "      <td>9794</td>\n",
              "      <td>0.593</td>\n",
              "    </tr>\n",
              "  </tbody>\n",
              "</table>\n",
              "</div>"
            ],
            "text/plain": [
              "    Petrol_tax  Average_income  Paved_Highways  Population_Driver_licence(%)\n",
              "43         7.0            3745            2611                         0.508\n",
              "44         6.0            5215            2302                         0.672\n",
              "45         9.0            4476            3942                         0.571\n",
              "46         7.0            4296            4083                         0.623\n",
              "47         7.0            5002            9794                         0.593"
            ]
          },
          "metadata": {
            "tags": []
          },
          "execution_count": 32
        }
      ]
    },
    {
      "cell_type": "code",
      "metadata": {
        "colab": {
          "base_uri": "https://localhost:8080/"
        },
        "id": "R4JccW4Yxcma",
        "outputId": "401c6ff8-1360-4f27-e8bd-d334f4650aaf"
      },
      "source": [
        "for train_index, test_index in kf.split(X):\r\n",
        "    print(\"Train index:\", train_index[:10], len(train_index))\r\n",
        "    print(\"Test index:\",test_index[:10], len(test_index))\r\n",
        "    print('')"
      ],
      "execution_count": 33,
      "outputs": [
        {
          "output_type": "stream",
          "text": [
            "Train index: [ 0  1  2  4  5  7  8 10 12 15] 32\n",
            "Test index: [ 3  6  9 11 13 14 18 19 25 27] 16\n",
            "\n",
            "Train index: [ 2  3  5  6  8  9 10 11 12 13] 32\n",
            "Test index: [ 0  1  4  7 15 17 26 28 30 31] 16\n",
            "\n",
            "Train index: [ 0  1  3  4  6  7  9 11 13 14] 32\n",
            "Test index: [ 2  5  8 10 12 16 20 21 22 23] 16\n",
            "\n"
          ],
          "name": "stdout"
        }
      ]
    },
    {
      "cell_type": "code",
      "metadata": {
        "colab": {
          "base_uri": "https://localhost:8080/"
        },
        "id": "Hto8IL1Kxcpi",
        "outputId": "a00703ad-b60a-4f67-a79a-bcb8275bbed6"
      },
      "source": [
        "#from sklearn.metrics import r2_score, mean_squared_error\r\n",
        "\r\n",
        "scores = []\r\n",
        "lr = LinearRegression()\r\n",
        "\r\n",
        "for train_index, test_index in kf.split(X):\r\n",
        "    X_train, X_test, y_train, y_test = (X.iloc[train_index, :], \r\n",
        "                                        X.iloc[test_index, :], \r\n",
        "                                        y[train_index], \r\n",
        "                                        y[test_index])\r\n",
        "    \r\n",
        "    lr.fit(X_train, y_train)\r\n",
        "        \r\n",
        "    y_pred = lr.predict(X_test)\r\n",
        "\r\n",
        "    score = r2_score(y_test.values, y_pred)\r\n",
        "    \r\n",
        "    scores.append(score)\r\n",
        "    \r\n",
        "scores"
      ],
      "execution_count": 34,
      "outputs": [
        {
          "output_type": "execute_result",
          "data": {
            "text/plain": [
              "[0.7017166726032875, 0.5408566834972458, 0.5583743341459353]"
            ]
          },
          "metadata": {
            "tags": []
          },
          "execution_count": 34
        }
      ]
    },
    {
      "cell_type": "markdown",
      "metadata": {
        "id": "Lk_kf5Z5xwLG"
      },
      "source": [
        "### Discussion (Part 2): \r\n",
        "\r\n",
        "Now suppose we want to do the same, but appropriately scaling our data as we go through the folds.\r\n",
        "\r\n",
        "What would the steps be _now_?"
      ]
    },
    {
      "cell_type": "code",
      "metadata": {
        "id": "bw-2MD7IxcsU"
      },
      "source": [
        "scores = []\r\n",
        "\r\n",
        "lr = LinearRegression()\r\n",
        "s = StandardScaler()\r\n",
        "\r\n",
        "for train_index, test_index in kf.split(X):\r\n",
        "    X_train, X_test, y_train, y_test = (X.iloc[train_index, :], \r\n",
        "                                        X.iloc[test_index, :], \r\n",
        "                                        y[train_index], \r\n",
        "                                        y[test_index])\r\n",
        "    \r\n",
        "    X_train_s = s.fit_transform(X_train)\r\n",
        "    \r\n",
        "    lr.fit(X_train_s, y_train)\r\n",
        "    \r\n",
        "    X_test_s = s.transform(X_test)\r\n",
        "    \r\n",
        "    y_pred = lr.predict(X_test_s)\r\n",
        "\r\n",
        "    score = r2_score(y_test.values, y_pred)\r\n",
        "    \r\n",
        "    scores.append(score)"
      ],
      "execution_count": 35,
      "outputs": []
    },
    {
      "cell_type": "code",
      "metadata": {
        "colab": {
          "base_uri": "https://localhost:8080/"
        },
        "id": "RjjNWmZUxcu_",
        "outputId": "a6efb671-1c9b-4769-e8d8-d7461c9ab151"
      },
      "source": [
        "scores"
      ],
      "execution_count": 36,
      "outputs": [
        {
          "output_type": "execute_result",
          "data": {
            "text/plain": [
              "[0.7017166726032883, 0.5408566834972457, 0.5583743341459347]"
            ]
          },
          "metadata": {
            "tags": []
          },
          "execution_count": 36
        }
      ]
    },
    {
      "cell_type": "markdown",
      "metadata": {
        "id": "AhVTjMguyHIl"
      },
      "source": [
        "(same scores, because for vanilla linear regression with no regularization, scaling actually doesn't matter for performance)"
      ]
    },
    {
      "cell_type": "markdown",
      "metadata": {
        "id": "4tX_lOxLyMVm"
      },
      "source": [
        "This is getting quite cumbersome! \r\n",
        "\r\n",
        "_Very_ luckily, SciKit Learn has some wonderful functions that handle a lot of this for us."
      ]
    },
    {
      "cell_type": "markdown",
      "metadata": {
        "id": "4ez0bJOiyP25"
      },
      "source": [
        "### `Pipeline` and `cross_val_predict`"
      ]
    },
    {
      "cell_type": "markdown",
      "metadata": {
        "id": "A2_jQHtbyTk6"
      },
      "source": [
        "Pipeline lets you chain together multiple operators on your data that both have a fit method."
      ]
    },
    {
      "cell_type": "code",
      "metadata": {
        "id": "MV-KKYSSxcx6"
      },
      "source": [
        "s = StandardScaler()\r\n",
        "lr = LinearRegression()"
      ],
      "execution_count": 37,
      "outputs": []
    },
    {
      "cell_type": "markdown",
      "metadata": {
        "id": "gGCTfj9ayalu"
      },
      "source": [
        "### Combine multiple processing steps into a Pipeline\r\n",
        "A pipeline contains a series of steps, where a step is (\"name of step\", actual_model). The \"name of step\" string is only used to help you identify which step you are on, and to allow you to specify parameters at that step."
      ]
    },
    {
      "cell_type": "code",
      "metadata": {
        "id": "vM0Uy3kyxc0d"
      },
      "source": [
        "estimator = Pipeline([(\"scaler\", s),\r\n",
        "                      (\"regression\", lr)])"
      ],
      "execution_count": 38,
      "outputs": []
    },
    {
      "cell_type": "code",
      "metadata": {
        "colab": {
          "base_uri": "https://localhost:8080/"
        },
        "id": "u5T3PsU2xc3i",
        "outputId": "29566228-f207-4fe9-f088-c0601d72ded1"
      },
      "source": [
        "estimator.fit(X_train,y_train)"
      ],
      "execution_count": 39,
      "outputs": [
        {
          "output_type": "execute_result",
          "data": {
            "text/plain": [
              "Pipeline(memory=None,\n",
              "         steps=[('scaler',\n",
              "                 StandardScaler(copy=True, with_mean=True, with_std=True)),\n",
              "                ('regression',\n",
              "                 LinearRegression(copy_X=True, fit_intercept=True, n_jobs=None,\n",
              "                                  normalize=False))],\n",
              "         verbose=False)"
            ]
          },
          "metadata": {
            "tags": []
          },
          "execution_count": 39
        }
      ]
    },
    {
      "cell_type": "code",
      "metadata": {
        "colab": {
          "base_uri": "https://localhost:8080/"
        },
        "id": "oSfn2Ku8xc6g",
        "outputId": "50b269ef-c50b-41fd-9a23-6eb97135ee2f"
      },
      "source": [
        "estimator.predict(X_test)"
      ],
      "execution_count": 40,
      "outputs": [
        {
          "output_type": "execute_result",
          "data": {
            "text/plain": [
              "array([560.00408745, 404.30933052, 477.45432197, 487.29144751,\n",
              "       564.27043016, 599.85130396, 707.60559346, 561.62671887,\n",
              "       388.20749602, 436.19633625, 489.69871415, 445.61335864,\n",
              "       606.70602534, 647.20695471, 731.68248338, 574.49672119])"
            ]
          },
          "metadata": {
            "tags": []
          },
          "execution_count": 40
        }
      ]
    },
    {
      "cell_type": "markdown",
      "metadata": {
        "id": "G-MdB5Mvz-DI"
      },
      "source": [
        "### cross_val_predict¶\r\n",
        "cross_val_predict is a function that does K-fold cross validation for us, appropriately fitting and transforming at every step of the way."
      ]
    },
    {
      "cell_type": "code",
      "metadata": {
        "colab": {
          "base_uri": "https://localhost:8080/"
        },
        "id": "E3YvUAtQxc-5",
        "outputId": "35b5b3ca-a951-45ee-ab48-50c7bca09823"
      },
      "source": [
        "kf"
      ],
      "execution_count": 41,
      "outputs": [
        {
          "output_type": "execute_result",
          "data": {
            "text/plain": [
              "KFold(n_splits=3, random_state=72018, shuffle=True)"
            ]
          },
          "metadata": {
            "tags": []
          },
          "execution_count": 41
        }
      ]
    },
    {
      "cell_type": "code",
      "metadata": {
        "id": "OuajZzFcxdDa"
      },
      "source": [
        "predictions = cross_val_predict(estimator, X, y, cv=kf)"
      ],
      "execution_count": 42,
      "outputs": []
    },
    {
      "cell_type": "code",
      "metadata": {
        "colab": {
          "base_uri": "https://localhost:8080/"
        },
        "id": "nKUoU51CxdFs",
        "outputId": "62390e70-d909-4ab5-bf8f-2ef6b98f5686"
      },
      "source": [
        "len(predictions)"
      ],
      "execution_count": 43,
      "outputs": [
        {
          "output_type": "execute_result",
          "data": {
            "text/plain": [
              "48"
            ]
          },
          "metadata": {
            "tags": []
          },
          "execution_count": 43
        }
      ]
    },
    {
      "cell_type": "code",
      "metadata": {
        "colab": {
          "base_uri": "https://localhost:8080/"
        },
        "id": "q6KtAwowxdIC",
        "outputId": "4dc35c96-8340-4c5e-f64b-d8defbfb5ecd"
      },
      "source": [
        "r2_score(y, predictions)"
      ],
      "execution_count": 44,
      "outputs": [
        {
          "output_type": "execute_result",
          "data": {
            "text/plain": [
              "0.6105004390528358"
            ]
          },
          "metadata": {
            "tags": []
          },
          "execution_count": 44
        }
      ]
    },
    {
      "cell_type": "code",
      "metadata": {
        "colab": {
          "base_uri": "https://localhost:8080/"
        },
        "id": "Goz3Gvn9xdKk",
        "outputId": "3e79719a-ae22-49b4-cc09-2f4252f2593f"
      },
      "source": [
        "np.mean(scores) # almost identical!"
      ],
      "execution_count": 45,
      "outputs": [
        {
          "output_type": "execute_result",
          "data": {
            "text/plain": [
              "0.6003158967488229"
            ]
          },
          "metadata": {
            "tags": []
          },
          "execution_count": 45
        }
      ]
    },
    {
      "cell_type": "markdown",
      "metadata": {
        "id": "2Le6uDxa2xZc"
      },
      "source": [
        "### Hyperparameter tuning\r\n",
        "#### Definition\r\n",
        "Hyperparameter tuning involves using cross validation (or train-test split) to determine which hyperparameters are most likely to generate a model that generalizes well outside of your sample.\r\n",
        "\r\n",
        "#### Mechanics\r\n",
        "We can generate an exponentially spaces range of values using the numpy geomspace function.\r\n",
        "\r\n",
        "np.geomspace(1, 1000, num=4)\r\n",
        "produces:\r\n",
        "\r\n",
        "array([    1.,    10.,   100.,  1000.])\r\n",
        "Use this function to generate a list of length 10 called alphas for hyperparameter tuning:"
      ]
    },
    {
      "cell_type": "code",
      "metadata": {
        "colab": {
          "base_uri": "https://localhost:8080/"
        },
        "id": "LPNUxjnFxdMw",
        "outputId": "8b2382be-98e0-491c-c4f2-846a623871e7"
      },
      "source": [
        "alphas = np.geomspace(1e-9, 1e0, num=10)\r\n",
        "alphas"
      ],
      "execution_count": 46,
      "outputs": [
        {
          "output_type": "execute_result",
          "data": {
            "text/plain": [
              "array([1.e-09, 1.e-08, 1.e-07, 1.e-06, 1.e-05, 1.e-04, 1.e-03, 1.e-02,\n",
              "       1.e-01, 1.e+00])"
            ]
          },
          "metadata": {
            "tags": []
          },
          "execution_count": 46
        }
      ]
    },
    {
      "cell_type": "markdown",
      "metadata": {
        "id": "oTVbnwmQ3Nct"
      },
      "source": [
        "The code below tunes the alpha hyperparameter for Lasso regression."
      ]
    },
    {
      "cell_type": "code",
      "metadata": {
        "id": "249bOu1L3L1S"
      },
      "source": [
        "scores = []\r\n",
        "coefs = []\r\n",
        "for alpha in alphas:\r\n",
        "    las = Lasso(alpha=alpha, max_iter=100000)\r\n",
        "    \r\n",
        "    estimator = Pipeline([\r\n",
        "        (\"scaler\", s),\r\n",
        "        (\"lasso_regression\", las)])\r\n",
        "\r\n",
        "    predictions = cross_val_predict(estimator, X, y, cv = kf)\r\n",
        "    \r\n",
        "    score = r2_score(y, predictions)\r\n",
        "    \r\n",
        "    scores.append(score)"
      ],
      "execution_count": 47,
      "outputs": []
    },
    {
      "cell_type": "code",
      "metadata": {
        "colab": {
          "base_uri": "https://localhost:8080/"
        },
        "id": "6KEK8aAE3JBJ",
        "outputId": "c7cf3623-c2d8-4470-c44c-617aba45e8c6"
      },
      "source": [
        "list(zip(alphas,scores))"
      ],
      "execution_count": 48,
      "outputs": [
        {
          "output_type": "execute_result",
          "data": {
            "text/plain": [
              "[(1e-09, 0.6105004390591973),\n",
              " (1e-08, 0.6105004391164308),\n",
              " (1e-07, 0.6105004396916721),\n",
              " (1e-06, 0.6105004454507883),\n",
              " (1e-05, 0.6105005033458499),\n",
              " (0.0001, 0.6105010812886296),\n",
              " (0.001, 0.61050680053286),\n",
              " (0.01, 0.6105643511619387),\n",
              " (0.1, 0.6111318580577028),\n",
              " (1.0, 0.6158565247629548)]"
            ]
          },
          "metadata": {
            "tags": []
          },
          "execution_count": 48
        }
      ]
    },
    {
      "cell_type": "code",
      "metadata": {
        "colab": {
          "base_uri": "https://localhost:8080/"
        },
        "id": "FA_FHlrW2vy3",
        "outputId": "b28f33e4-7cd4-4d39-824f-fe1c85edb856"
      },
      "source": [
        "Lasso(alpha=1e-6).fit(X, y).coef_"
      ],
      "execution_count": 49,
      "outputs": [
        {
          "output_type": "execute_result",
          "data": {
            "text/plain": [
              "array([-3.47901580e+01, -6.65887451e-02, -2.42589059e-03,  1.33644896e+03])"
            ]
          },
          "metadata": {
            "tags": []
          },
          "execution_count": 49
        }
      ]
    },
    {
      "cell_type": "code",
      "metadata": {
        "colab": {
          "base_uri": "https://localhost:8080/"
        },
        "id": "0Qy_yMsP2v2d",
        "outputId": "adaa50c4-575e-48c6-8224-d9dc5b354892"
      },
      "source": [
        "Lasso(alpha=1.0).fit(X, y).coef_"
      ],
      "execution_count": 50,
      "outputs": [
        {
          "output_type": "execute_result",
          "data": {
            "text/plain": [
              "array([-4.35894133e+01, -5.99092343e-02, -4.13243720e-03,  9.43357424e+02])"
            ]
          },
          "metadata": {
            "tags": []
          },
          "execution_count": 50
        }
      ]
    },
    {
      "cell_type": "code",
      "metadata": {
        "colab": {
          "base_uri": "https://localhost:8080/",
          "height": 392
        },
        "id": "C5vknsxl2v52",
        "outputId": "998836b0-69ad-41bd-f05a-7889a743c91a"
      },
      "source": [
        "plt.figure(figsize=(10,6))\r\n",
        "plt.semilogx(alphas, scores, '-o')\r\n",
        "plt.xlabel('$\\\\alpha$')\r\n",
        "plt.ylabel('$R^2$');"
      ],
      "execution_count": 51,
      "outputs": [
        {
          "output_type": "display_data",
          "data": {
            "image/png": "[encoded data removed]",
            "text/plain": [
              "<Figure size 720x432 with 1 Axes>"
            ]
          },
          "metadata": {
            "tags": [],
            "needs_background": "light"
          }
        }
      ]
    },
    {
      "cell_type": "markdown",
      "metadata": {
        "id": "_VmTCJQp3nLf"
      },
      "source": [
        "### Exercise\r\n",
        "Add PolynomialFeatures to this Pipeline, and re-run the cross validation with the PolynomialFeatures added.\r\n",
        "\r\n",
        "#### Hint #1: pipelines process input from first to last. Think about the order that it would make sense to add Polynomial Features to the data in sequence and add them in the appropriate place in the pipeline.\r\n",
        "\r\n",
        "#### Hint #2: you should see a significant increase in cross validation accuracy from doing this"
      ]
    },
    {
      "cell_type": "code",
      "metadata": {
        "id": "SgL-23BQ2v8l"
      },
      "source": [
        "pf = PolynomialFeatures(degree=3)\r\n",
        "\r\n",
        "scores = []\r\n",
        "alphas = np.geomspace(0.06, 6.0, 20)\r\n",
        "for alpha in alphas:\r\n",
        "    las = Lasso(alpha=alpha, max_iter=100000)\r\n",
        "    \r\n",
        "    estimator = Pipeline([\r\n",
        "        (\"scaler\", s),\r\n",
        "        (\"make_higher_degree\", pf),\r\n",
        "        (\"lasso_regression\", las)])\r\n",
        "\r\n",
        "    predictions = cross_val_predict(estimator, X, y, cv = kf)\r\n",
        "    \r\n",
        "    score = r2_score(y, predictions)\r\n",
        "    \r\n",
        "    scores.append(score)"
      ],
      "execution_count": 52,
      "outputs": []
    },
    {
      "cell_type": "code",
      "metadata": {
        "colab": {
          "base_uri": "https://localhost:8080/"
        },
        "id": "j5HhX_za2v_z",
        "outputId": "77fb130b-403c-4177-e256-d61a27fc1cec"
      },
      "source": [
        "alphas"
      ],
      "execution_count": 53,
      "outputs": [
        {
          "output_type": "execute_result",
          "data": {
            "text/plain": [
              "array([0.06      , 0.0764565 , 0.0974266 , 0.12414828, 0.15819905,\n",
              "       0.2015891 , 0.25687994, 0.32733569, 0.41711568, 0.53152007,\n",
              "       0.67730274, 0.86306993, 1.09978843, 1.40143288, 1.78581086,\n",
              "       2.27561411, 2.89975814, 3.69508927, 4.70855982, 6.        ])"
            ]
          },
          "metadata": {
            "tags": []
          },
          "execution_count": 53
        }
      ]
    },
    {
      "cell_type": "code",
      "metadata": {
        "colab": {
          "base_uri": "https://localhost:8080/"
        },
        "id": "qmqi1WTS2wDY",
        "outputId": "e83d7467-7d50-48b4-8a16-9dd1528b319c"
      },
      "source": [
        "scores"
      ],
      "execution_count": 54,
      "outputs": [
        {
          "output_type": "execute_result",
          "data": {
            "text/plain": [
              "[-10.033663104790428,\n",
              " -8.816117593421122,\n",
              " -8.7188858441567,\n",
              " -9.845556551530416,\n",
              " -10.461529795919867,\n",
              " -9.981663088267279,\n",
              " -10.183996288825838,\n",
              " -7.961911825405821,\n",
              " -6.235150565584016,\n",
              " -4.66783244409745,\n",
              " -3.7521517544500798,\n",
              " -3.7011303162430806,\n",
              " -3.6941106479082144,\n",
              " -3.470123467207258,\n",
              " -3.207002817328049,\n",
              " -2.822445243640689,\n",
              " -2.489793556541159,\n",
              " -2.1937391298981264,\n",
              " -1.9626169144545718,\n",
              " -1.6654884877767855]"
            ]
          },
          "metadata": {
            "tags": []
          },
          "execution_count": 54
        }
      ]
    },
    {
      "cell_type": "code",
      "metadata": {
        "colab": {
          "base_uri": "https://localhost:8080/",
          "height": 269
        },
        "id": "eN0Bwwaq38PU",
        "outputId": "7acbf014-b96a-4f92-ab80-8cdcbc7851f1"
      },
      "source": [
        "plt.semilogx(alphas, scores);"
      ],
      "execution_count": 55,
      "outputs": [
        {
          "output_type": "display_data",
          "data": {
            "image/png": "[encoded data removed]",
            "text/plain": [
              "<Figure size 432x288 with 1 Axes>"
            ]
          },
          "metadata": {
            "tags": [],
            "needs_background": "light"
          }
        }
      ]
    },
    {
      "cell_type": "code",
      "metadata": {
        "colab": {
          "base_uri": "https://localhost:8080/"
        },
        "id": "y3cR0k6M38SU",
        "outputId": "dc05e210-8e45-4225-9ff8-778dc77375dd"
      },
      "source": [
        "# Once we have found the hyperparameter (alpha~1e-2=0.01)\r\n",
        "# make the model and train it on ALL the data\r\n",
        "# Then release it into the wild .....\r\n",
        "best_estimator = Pipeline([\r\n",
        "                    (\"scaler\", s),\r\n",
        "                    (\"make_higher_degree\", PolynomialFeatures(degree=2)),\r\n",
        "                    (\"lasso_regression\", Lasso(alpha=0.03))])\r\n",
        "\r\n",
        "best_estimator.fit(X, y)\r\n",
        "best_estimator.score(X, y)"
      ],
      "execution_count": 56,
      "outputs": [
        {
          "output_type": "execute_result",
          "data": {
            "text/plain": [
              "0.7996648724875631"
            ]
          },
          "metadata": {
            "tags": []
          },
          "execution_count": 56
        }
      ]
    },
    {
      "cell_type": "code",
      "metadata": {
        "colab": {
          "base_uri": "https://localhost:8080/"
        },
        "id": "rvvRpZd338Vq",
        "outputId": "881c5808-c2c6-4ccd-edec-93b0d5731236"
      },
      "source": [
        "best_estimator.named_steps[\"lasso_regression\"].coef_"
      ],
      "execution_count": 57,
      "outputs": [
        {
          "output_type": "execute_result",
          "data": {
            "text/plain": [
              "array([  0.        , -25.39177543, -54.49590474,  -5.72327172,\n",
              "        70.58708746,   8.74648122,  26.41648306,  15.27794607,\n",
              "       -30.63655538, -14.81371958,   9.02861099,  18.71406467,\n",
              "         5.30092588, -23.59501191,   4.85586125])"
            ]
          },
          "metadata": {
            "tags": []
          },
          "execution_count": 57
        }
      ]
    },
    {
      "cell_type": "markdown",
      "metadata": {
        "id": "Q-ULcLFm4NG-"
      },
      "source": [
        "### Exercise\r\n",
        "Do the same, but with Ridge regression\r\n",
        "\r\n",
        "Which model, Ridge or Lasso, performs best with its optimal hyperparameters on the dataset?"
      ]
    },
    {
      "cell_type": "code",
      "metadata": {
        "colab": {
          "base_uri": "https://localhost:8080/",
          "height": 282
        },
        "id": "VM_xZgJz38Ys",
        "outputId": "c940df65-2271-4eec-fd2b-a1c0c4a245b6"
      },
      "source": [
        "pf = PolynomialFeatures(degree=2)\r\n",
        "alphas = np.geomspace(4, 20, 20)\r\n",
        "scores=[]\r\n",
        "for alpha in alphas:\r\n",
        "    ridge = Ridge(alpha=alpha, max_iter=100000)\r\n",
        "\r\n",
        "    estimator = Pipeline([\r\n",
        "        (\"scaler\", s),\r\n",
        "        (\"polynomial_features\", pf),\r\n",
        "        (\"ridge_regression\", ridge)])\r\n",
        "\r\n",
        "    predictions = cross_val_predict(estimator, X, y, cv = kf)\r\n",
        "    score = r2_score(y, predictions)\r\n",
        "    scores.append(score)\r\n",
        "\r\n",
        "plt.plot(alphas, scores)"
      ],
      "execution_count": 58,
      "outputs": [
        {
          "output_type": "execute_result",
          "data": {
            "text/plain": [
              "[<matplotlib.lines.Line2D at 0x7f277759cf98>]"
            ]
          },
          "metadata": {
            "tags": []
          },
          "execution_count": 58
        },
        {
          "output_type": "display_data",
          "data": {
            "image/png": "[encoded data removed]",
            "text/plain": [
              "<Figure size 432x288 with 1 Axes>"
            ]
          },
          "metadata": {
            "tags": [],
            "needs_background": "light"
          }
        }
      ]
    },
    {
      "cell_type": "markdown",
      "metadata": {
        "id": "FNN2e5Tz4x98"
      },
      "source": [
        "**Conclusion:** Both Lasso and Ridge with proper hyperparameter tuning give better results than plain ol' Linear Regression!\r\n",
        "\r\n",
        "**Exercise:**\r\n",
        "Now, for whatever your best overall hyperparameter was:\r\n",
        "\r\n",
        "Standardize the data\r\n",
        "\r\n",
        "Fit and predict on the entire dataset\r\n",
        "\r\n",
        "See what the largest coefficients were\r\n",
        "\r\n",
        "Hint: use\r\n",
        "\r\n",
        "dict(zip(model.coef_, pf.get_feature_names()))\r\n",
        "for your model model to get the feature names from PolynomialFeatures.\r\n",
        "\r\n",
        "Then, use\r\n",
        "\r\n",
        "dict(zip(list(range(len(X.columns.values))), X.columns.values))\r\n",
        "to see which features in the PolynomialFeatures DataFrame correspond to which columns in the original DataFrame."
      ]
    },
    {
      "cell_type": "code",
      "metadata": {
        "colab": {
          "base_uri": "https://localhost:8080/"
        },
        "id": "6BcUztyj38bQ",
        "outputId": "cbfb569a-9689-4037-ba84-3d725d174a62"
      },
      "source": [
        "# Once we have found the hyperparameter (alpha~1e-2=0.01)\r\n",
        "# make the model and train it on ALL the data\r\n",
        "# Then release it into the wild .....\r\n",
        "best_estimator = Pipeline([\r\n",
        "                    (\"make_higher_degree\", PolynomialFeatures(degree=2, include_bias=False)),\r\n",
        "                    (\"scaler\", s),\r\n",
        "                    (\"lasso_regression\", Lasso(alpha=0.01))])\r\n",
        "\r\n",
        "best_estimator.fit(X, y)\r\n",
        "best_estimator.score(X, y)"
      ],
      "execution_count": 59,
      "outputs": [
        {
          "output_type": "stream",
          "text": [
            "/usr/local/lib/python3.6/dist-packages/sklearn/linear_model/_coordinate_descent.py:476: ConvergenceWarning: Objective did not converge. You might want to increase the number of iterations. Duality gap: 47623.69057613884, tolerance: 58.836647916666664\n",
            "  positive)\n"
          ],
          "name": "stderr"
        },
        {
          "output_type": "execute_result",
          "data": {
            "text/plain": [
              "0.7986990072322395"
            ]
          },
          "metadata": {
            "tags": []
          },
          "execution_count": 59
        }
      ]
    },
    {
      "cell_type": "code",
      "metadata": {
        "id": "R_Ph2Gly38d-"
      },
      "source": [
        "df_importances = pd.DataFrame(zip(best_estimator.named_steps[\"make_higher_degree\"].get_feature_names(),\r\n",
        "                 best_estimator.named_steps[\"lasso_regression\"].coef_,\r\n",
        "))"
      ],
      "execution_count": 60,
      "outputs": []
    },
    {
      "cell_type": "code",
      "metadata": {
        "colab": {
          "base_uri": "https://localhost:8080/"
        },
        "id": "Lqa9hKrS38g-",
        "outputId": "9e011190-4b82-4ed9-ea14-7aa925d46f30"
      },
      "source": [
        "# Once we have found the hyperparameter (alpha~1e-2=0.01)\r\n",
        "# make the model and train it on ALL the data\r\n",
        "# Then release it into the wild .....\r\n",
        "best_estimator = Pipeline([\r\n",
        "                    (\"scaler\", s),\r\n",
        "                    (\"make_higher_degree\", PolynomialFeatures(degree=2)),\r\n",
        "                    (\"lasso_regression\", Lasso(alpha=0.03))])\r\n",
        "\r\n",
        "best_estimator.fit(X, y)\r\n",
        "best_estimator.score(X, y)"
      ],
      "execution_count": 61,
      "outputs": [
        {
          "output_type": "execute_result",
          "data": {
            "text/plain": [
              "0.7996648724875631"
            ]
          },
          "metadata": {
            "tags": []
          },
          "execution_count": 61
        }
      ]
    },
    {
      "cell_type": "code",
      "metadata": {
        "id": "jyrGXIIZ38kZ"
      },
      "source": [
        "df_importances = pd.DataFrame(zip(best_estimator.named_steps[\"make_higher_degree\"].get_feature_names(input_features=X.columns),\r\n",
        "                 best_estimator.named_steps[\"lasso_regression\"].coef_,\r\n",
        "))"
      ],
      "execution_count": 62,
      "outputs": []
    },
    {
      "cell_type": "code",
      "metadata": {
        "colab": {
          "base_uri": "https://localhost:8080/",
          "height": 514
        },
        "id": "Vi4-06ts38nx",
        "outputId": "dedd8680-e631-4121-fc74-6c94734e34fb"
      },
      "source": [
        "df_importances.sort_values(by=1)"
      ],
      "execution_count": 63,
      "outputs": [
        {
          "output_type": "execute_result",
          "data": {
            "text/html": [
              "<div>\n",
              "<style scoped>\n",
              "    .dataframe tbody tr th:only-of-type {\n",
              "        vertical-align: middle;\n",
              "    }\n",
              "\n",
              "    .dataframe tbody tr th {\n",
              "        vertical-align: top;\n",
              "    }\n",
              "\n",
              "    .dataframe thead th {\n",
              "        text-align: right;\n",
              "    }\n",
              "</style>\n",
              "<table border=\"1\" class=\"dataframe\">\n",
              "  <thead>\n",
              "    <tr style=\"text-align: right;\">\n",
              "      <th></th>\n",
              "      <th>0</th>\n",
              "      <th>1</th>\n",
              "    </tr>\n",
              "  </thead>\n",
              "  <tbody>\n",
              "    <tr>\n",
              "      <th>2</th>\n",
              "      <td>Average_income</td>\n",
              "      <td>-54.495905</td>\n",
              "    </tr>\n",
              "    <tr>\n",
              "      <th>8</th>\n",
              "      <td>Petrol_tax Population_Driver_licence(%)</td>\n",
              "      <td>-30.636555</td>\n",
              "    </tr>\n",
              "    <tr>\n",
              "      <th>1</th>\n",
              "      <td>Petrol_tax</td>\n",
              "      <td>-25.391775</td>\n",
              "    </tr>\n",
              "    <tr>\n",
              "      <th>13</th>\n",
              "      <td>Paved_Highways Population_Driver_licence(%)</td>\n",
              "      <td>-23.595012</td>\n",
              "    </tr>\n",
              "    <tr>\n",
              "      <th>9</th>\n",
              "      <td>Average_income^2</td>\n",
              "      <td>-14.813720</td>\n",
              "    </tr>\n",
              "    <tr>\n",
              "      <th>3</th>\n",
              "      <td>Paved_Highways</td>\n",
              "      <td>-5.723272</td>\n",
              "    </tr>\n",
              "    <tr>\n",
              "      <th>0</th>\n",
              "      <td>1</td>\n",
              "      <td>0.000000</td>\n",
              "    </tr>\n",
              "    <tr>\n",
              "      <th>14</th>\n",
              "      <td>Population_Driver_licence(%)^2</td>\n",
              "      <td>4.855861</td>\n",
              "    </tr>\n",
              "    <tr>\n",
              "      <th>12</th>\n",
              "      <td>Paved_Highways^2</td>\n",
              "      <td>5.300926</td>\n",
              "    </tr>\n",
              "    <tr>\n",
              "      <th>5</th>\n",
              "      <td>Petrol_tax^2</td>\n",
              "      <td>8.746481</td>\n",
              "    </tr>\n",
              "    <tr>\n",
              "      <th>10</th>\n",
              "      <td>Average_income Paved_Highways</td>\n",
              "      <td>9.028611</td>\n",
              "    </tr>\n",
              "    <tr>\n",
              "      <th>7</th>\n",
              "      <td>Petrol_tax Paved_Highways</td>\n",
              "      <td>15.277946</td>\n",
              "    </tr>\n",
              "    <tr>\n",
              "      <th>11</th>\n",
              "      <td>Average_income Population_Driver_licence(%)</td>\n",
              "      <td>18.714065</td>\n",
              "    </tr>\n",
              "    <tr>\n",
              "      <th>6</th>\n",
              "      <td>Petrol_tax Average_income</td>\n",
              "      <td>26.416483</td>\n",
              "    </tr>\n",
              "    <tr>\n",
              "      <th>4</th>\n",
              "      <td>Population_Driver_licence(%)</td>\n",
              "      <td>70.587087</td>\n",
              "    </tr>\n",
              "  </tbody>\n",
              "</table>\n",
              "</div>"
            ],
            "text/plain": [
              "                                              0          1\n",
              "2                                Average_income -54.495905\n",
              "8       Petrol_tax Population_Driver_licence(%) -30.636555\n",
              "1                                    Petrol_tax -25.391775\n",
              "13  Paved_Highways Population_Driver_licence(%) -23.595012\n",
              "9                              Average_income^2 -14.813720\n",
              "3                                Paved_Highways  -5.723272\n",
              "0                                             1   0.000000\n",
              "14               Population_Driver_licence(%)^2   4.855861\n",
              "12                             Paved_Highways^2   5.300926\n",
              "5                                  Petrol_tax^2   8.746481\n",
              "10                Average_income Paved_Highways   9.028611\n",
              "7                     Petrol_tax Paved_Highways  15.277946\n",
              "11  Average_income Population_Driver_licence(%)  18.714065\n",
              "6                     Petrol_tax Average_income  26.416483\n",
              "4                  Population_Driver_licence(%)  70.587087"
            ]
          },
          "metadata": {
            "tags": []
          },
          "execution_count": 63
        }
      ]
    },
    {
      "cell_type": "code",
      "metadata": {
        "id": "nZFYT0jo38qJ"
      },
      "source": [
        "col_names_dict = dict(zip(list(range(len(X.columns.values))), X.columns.values))"
      ],
      "execution_count": 64,
      "outputs": []
    },
    {
      "cell_type": "code",
      "metadata": {
        "colab": {
          "base_uri": "https://localhost:8080/"
        },
        "id": "wN7iTl0G5WB5",
        "outputId": "8485fa3d-ebcd-40d8-eefe-71884ac52fa6"
      },
      "source": [
        "col_names_dict"
      ],
      "execution_count": 65,
      "outputs": [
        {
          "output_type": "execute_result",
          "data": {
            "text/plain": [
              "{0: 'Petrol_tax',\n",
              " 1: 'Average_income',\n",
              " 2: 'Paved_Highways',\n",
              " 3: 'Population_Driver_licence(%)'}"
            ]
          },
          "metadata": {
            "tags": []
          },
          "execution_count": 65
        }
      ]
    },
    {
      "cell_type": "code",
      "metadata": {
        "colab": {
          "base_uri": "https://localhost:8080/",
          "height": 514
        },
        "id": "q8m2s68g5WF2",
        "outputId": "9a3782fc-ea13-4e0d-c35d-f8cff01a9f72"
      },
      "source": [
        "df_importances.sort_values(by=1)"
      ],
      "execution_count": 66,
      "outputs": [
        {
          "output_type": "execute_result",
          "data": {
            "text/html": [
              "<div>\n",
              "<style scoped>\n",
              "    .dataframe tbody tr th:only-of-type {\n",
              "        vertical-align: middle;\n",
              "    }\n",
              "\n",
              "    .dataframe tbody tr th {\n",
              "        vertical-align: top;\n",
              "    }\n",
              "\n",
              "    .dataframe thead th {\n",
              "        text-align: right;\n",
              "    }\n",
              "</style>\n",
              "<table border=\"1\" class=\"dataframe\">\n",
              "  <thead>\n",
              "    <tr style=\"text-align: right;\">\n",
              "      <th></th>\n",
              "      <th>0</th>\n",
              "      <th>1</th>\n",
              "    </tr>\n",
              "  </thead>\n",
              "  <tbody>\n",
              "    <tr>\n",
              "      <th>2</th>\n",
              "      <td>Average_income</td>\n",
              "      <td>-54.495905</td>\n",
              "    </tr>\n",
              "    <tr>\n",
              "      <th>8</th>\n",
              "      <td>Petrol_tax Population_Driver_licence(%)</td>\n",
              "      <td>-30.636555</td>\n",
              "    </tr>\n",
              "    <tr>\n",
              "      <th>1</th>\n",
              "      <td>Petrol_tax</td>\n",
              "      <td>-25.391775</td>\n",
              "    </tr>\n",
              "    <tr>\n",
              "      <th>13</th>\n",
              "      <td>Paved_Highways Population_Driver_licence(%)</td>\n",
              "      <td>-23.595012</td>\n",
              "    </tr>\n",
              "    <tr>\n",
              "      <th>9</th>\n",
              "      <td>Average_income^2</td>\n",
              "      <td>-14.813720</td>\n",
              "    </tr>\n",
              "    <tr>\n",
              "      <th>3</th>\n",
              "      <td>Paved_Highways</td>\n",
              "      <td>-5.723272</td>\n",
              "    </tr>\n",
              "    <tr>\n",
              "      <th>0</th>\n",
              "      <td>1</td>\n",
              "      <td>0.000000</td>\n",
              "    </tr>\n",
              "    <tr>\n",
              "      <th>14</th>\n",
              "      <td>Population_Driver_licence(%)^2</td>\n",
              "      <td>4.855861</td>\n",
              "    </tr>\n",
              "    <tr>\n",
              "      <th>12</th>\n",
              "      <td>Paved_Highways^2</td>\n",
              "      <td>5.300926</td>\n",
              "    </tr>\n",
              "    <tr>\n",
              "      <th>5</th>\n",
              "      <td>Petrol_tax^2</td>\n",
              "      <td>8.746481</td>\n",
              "    </tr>\n",
              "    <tr>\n",
              "      <th>10</th>\n",
              "      <td>Average_income Paved_Highways</td>\n",
              "      <td>9.028611</td>\n",
              "    </tr>\n",
              "    <tr>\n",
              "      <th>7</th>\n",
              "      <td>Petrol_tax Paved_Highways</td>\n",
              "      <td>15.277946</td>\n",
              "    </tr>\n",
              "    <tr>\n",
              "      <th>11</th>\n",
              "      <td>Average_income Population_Driver_licence(%)</td>\n",
              "      <td>18.714065</td>\n",
              "    </tr>\n",
              "    <tr>\n",
              "      <th>6</th>\n",
              "      <td>Petrol_tax Average_income</td>\n",
              "      <td>26.416483</td>\n",
              "    </tr>\n",
              "    <tr>\n",
              "      <th>4</th>\n",
              "      <td>Population_Driver_licence(%)</td>\n",
              "      <td>70.587087</td>\n",
              "    </tr>\n",
              "  </tbody>\n",
              "</table>\n",
              "</div>"
            ],
            "text/plain": [
              "                                              0          1\n",
              "2                                Average_income -54.495905\n",
              "8       Petrol_tax Population_Driver_licence(%) -30.636555\n",
              "1                                    Petrol_tax -25.391775\n",
              "13  Paved_Highways Population_Driver_licence(%) -23.595012\n",
              "9                              Average_income^2 -14.813720\n",
              "3                                Paved_Highways  -5.723272\n",
              "0                                             1   0.000000\n",
              "14               Population_Driver_licence(%)^2   4.855861\n",
              "12                             Paved_Highways^2   5.300926\n",
              "5                                  Petrol_tax^2   8.746481\n",
              "10                Average_income Paved_Highways   9.028611\n",
              "7                     Petrol_tax Paved_Highways  15.277946\n",
              "11  Average_income Population_Driver_licence(%)  18.714065\n",
              "6                     Petrol_tax Average_income  26.416483\n",
              "4                  Population_Driver_licence(%)  70.587087"
            ]
          },
          "metadata": {
            "tags": []
          },
          "execution_count": 66
        }
      ]
    },
    {
      "cell_type": "code",
      "metadata": {
        "colab": {
          "base_uri": "https://localhost:8080/"
        },
        "id": "pzp0ZD7I5WIe",
        "outputId": "dbe516e4-2a0b-4a87-e190-7ee2b4603c80"
      },
      "source": [
        "best_estimator.named_steps[\"make_higher_degree\"].get_feature_names(input_features=X.columns)"
      ],
      "execution_count": 67,
      "outputs": [
        {
          "output_type": "execute_result",
          "data": {
            "text/plain": [
              "['1',\n",
              " 'Petrol_tax',\n",
              " 'Average_income',\n",
              " 'Paved_Highways',\n",
              " 'Population_Driver_licence(%)',\n",
              " 'Petrol_tax^2',\n",
              " 'Petrol_tax Average_income',\n",
              " 'Petrol_tax Paved_Highways',\n",
              " 'Petrol_tax Population_Driver_licence(%)',\n",
              " 'Average_income^2',\n",
              " 'Average_income Paved_Highways',\n",
              " 'Average_income Population_Driver_licence(%)',\n",
              " 'Paved_Highways^2',\n",
              " 'Paved_Highways Population_Driver_licence(%)',\n",
              " 'Population_Driver_licence(%)^2']"
            ]
          },
          "metadata": {
            "tags": []
          },
          "execution_count": 67
        }
      ]
    },
    {
      "cell_type": "code",
      "metadata": {
        "colab": {
          "base_uri": "https://localhost:8080/"
        },
        "id": "YPEK0d9G5WLw",
        "outputId": "ac5683ee-06e5-4981-e826-92ad97e41505"
      },
      "source": [
        " best_estimator.named_steps[\"lasso_regression\"].coef_"
      ],
      "execution_count": 68,
      "outputs": [
        {
          "output_type": "execute_result",
          "data": {
            "text/plain": [
              "array([  0.        , -25.39177543, -54.49590474,  -5.72327172,\n",
              "        70.58708746,   8.74648122,  26.41648306,  15.27794607,\n",
              "       -30.63655538, -14.81371958,   9.02861099,  18.71406467,\n",
              "         5.30092588, -23.59501191,   4.85586125])"
            ]
          },
          "metadata": {
            "tags": []
          },
          "execution_count": 68
        }
      ]
    },
    {
      "cell_type": "markdown",
      "metadata": {
        "id": "NAIPRtRM6Dfb"
      },
      "source": [
        "### Grid Search CV\r\n",
        "To do cross-validation, we used two techniques:\r\n",
        "\r\n",
        "* use KFolds and manually create a loop to do cross-validation\r\n",
        "* use cross_val_predict and score to get a cross-valiated score in a couple of lines.\r\n",
        "To do hyper-parameter tuning, we see a general pattern:\r\n",
        "\r\n",
        "* use cross_val_predict and score in a manually written loop over hyperparemeters, then select the best one.\r\n",
        "Perhaps not surprisingly, there is a function that does this for us -- GridSearchCV"
      ]
    },
    {
      "cell_type": "code",
      "metadata": {
        "id": "wQDbeIJU5WQd"
      },
      "source": [
        "from sklearn.model_selection import GridSearchCV\r\n",
        "\r\n",
        "# Same estimator as before\r\n",
        "estimator = Pipeline([(\"scaler\", StandardScaler()),\r\n",
        "        (\"polynomial_features\", PolynomialFeatures()),\r\n",
        "        (\"ridge_regression\", Ridge())])\r\n",
        "\r\n",
        "params = {\r\n",
        "    'polynomial_features__degree': [1, 2, 3],\r\n",
        "    'ridge_regression__alpha': np.geomspace(4, 20, 30)\r\n",
        "}\r\n",
        "\r\n",
        "grid = GridSearchCV(estimator, params, cv=kf)"
      ],
      "execution_count": 69,
      "outputs": []
    },
    {
      "cell_type": "code",
      "metadata": {
        "colab": {
          "base_uri": "https://localhost:8080/"
        },
        "id": "DaBFmL-B5WT6",
        "outputId": "cd4b2b67-a471-460d-e29b-3009d4abffea"
      },
      "source": [
        "grid.fit(X, y)"
      ],
      "execution_count": 70,
      "outputs": [
        {
          "output_type": "execute_result",
          "data": {
            "text/plain": [
              "GridSearchCV(cv=KFold(n_splits=3, random_state=72018, shuffle=True),\n",
              "             error_score=nan,\n",
              "             estimator=Pipeline(memory=None,\n",
              "                                steps=[('scaler',\n",
              "                                        StandardScaler(copy=True,\n",
              "                                                       with_mean=True,\n",
              "                                                       with_std=True)),\n",
              "                                       ('polynomial_features',\n",
              "                                        PolynomialFeatures(degree=2,\n",
              "                                                           include_bias=True,\n",
              "                                                           interaction_only=False,\n",
              "                                                           order='C')),\n",
              "                                       ('ridge_regression',\n",
              "                                        Ridge(alpha=1.0, copy_X=True,\n",
              "                                              fit_intercep...\n",
              "        5.27924796,  5.58051751,  5.89897953,  6.23561514,  6.59146146,\n",
              "        6.96761476,  7.36523392,  7.78554391,  8.22983963,  8.69948987,\n",
              "        9.19594151,  9.72072404, 10.27545421, 10.86184103, 11.48169104,\n",
              "       12.13691388, 12.82952815, 13.56166768, 14.33558803, 15.15367351,\n",
              "       16.01844446, 16.93256509, 17.89885162, 18.92028098, 20.        ])},\n",
              "             pre_dispatch='2*n_jobs', refit=True, return_train_score=False,\n",
              "             scoring=None, verbose=0)"
            ]
          },
          "metadata": {
            "tags": []
          },
          "execution_count": 70
        }
      ]
    },
    {
      "cell_type": "code",
      "metadata": {
        "colab": {
          "base_uri": "https://localhost:8080/"
        },
        "id": "3BRhWPJC5WXw",
        "outputId": "7ed7369d-8ae9-4e1f-9c04-087721931118"
      },
      "source": [
        "grid.best_score_, grid.best_params_"
      ],
      "execution_count": 71,
      "outputs": [
        {
          "output_type": "execute_result",
          "data": {
            "text/plain": [
              "(0.6370529481159518,\n",
              " {'polynomial_features__degree': 1,\n",
              "  'ridge_regression__alpha': 5.58051750774668})"
            ]
          },
          "metadata": {
            "tags": []
          },
          "execution_count": 71
        }
      ]
    },
    {
      "cell_type": "code",
      "metadata": {
        "id": "ZKa3P-FC5WbI"
      },
      "source": [
        "y_predict = grid.predict(X)"
      ],
      "execution_count": 72,
      "outputs": []
    },
    {
      "cell_type": "code",
      "metadata": {
        "colab": {
          "base_uri": "https://localhost:8080/"
        },
        "id": "QlmOQXC65WeG",
        "outputId": "1e7ba87b-4bdc-456b-dd55-84d5422f4feb"
      },
      "source": [
        "# This includes both in-sample and out-of-sample\r\n",
        "r2_score(y, y_predict)"
      ],
      "execution_count": 73,
      "outputs": [
        {
          "output_type": "execute_result",
          "data": {
            "text/plain": [
              "0.6716764507971167"
            ]
          },
          "metadata": {
            "tags": []
          },
          "execution_count": 73
        }
      ]
    },
    {
      "cell_type": "code",
      "metadata": {
        "colab": {
          "base_uri": "https://localhost:8080/"
        },
        "id": "jqSBubwj5Wh3",
        "outputId": "d734e83e-f96c-4a09-f0bb-2be6113ac3c1"
      },
      "source": [
        "# Notice that \"grid\" is a fit object!\r\n",
        "# We can use grid.predict(X_test) to get brand new predictions!\r\n",
        "grid.best_estimator_.named_steps['ridge_regression'].coef_"
      ],
      "execution_count": 74,
      "outputs": [
        {
          "output_type": "execute_result",
          "data": {
            "text/plain": [
              "array([  0.        , -30.89689686, -32.83045687,  -7.32204101,\n",
              "        65.55194851])"
            ]
          },
          "metadata": {
            "tags": []
          },
          "execution_count": 74
        }
      ]
    },
    {
      "cell_type": "code",
      "metadata": {
        "colab": {
          "base_uri": "https://localhost:8080/"
        },
        "id": "4tNswo9_5Wkk",
        "outputId": "edb58932-9abf-4645-b0a2-513c2b3c7c99"
      },
      "source": [
        "grid.cv_results_"
      ],
      "execution_count": 75,
      "outputs": [
        {
          "output_type": "execute_result",
          "data": {
            "text/plain": [
              "{'mean_fit_time': array([0.00404636, 0.00555205, 0.0031693 , 0.00308069, 0.00284608,\n",
              "        0.00287231, 0.00285339, 0.00289194, 0.00371114, 0.00344793,\n",
              "        0.00372521, 0.00406194, 0.00337736, 0.00344189, 0.00308855,\n",
              "        0.00287127, 0.0029335 , 0.00291014, 0.00325584, 0.00325354,\n",
              "        0.00294646, 0.00431657, 0.0032626 , 0.00293477, 0.00289766,\n",
              "        0.00281517, 0.00293334, 0.00278139, 0.0027798 , 0.00287271,\n",
              "        0.00295258, 0.00294185, 0.00295305, 0.0031383 , 0.00431013,\n",
              "        0.0031027 , 0.00304564, 0.00311939, 0.00304929, 0.00304174,\n",
              "        0.00293787, 0.00295607, 0.00308553, 0.00300376, 0.00293867,\n",
              "        0.00291403, 0.00288407, 0.00293191, 0.0030005 , 0.00305883,\n",
              "        0.00296879, 0.00293914, 0.00309404, 0.00298874, 0.00291197,\n",
              "        0.00303817, 0.00308418, 0.00323502, 0.00320689, 0.00296013,\n",
              "        0.00316024, 0.00300201, 0.00307512, 0.00302911, 0.00307528,\n",
              "        0.00312654, 0.0030214 , 0.00299486, 0.00298246, 0.00295289,\n",
              "        0.00307743, 0.00323892, 0.0031    , 0.00303586, 0.00317725,\n",
              "        0.00306384, 0.00313457, 0.00306765, 0.00317327, 0.00309793,\n",
              "        0.00315801, 0.00305764, 0.00305684, 0.00330202, 0.00310071,\n",
              "        0.00302132, 0.0030241 , 0.00295806, 0.00309857, 0.00311406]),\n",
              " 'mean_score_time': array([0.00174562, 0.00226124, 0.00145499, 0.0014681 , 0.00135501,\n",
              "        0.00131575, 0.00130041, 0.00129255, 0.00186125, 0.00152167,\n",
              "        0.00187914, 0.0018243 , 0.00148757, 0.00155608, 0.00132553,\n",
              "        0.00134873, 0.00138728, 0.00131798, 0.00141215, 0.00128961,\n",
              "        0.00152055, 0.00203943, 0.0016621 , 0.00136177, 0.00133999,\n",
              "        0.00135358, 0.00134079, 0.0013063 , 0.00129779, 0.00132982,\n",
              "        0.00140071, 0.00144513, 0.00142185, 0.00164191, 0.00176048,\n",
              "        0.00149147, 0.00142757, 0.00145626, 0.00152795, 0.00145435,\n",
              "        0.00138998, 0.00147303, 0.00150903, 0.0014015 , 0.00141096,\n",
              "        0.00142638, 0.00140127, 0.00144251, 0.00146548, 0.00139832,\n",
              "        0.00143576, 0.00144784, 0.00141112, 0.00147955, 0.00139141,\n",
              "        0.00142813, 0.00153049, 0.00186483, 0.00141581, 0.00142892,\n",
              "        0.00151094, 0.00151523, 0.0015103 , 0.00149687, 0.00152842,\n",
              "        0.00153216, 0.00152588, 0.0014828 , 0.001525  , 0.00150148,\n",
              "        0.0014929 , 0.00153454, 0.00150037, 0.00150331, 0.00165065,\n",
              "        0.0015316 , 0.00152365, 0.00151881, 0.00151141, 0.00150482,\n",
              "        0.00151896, 0.00154916, 0.00156252, 0.00150983, 0.00150744,\n",
              "        0.00150148, 0.00152548, 0.00151753, 0.0015444 , 0.00149115]),\n",
              " 'mean_test_score': array([ 0.63528682,  0.63581198,  0.63625851,  0.63661652,  0.6368756 ,\n",
              "         0.63702487,  0.63705295,  0.63694803,  0.63669791,  0.63629001,\n",
              "         0.63571144,  0.63494906,  0.63398953,  0.63281941,  0.63142518,\n",
              "         0.62979341,  0.62791074,  0.6257641 ,  0.62334069,  0.62062818,\n",
              "         0.61761477,  0.61428929,  0.61064138,  0.6066615 ,  0.60234114,\n",
              "         0.59767286,  0.59265043,  0.5872689 ,  0.58152471,  0.57541577,\n",
              "         0.35066217,  0.35923195,  0.36748476,  0.37540845,  0.38299306,\n",
              "         0.39023086,  0.39711633,  0.40364612,  0.40981894,  0.41563543,\n",
              "         0.42109805,  0.42621086,  0.43097936,  0.43541026,  0.43951124,\n",
              "         0.44329073,  0.44675769,  0.44992133,  0.45279094,  0.45537562,\n",
              "         0.45768412,  0.45972464,  0.46150468,  0.46303089,  0.46430899,\n",
              "         0.46534365,  0.46613848,  0.46669596,  0.46701748,  0.46710334,\n",
              "        -2.14090719, -2.11092158, -2.08299444, -2.05686012, -2.03225374,\n",
              "        -2.00891325, -1.98658129, -1.96500713, -1.94394839, -1.9231726 ,\n",
              "        -1.90245877, -1.88159865, -1.86039788, -1.838677  , -1.81627223,\n",
              "        -1.79303614, -1.76883801, -1.74356421, -1.71711821, -1.6894206 ,\n",
              "        -1.66040888, -1.63003709, -1.59827543, -1.56510962, -1.5305403 ,\n",
              "        -1.49458229, -1.45726374, -1.41862533, -1.37871932, -1.33760862]),\n",
              " 'param_polynomial_features__degree': masked_array(data=[1, 1, 1, 1, 1, 1, 1, 1, 1, 1, 1, 1, 1, 1, 1, 1, 1, 1,\n",
              "                    1, 1, 1, 1, 1, 1, 1, 1, 1, 1, 1, 1, 2, 2, 2, 2, 2, 2,\n",
              "                    2, 2, 2, 2, 2, 2, 2, 2, 2, 2, 2, 2, 2, 2, 2, 2, 2, 2,\n",
              "                    2, 2, 2, 2, 2, 2, 3, 3, 3, 3, 3, 3, 3, 3, 3, 3, 3, 3,\n",
              "                    3, 3, 3, 3, 3, 3, 3, 3, 3, 3, 3, 3, 3, 3, 3, 3, 3, 3],\n",
              "              mask=[False, False, False, False, False, False, False, False,\n",
              "                    False, False, False, False, False, False, False, False,\n",
              "                    False, False, False, False, False, False, False, False,\n",
              "                    False, False, False, False, False, False, False, False,\n",
              "                    False, False, False, False, False, False, False, False,\n",
              "                    False, False, False, False, False, False, False, False,\n",
              "                    False, False, False, False, False, False, False, False,\n",
              "                    False, False, False, False, False, False, False, False,\n",
              "                    False, False, False, False, False, False, False, False,\n",
              "                    False, False, False, False, False, False, False, False,\n",
              "                    False, False, False, False, False, False, False, False,\n",
              "                    False, False],\n",
              "        fill_value='?',\n",
              "             dtype=object),\n",
              " 'param_ridge_regression__alpha': masked_array(data=[4.0, 4.228267015769416, 4.4695604891609,\n",
              "                    4.724623797826311, 4.994242741567055,\n",
              "                    5.279247963228449, 5.58051750774668, 5.898979527232258,\n",
              "                    6.235615140423803, 6.591461455321584,\n",
              "                    6.9676147643129305, 7.365233921633089,\n",
              "                    7.785543913566802, 8.229839632389709,\n",
              "                    8.699489865676323, 9.195941513264877,\n",
              "                    9.720724044870641, 10.275454212080797,\n",
              "                    10.861841029247536, 11.481691038624568,\n",
              "                    12.136913875967887, 12.82952815374728,\n",
              "                    13.561667680093686, 14.335588032641558,\n",
              "                    15.153673507519274, 16.018444464895637,\n",
              "                    16.932565093713098, 17.898851619528912,\n",
              "                    18.920280980751272, 20.000000000000004, 4.0,\n",
              "                    4.228267015769416, 4.4695604891609, 4.724623797826311,\n",
              "                    4.994242741567055, 5.279247963228449, 5.58051750774668,\n",
              "                    5.898979527232258, 6.235615140423803,\n",
              "                    6.591461455321584, 6.9676147643129305,\n",
              "                    7.365233921633089, 7.785543913566802,\n",
              "                    8.229839632389709, 8.699489865676323,\n",
              "                    9.195941513264877, 9.720724044870641,\n",
              "                    10.275454212080797, 10.861841029247536,\n",
              "                    11.481691038624568, 12.136913875967887,\n",
              "                    12.82952815374728, 13.561667680093686,\n",
              "                    14.335588032641558, 15.153673507519274,\n",
              "                    16.018444464895637, 16.932565093713098,\n",
              "                    17.898851619528912, 18.920280980751272,\n",
              "                    20.000000000000004, 4.0, 4.228267015769416,\n",
              "                    4.4695604891609, 4.724623797826311, 4.994242741567055,\n",
              "                    5.279247963228449, 5.58051750774668, 5.898979527232258,\n",
              "                    6.235615140423803, 6.591461455321584,\n",
              "                    6.9676147643129305, 7.365233921633089,\n",
              "                    7.785543913566802, 8.229839632389709,\n",
              "                    8.699489865676323, 9.195941513264877,\n",
              "                    9.720724044870641, 10.275454212080797,\n",
              "                    10.861841029247536, 11.481691038624568,\n",
              "                    12.136913875967887, 12.82952815374728,\n",
              "                    13.561667680093686, 14.335588032641558,\n",
              "                    15.153673507519274, 16.018444464895637,\n",
              "                    16.932565093713098, 17.898851619528912,\n",
              "                    18.920280980751272, 20.000000000000004],\n",
              "              mask=[False, False, False, False, False, False, False, False,\n",
              "                    False, False, False, False, False, False, False, False,\n",
              "                    False, False, False, False, False, False, False, False,\n",
              "                    False, False, False, False, False, False, False, False,\n",
              "                    False, False, False, False, False, False, False, False,\n",
              "                    False, False, False, False, False, False, False, False,\n",
              "                    False, False, False, False, False, False, False, False,\n",
              "                    False, False, False, False, False, False, False, False,\n",
              "                    False, False, False, False, False, False, False, False,\n",
              "                    False, False, False, False, False, False, False, False,\n",
              "                    False, False, False, False, False, False, False, False,\n",
              "                    False, False],\n",
              "        fill_value='?',\n",
              "             dtype=object),\n",
              " 'params': [{'polynomial_features__degree': 1, 'ridge_regression__alpha': 4.0},\n",
              "  {'polynomial_features__degree': 1,\n",
              "   'ridge_regression__alpha': 4.228267015769416},\n",
              "  {'polynomial_features__degree': 1,\n",
              "   'ridge_regression__alpha': 4.4695604891609},\n",
              "  {'polynomial_features__degree': 1,\n",
              "   'ridge_regression__alpha': 4.724623797826311},\n",
              "  {'polynomial_features__degree': 1,\n",
              "   'ridge_regression__alpha': 4.994242741567055},\n",
              "  {'polynomial_features__degree': 1,\n",
              "   'ridge_regression__alpha': 5.279247963228449},\n",
              "  {'polynomial_features__degree': 1,\n",
              "   'ridge_regression__alpha': 5.58051750774668},\n",
              "  {'polynomial_features__degree': 1,\n",
              "   'ridge_regression__alpha': 5.898979527232258},\n",
              "  {'polynomial_features__degree': 1,\n",
              "   'ridge_regression__alpha': 6.235615140423803},\n",
              "  {'polynomial_features__degree': 1,\n",
              "   'ridge_regression__alpha': 6.591461455321584},\n",
              "  {'polynomial_features__degree': 1,\n",
              "   'ridge_regression__alpha': 6.9676147643129305},\n",
              "  {'polynomial_features__degree': 1,\n",
              "   'ridge_regression__alpha': 7.365233921633089},\n",
              "  {'polynomial_features__degree': 1,\n",
              "   'ridge_regression__alpha': 7.785543913566802},\n",
              "  {'polynomial_features__degree': 1,\n",
              "   'ridge_regression__alpha': 8.229839632389709},\n",
              "  {'polynomial_features__degree': 1,\n",
              "   'ridge_regression__alpha': 8.699489865676323},\n",
              "  {'polynomial_features__degree': 1,\n",
              "   'ridge_regression__alpha': 9.195941513264877},\n",
              "  {'polynomial_features__degree': 1,\n",
              "   'ridge_regression__alpha': 9.720724044870641},\n",
              "  {'polynomial_features__degree': 1,\n",
              "   'ridge_regression__alpha': 10.275454212080797},\n",
              "  {'polynomial_features__degree': 1,\n",
              "   'ridge_regression__alpha': 10.861841029247536},\n",
              "  {'polynomial_features__degree': 1,\n",
              "   'ridge_regression__alpha': 11.481691038624568},\n",
              "  {'polynomial_features__degree': 1,\n",
              "   'ridge_regression__alpha': 12.136913875967887},\n",
              "  {'polynomial_features__degree': 1,\n",
              "   'ridge_regression__alpha': 12.82952815374728},\n",
              "  {'polynomial_features__degree': 1,\n",
              "   'ridge_regression__alpha': 13.561667680093686},\n",
              "  {'polynomial_features__degree': 1,\n",
              "   'ridge_regression__alpha': 14.335588032641558},\n",
              "  {'polynomial_features__degree': 1,\n",
              "   'ridge_regression__alpha': 15.153673507519274},\n",
              "  {'polynomial_features__degree': 1,\n",
              "   'ridge_regression__alpha': 16.018444464895637},\n",
              "  {'polynomial_features__degree': 1,\n",
              "   'ridge_regression__alpha': 16.932565093713098},\n",
              "  {'polynomial_features__degree': 1,\n",
              "   'ridge_regression__alpha': 17.898851619528912},\n",
              "  {'polynomial_features__degree': 1,\n",
              "   'ridge_regression__alpha': 18.920280980751272},\n",
              "  {'polynomial_features__degree': 1,\n",
              "   'ridge_regression__alpha': 20.000000000000004},\n",
              "  {'polynomial_features__degree': 2, 'ridge_regression__alpha': 4.0},\n",
              "  {'polynomial_features__degree': 2,\n",
              "   'ridge_regression__alpha': 4.228267015769416},\n",
              "  {'polynomial_features__degree': 2,\n",
              "   'ridge_regression__alpha': 4.4695604891609},\n",
              "  {'polynomial_features__degree': 2,\n",
              "   'ridge_regression__alpha': 4.724623797826311},\n",
              "  {'polynomial_features__degree': 2,\n",
              "   'ridge_regression__alpha': 4.994242741567055},\n",
              "  {'polynomial_features__degree': 2,\n",
              "   'ridge_regression__alpha': 5.279247963228449},\n",
              "  {'polynomial_features__degree': 2,\n",
              "   'ridge_regression__alpha': 5.58051750774668},\n",
              "  {'polynomial_features__degree': 2,\n",
              "   'ridge_regression__alpha': 5.898979527232258},\n",
              "  {'polynomial_features__degree': 2,\n",
              "   'ridge_regression__alpha': 6.235615140423803},\n",
              "  {'polynomial_features__degree': 2,\n",
              "   'ridge_regression__alpha': 6.591461455321584},\n",
              "  {'polynomial_features__degree': 2,\n",
              "   'ridge_regression__alpha': 6.9676147643129305},\n",
              "  {'polynomial_features__degree': 2,\n",
              "   'ridge_regression__alpha': 7.365233921633089},\n",
              "  {'polynomial_features__degree': 2,\n",
              "   'ridge_regression__alpha': 7.785543913566802},\n",
              "  {'polynomial_features__degree': 2,\n",
              "   'ridge_regression__alpha': 8.229839632389709},\n",
              "  {'polynomial_features__degree': 2,\n",
              "   'ridge_regression__alpha': 8.699489865676323},\n",
              "  {'polynomial_features__degree': 2,\n",
              "   'ridge_regression__alpha': 9.195941513264877},\n",
              "  {'polynomial_features__degree': 2,\n",
              "   'ridge_regression__alpha': 9.720724044870641},\n",
              "  {'polynomial_features__degree': 2,\n",
              "   'ridge_regression__alpha': 10.275454212080797},\n",
              "  {'polynomial_features__degree': 2,\n",
              "   'ridge_regression__alpha': 10.861841029247536},\n",
              "  {'polynomial_features__degree': 2,\n",
              "   'ridge_regression__alpha': 11.481691038624568},\n",
              "  {'polynomial_features__degree': 2,\n",
              "   'ridge_regression__alpha': 12.136913875967887},\n",
              "  {'polynomial_features__degree': 2,\n",
              "   'ridge_regression__alpha': 12.82952815374728},\n",
              "  {'polynomial_features__degree': 2,\n",
              "   'ridge_regression__alpha': 13.561667680093686},\n",
              "  {'polynomial_features__degree': 2,\n",
              "   'ridge_regression__alpha': 14.335588032641558},\n",
              "  {'polynomial_features__degree': 2,\n",
              "   'ridge_regression__alpha': 15.153673507519274},\n",
              "  {'polynomial_features__degree': 2,\n",
              "   'ridge_regression__alpha': 16.018444464895637},\n",
              "  {'polynomial_features__degree': 2,\n",
              "   'ridge_regression__alpha': 16.932565093713098},\n",
              "  {'polynomial_features__degree': 2,\n",
              "   'ridge_regression__alpha': 17.898851619528912},\n",
              "  {'polynomial_features__degree': 2,\n",
              "   'ridge_regression__alpha': 18.920280980751272},\n",
              "  {'polynomial_features__degree': 2,\n",
              "   'ridge_regression__alpha': 20.000000000000004},\n",
              "  {'polynomial_features__degree': 3, 'ridge_regression__alpha': 4.0},\n",
              "  {'polynomial_features__degree': 3,\n",
              "   'ridge_regression__alpha': 4.228267015769416},\n",
              "  {'polynomial_features__degree': 3,\n",
              "   'ridge_regression__alpha': 4.4695604891609},\n",
              "  {'polynomial_features__degree': 3,\n",
              "   'ridge_regression__alpha': 4.724623797826311},\n",
              "  {'polynomial_features__degree': 3,\n",
              "   'ridge_regression__alpha': 4.994242741567055},\n",
              "  {'polynomial_features__degree': 3,\n",
              "   'ridge_regression__alpha': 5.279247963228449},\n",
              "  {'polynomial_features__degree': 3,\n",
              "   'ridge_regression__alpha': 5.58051750774668},\n",
              "  {'polynomial_features__degree': 3,\n",
              "   'ridge_regression__alpha': 5.898979527232258},\n",
              "  {'polynomial_features__degree': 3,\n",
              "   'ridge_regression__alpha': 6.235615140423803},\n",
              "  {'polynomial_features__degree': 3,\n",
              "   'ridge_regression__alpha': 6.591461455321584},\n",
              "  {'polynomial_features__degree': 3,\n",
              "   'ridge_regression__alpha': 6.9676147643129305},\n",
              "  {'polynomial_features__degree': 3,\n",
              "   'ridge_regression__alpha': 7.365233921633089},\n",
              "  {'polynomial_features__degree': 3,\n",
              "   'ridge_regression__alpha': 7.785543913566802},\n",
              "  {'polynomial_features__degree': 3,\n",
              "   'ridge_regression__alpha': 8.229839632389709},\n",
              "  {'polynomial_features__degree': 3,\n",
              "   'ridge_regression__alpha': 8.699489865676323},\n",
              "  {'polynomial_features__degree': 3,\n",
              "   'ridge_regression__alpha': 9.195941513264877},\n",
              "  {'polynomial_features__degree': 3,\n",
              "   'ridge_regression__alpha': 9.720724044870641},\n",
              "  {'polynomial_features__degree': 3,\n",
              "   'ridge_regression__alpha': 10.275454212080797},\n",
              "  {'polynomial_features__degree': 3,\n",
              "   'ridge_regression__alpha': 10.861841029247536},\n",
              "  {'polynomial_features__degree': 3,\n",
              "   'ridge_regression__alpha': 11.481691038624568},\n",
              "  {'polynomial_features__degree': 3,\n",
              "   'ridge_regression__alpha': 12.136913875967887},\n",
              "  {'polynomial_features__degree': 3,\n",
              "   'ridge_regression__alpha': 12.82952815374728},\n",
              "  {'polynomial_features__degree': 3,\n",
              "   'ridge_regression__alpha': 13.561667680093686},\n",
              "  {'polynomial_features__degree': 3,\n",
              "   'ridge_regression__alpha': 14.335588032641558},\n",
              "  {'polynomial_features__degree': 3,\n",
              "   'ridge_regression__alpha': 15.153673507519274},\n",
              "  {'polynomial_features__degree': 3,\n",
              "   'ridge_regression__alpha': 16.018444464895637},\n",
              "  {'polynomial_features__degree': 3,\n",
              "   'ridge_regression__alpha': 16.932565093713098},\n",
              "  {'polynomial_features__degree': 3,\n",
              "   'ridge_regression__alpha': 17.898851619528912},\n",
              "  {'polynomial_features__degree': 3,\n",
              "   'ridge_regression__alpha': 18.920280980751272},\n",
              "  {'polynomial_features__degree': 3,\n",
              "   'ridge_regression__alpha': 20.000000000000004}],\n",
              " 'rank_test_score': array([11,  9,  8,  6,  4,  2,  1,  3,  5,  7, 10, 12, 13, 14, 15, 16, 17,\n",
              "        18, 19, 20, 21, 22, 23, 24, 25, 26, 27, 28, 29, 30, 60, 59, 58, 57,\n",
              "        56, 55, 54, 53, 52, 51, 50, 49, 48, 47, 46, 45, 44, 43, 42, 41, 40,\n",
              "        39, 38, 37, 36, 35, 34, 33, 32, 31, 90, 89, 88, 87, 86, 85, 84, 83,\n",
              "        82, 81, 80, 79, 78, 77, 76, 75, 74, 73, 72, 71, 70, 69, 68, 67, 66,\n",
              "        65, 64, 63, 62, 61], dtype=int32),\n",
              " 'split0_test_score': array([ 7.54663676e-01,  7.54751830e-01,  7.54656162e-01,  7.54360631e-01,\n",
              "         7.53848950e-01,  7.53104688e-01,  7.52111385e-01,  7.50852667e-01,\n",
              "         7.49312383e-01,  7.47474737e-01,  7.45324428e-01,  7.42846804e-01,\n",
              "         7.40028004e-01,  7.36855113e-01,  7.33316307e-01,  7.29400998e-01,\n",
              "         7.25099969e-01,  7.20405507e-01,  7.15311518e-01,  7.09813627e-01,\n",
              "         7.03909270e-01,  6.97597762e-01,  6.90880343e-01,  6.83760212e-01,\n",
              "         6.76242527e-01,  6.68334391e-01,  6.60044812e-01,  6.51384642e-01,\n",
              "         6.42366491e-01,  6.33004623e-01, -1.48935069e-01, -1.25975510e-01,\n",
              "        -1.03549304e-01, -8.16994079e-02, -6.04639475e-02, -3.98759897e-02,\n",
              "        -1.99633823e-02, -7.48673313e-04,  1.77508949e-02,  3.55233176e-02,\n",
              "         5.25616890e-02,  6.88639991e-02,  8.44328711e-02,  9.92752461e-02,\n",
              "         1.13402025e-01,  1.26827676e-01,  1.39569808e-01,  1.51648737e-01,\n",
              "         1.63087036e-01,  1.73909080e-01,  1.84140604e-01,  1.93808271e-01,\n",
              "         2.02939254e-01,  2.11560849e-01,  2.19700109e-01,  2.27383515e-01,\n",
              "         2.34636678e-01,  2.41484073e-01,  2.47948819e-01,  2.54052485e-01,\n",
              "        -7.56124412e+00, -7.49313935e+00, -7.42628717e+00, -7.36022209e+00,\n",
              "        -7.29448252e+00, -7.22861447e+00, -7.16217526e+00, -7.09473717e+00,\n",
              "        -7.02589106e+00, -6.95524982e+00, -6.88245164e+00, -6.80716296e+00,\n",
              "        -6.72908119e+00, -6.64793701e+00, -6.56349631e+00, -6.47556172e+00,\n",
              "        -6.38397368e+00, -6.28861114e+00, -6.18939175e+00, -6.08627169e+00,\n",
              "        -5.97924503e+00, -5.86834283e+00, -5.75363171e+00, -5.63521232e+00,\n",
              "        -5.51321735e+00, -5.38780942e+00, -5.25917870e+00, -5.12754044e+00,\n",
              "        -4.99313231e+00, -4.85621171e+00]),\n",
              " 'split1_test_score': array([0.50635708, 0.5044709 , 0.50248721, 0.50040166, 0.49820982,\n",
              "        0.49590716, 0.49348905, 0.49095082, 0.48828772, 0.48549498,\n",
              "        0.4825678 , 0.47950142, 0.47629107, 0.47293207, 0.46941984,\n",
              "        0.46574991, 0.46191798, 0.45791996, 0.45375201, 0.44941057,\n",
              "        0.44489242, 0.44019473, 0.4353151 , 0.43025162, 0.4250029 ,\n",
              "        0.41956815, 0.41394719, 0.40814052, 0.40214935, 0.39597566,\n",
              "        0.48835026, 0.48462718, 0.48081763, 0.47692323, 0.47294573,\n",
              "        0.46888694, 0.46474877, 0.46053318, 0.45624211, 0.45187753,\n",
              "        0.44744139, 0.44293555, 0.43836185, 0.43372199, 0.4290176 ,\n",
              "        0.42425017, 0.41942106, 0.41453149, 0.40958251, 0.40457505,\n",
              "        0.39950988, 0.39438763, 0.38920879, 0.38397375, 0.37868278,\n",
              "        0.37333608, 0.36793379, 0.362476  , 0.35696282, 0.35139436,\n",
              "        0.55448748, 0.5500396 , 0.54552957, 0.54096191, 0.53634149,\n",
              "        0.53167343, 0.52696308, 0.52221601, 0.5174379 , 0.51263455,\n",
              "        0.5078118 , 0.50297547, 0.49813135, 0.49328512, 0.48844231,\n",
              "        0.48360829, 0.47878819, 0.4739869 , 0.46920903, 0.46445888,\n",
              "        0.45974042, 0.4550573 , 0.45041282, 0.4458099 , 0.44125113,\n",
              "        0.43673874, 0.4322746 , 0.42786024, 0.42349686, 0.41918532]),\n",
              " 'split2_test_score': array([0.64483969, 0.64821321, 0.65163216, 0.65508726, 0.65856804,\n",
              "        0.66206276, 0.66555841, 0.66904061, 0.67249363, 0.67590031,\n",
              "        0.67924208, 0.68249895, 0.68564952, 0.68867103, 0.6915394 ,\n",
              "        0.69422931, 0.69671428, 0.69896682, 0.70095854, 0.70266035,\n",
              "        0.70404261, 0.70507539, 0.70572869, 0.70597268, 0.705778  ,\n",
              "        0.70511605, 0.70395929, 0.70228153, 0.70005827, 0.69726703,\n",
              "        0.71257133, 0.71904416, 0.72518596, 0.73100153, 0.73649739,\n",
              "        0.74168162, 0.7465636 , 0.75115386, 0.75546381, 0.75950544,\n",
              "        0.76329106, 0.76683303, 0.77014337, 0.77323354, 0.77611408,\n",
              "        0.77879434, 0.78128219, 0.78358376, 0.78570326, 0.78764272,\n",
              "        0.78940187, 0.79097802, 0.79236599, 0.79355808, 0.79454408,\n",
              "        0.79531136, 0.79584498, 0.79612781, 0.7961408 , 0.79586317,\n",
              "        0.58403508, 0.61033501, 0.63177429, 0.64867982, 0.66137979,\n",
              "        0.67020131, 0.67546832, 0.67749976, 0.676608  , 0.67309746,\n",
              "        0.66726351, 0.65939154, 0.64975621, 0.63862091, 0.6262373 ,\n",
              "        0.61284502, 0.59867145, 0.58393162, 0.5688281 , 0.55355101,\n",
              "        0.53827798, 0.52317424, 0.50839261, 0.49407357, 0.48034532,\n",
              "        0.46732382, 0.45511288, 0.4438042 , 0.43347748, 0.42420053]),\n",
              " 'std_fit_time': array([4.39064513e-04, 1.05107479e-03, 1.02378133e-04, 6.98053156e-05,\n",
              "        2.50663497e-05, 3.44877417e-05, 1.50839404e-05, 7.17576113e-05,\n",
              "        5.44871305e-04, 4.14651532e-04, 8.25676651e-04, 7.42694144e-04,\n",
              "        9.54534884e-06, 1.92261914e-05, 1.72667330e-04, 1.44159474e-05,\n",
              "        5.25830541e-05, 2.64827133e-05, 1.48699943e-04, 5.53727867e-04,\n",
              "        1.15260746e-04, 9.22778118e-04, 2.72097152e-04, 9.60840349e-05,\n",
              "        8.88866188e-05, 7.41358686e-06, 1.75379766e-04, 2.35451676e-05,\n",
              "        1.74565533e-05, 9.54873603e-05, 7.35638842e-05, 7.57348416e-05,\n",
              "        9.15098835e-05, 7.11886098e-05, 6.91252640e-04, 3.18889244e-05,\n",
              "        3.36129800e-05, 9.32852278e-05, 9.22375581e-05, 8.64352025e-05,\n",
              "        3.18817934e-05, 7.58191907e-05, 1.02359130e-04, 4.17390672e-05,\n",
              "        3.97205321e-06, 5.15316387e-05, 6.64252399e-06, 1.70846317e-05,\n",
              "        1.12533064e-04, 1.02182382e-04, 4.13631613e-05, 3.80496598e-05,\n",
              "        2.67599434e-04, 4.76858350e-05, 2.58566631e-05, 1.93885276e-04,\n",
              "        6.30564934e-05, 7.43382690e-05, 3.82764741e-04, 2.70499745e-05,\n",
              "        1.15356327e-04, 2.36041083e-05, 8.29726343e-05, 8.09453607e-06,\n",
              "        1.74706581e-05, 7.14254562e-05, 1.37173011e-05, 2.34163244e-05,\n",
              "        3.60237420e-05, 2.45793508e-05, 1.25435718e-04, 2.02233304e-04,\n",
              "        1.09509737e-04, 1.90459821e-05, 1.32098572e-04, 4.38976597e-05,\n",
              "        1.10673712e-04, 1.63014314e-05, 1.00202072e-04, 2.75139126e-05,\n",
              "        9.57832279e-05, 4.45812284e-05, 4.76870271e-05, 3.94926845e-04,\n",
              "        8.49966600e-05, 1.78355937e-05, 3.47049889e-05, 2.35765317e-05,\n",
              "        5.83258242e-05, 4.40661062e-05]),\n",
              " 'std_score_time': array([1.00937227e-04, 4.11834279e-04, 1.41011416e-04, 2.29687261e-04,\n",
              "        5.94717239e-05, 3.15075562e-05, 3.44217497e-05, 6.32995216e-06,\n",
              "        3.33260527e-04, 1.78365180e-04, 3.84077770e-04, 2.32482471e-04,\n",
              "        3.93076653e-05, 4.22847895e-05, 1.26404325e-05, 4.58164999e-05,\n",
              "        1.10143936e-04, 3.02575628e-05, 1.11514837e-04, 1.94424467e-05,\n",
              "        2.73450093e-04, 5.24558189e-04, 2.86923484e-04, 3.45173969e-05,\n",
              "        4.33372725e-05, 1.43979732e-05, 4.44595072e-05, 1.73647744e-05,\n",
              "        2.85003016e-05, 3.84089955e-05, 1.69137216e-05, 3.74746347e-05,\n",
              "        1.97243248e-05, 3.04803916e-04, 3.17995869e-04, 5.57703589e-05,\n",
              "        2.88872640e-05, 3.60824288e-05, 9.75226872e-05, 3.74512004e-05,\n",
              "        3.56832255e-06, 4.92422715e-05, 7.84133379e-05, 5.39431658e-05,\n",
              "        3.52456533e-05, 4.93268520e-05, 4.18718658e-05, 6.87222915e-05,\n",
              "        7.77915491e-05, 1.53639764e-05, 2.21468488e-05, 4.66400749e-05,\n",
              "        2.86528041e-05, 3.66892721e-05, 2.61848299e-05, 4.12966857e-05,\n",
              "        1.06071768e-04, 2.63214783e-04, 2.81605437e-05, 2.34704763e-05,\n",
              "        1.68411222e-05, 1.52293723e-05, 4.83816776e-05, 2.16741008e-05,\n",
              "        4.62332636e-05, 4.36148908e-05, 5.56699299e-05, 3.22599123e-05,\n",
              "        7.61597997e-05, 2.06020264e-05, 6.32671851e-05, 4.94212571e-05,\n",
              "        1.28141207e-05, 2.64278030e-05, 1.43154998e-04, 5.73596982e-05,\n",
              "        1.43267327e-05, 1.96925985e-06, 8.10467325e-07, 4.25095862e-05,\n",
              "        3.39415177e-06, 3.67888100e-05, 6.39033946e-05, 3.07361734e-05,\n",
              "        9.26736694e-06, 1.96125750e-05, 6.04055427e-05, 1.92347307e-05,\n",
              "        1.47618564e-05, 6.23038836e-06]),\n",
              " 'std_test_score': array([0.10159555, 0.10255236, 0.10351991, 0.10449774, 0.10548542,\n",
              "        0.10648259, 0.10748891, 0.10850405, 0.10952768, 0.11055943,\n",
              "        0.11159883, 0.11264529, 0.11369802, 0.11475596, 0.11581775,\n",
              "        0.1168816 , 0.11794528, 0.11900601, 0.12006038, 0.12110435,\n",
              "        0.12213316, 0.12314129, 0.12412251, 0.1250698 , 0.12597546,\n",
              "        0.12683109, 0.12762773, 0.1283559 , 0.12900574, 0.12956717,\n",
              "        0.36493545, 0.35619053, 0.34769123, 0.33946   , 0.33151718,\n",
              "        0.3238808 , 0.31656649, 0.30958732, 0.3029537 , 0.29667338,\n",
              "        0.29075137, 0.28518997, 0.27998881, 0.27514491, 0.2706528 ,\n",
              "        0.26650458, 0.26269014, 0.25919722, 0.25601168, 0.25311758,\n",
              "        0.25049748, 0.24813252, 0.2460027 , 0.24408703, 0.24236375,\n",
              "        0.24081051, 0.23940455, 0.23812289, 0.23694252, 0.23584052,\n",
              "        3.83277599, 3.80588229, 3.77844258, 3.75030105, 3.72130778,\n",
              "        3.69131938, 3.66019974, 3.62782083, 3.5940636 , 3.5588189 ,\n",
              "        3.52198835, 3.48348526, 3.44323544, 3.40117794, 3.35726567,\n",
              "        3.31146593, 3.26376071, 3.21414692, 3.16263645, 3.10925596,\n",
              "        3.05404664, 2.99706374, 2.93837595, 2.87806467, 2.81622318,\n",
              "        2.75295562, 2.68837602, 2.6226071 , 2.55577918, 2.48802895])}"
            ]
          },
          "metadata": {
            "tags": []
          },
          "execution_count": 75
        }
      ]
    },
    {
      "cell_type": "code",
      "metadata": {
        "colab": {
          "base_uri": "https://localhost:8080/",
          "height": 609
        },
        "id": "nDr60vkR5WpJ",
        "outputId": "4a24061f-9ef2-4129-be23-836c1314a44e"
      },
      "source": [
        "pd.DataFrame(grid.cv_results_)"
      ],
      "execution_count": 76,
      "outputs": [
        {
          "output_type": "execute_result",
          "data": {
            "text/html": [
              "<div>\n",
              "<style scoped>\n",
              "    .dataframe tbody tr th:only-of-type {\n",
              "        vertical-align: middle;\n",
              "    }\n",
              "\n",
              "    .dataframe tbody tr th {\n",
              "        vertical-align: top;\n",
              "    }\n",
              "\n",
              "    .dataframe thead th {\n",
              "        text-align: right;\n",
              "    }\n",
              "</style>\n",
              "<table border=\"1\" class=\"dataframe\">\n",
              "  <thead>\n",
              "    <tr style=\"text-align: right;\">\n",
              "      <th></th>\n",
              "      <th>mean_fit_time</th>\n",
              "      <th>std_fit_time</th>\n",
              "      <th>mean_score_time</th>\n",
              "      <th>std_score_time</th>\n",
              "      <th>param_polynomial_features__degree</th>\n",
              "      <th>param_ridge_regression__alpha</th>\n",
              "      <th>params</th>\n",
              "      <th>split0_test_score</th>\n",
              "      <th>split1_test_score</th>\n",
              "      <th>split2_test_score</th>\n",
              "      <th>mean_test_score</th>\n",
              "      <th>std_test_score</th>\n",
              "      <th>rank_test_score</th>\n",
              "    </tr>\n",
              "  </thead>\n",
              "  <tbody>\n",
              "    <tr>\n",
              "      <th>0</th>\n",
              "      <td>0.004046</td>\n",
              "      <td>0.000439</td>\n",
              "      <td>0.001746</td>\n",
              "      <td>0.000101</td>\n",
              "      <td>1</td>\n",
              "      <td>4</td>\n",
              "      <td>{'polynomial_features__degree': 1, 'ridge_regr...</td>\n",
              "      <td>0.754664</td>\n",
              "      <td>0.506357</td>\n",
              "      <td>0.644840</td>\n",
              "      <td>0.635287</td>\n",
              "      <td>0.101596</td>\n",
              "      <td>11</td>\n",
              "    </tr>\n",
              "    <tr>\n",
              "      <th>1</th>\n",
              "      <td>0.005552</td>\n",
              "      <td>0.001051</td>\n",
              "      <td>0.002261</td>\n",
              "      <td>0.000412</td>\n",
              "      <td>1</td>\n",
              "      <td>4.22827</td>\n",
              "      <td>{'polynomial_features__degree': 1, 'ridge_regr...</td>\n",
              "      <td>0.754752</td>\n",
              "      <td>0.504471</td>\n",
              "      <td>0.648213</td>\n",
              "      <td>0.635812</td>\n",
              "      <td>0.102552</td>\n",
              "      <td>9</td>\n",
              "    </tr>\n",
              "    <tr>\n",
              "      <th>2</th>\n",
              "      <td>0.003169</td>\n",
              "      <td>0.000102</td>\n",
              "      <td>0.001455</td>\n",
              "      <td>0.000141</td>\n",
              "      <td>1</td>\n",
              "      <td>4.46956</td>\n",
              "      <td>{'polynomial_features__degree': 1, 'ridge_regr...</td>\n",
              "      <td>0.754656</td>\n",
              "      <td>0.502487</td>\n",
              "      <td>0.651632</td>\n",
              "      <td>0.636259</td>\n",
              "      <td>0.103520</td>\n",
              "      <td>8</td>\n",
              "    </tr>\n",
              "    <tr>\n",
              "      <th>3</th>\n",
              "      <td>0.003081</td>\n",
              "      <td>0.000070</td>\n",
              "      <td>0.001468</td>\n",
              "      <td>0.000230</td>\n",
              "      <td>1</td>\n",
              "      <td>4.72462</td>\n",
              "      <td>{'polynomial_features__degree': 1, 'ridge_regr...</td>\n",
              "      <td>0.754361</td>\n",
              "      <td>0.500402</td>\n",
              "      <td>0.655087</td>\n",
              "      <td>0.636617</td>\n",
              "      <td>0.104498</td>\n",
              "      <td>6</td>\n",
              "    </tr>\n",
              "    <tr>\n",
              "      <th>4</th>\n",
              "      <td>0.002846</td>\n",
              "      <td>0.000025</td>\n",
              "      <td>0.001355</td>\n",
              "      <td>0.000059</td>\n",
              "      <td>1</td>\n",
              "      <td>4.99424</td>\n",
              "      <td>{'polynomial_features__degree': 1, 'ridge_regr...</td>\n",
              "      <td>0.753849</td>\n",
              "      <td>0.498210</td>\n",
              "      <td>0.658568</td>\n",
              "      <td>0.636876</td>\n",
              "      <td>0.105485</td>\n",
              "      <td>4</td>\n",
              "    </tr>\n",
              "    <tr>\n",
              "      <th>...</th>\n",
              "      <td>...</td>\n",
              "      <td>...</td>\n",
              "      <td>...</td>\n",
              "      <td>...</td>\n",
              "      <td>...</td>\n",
              "      <td>...</td>\n",
              "      <td>...</td>\n",
              "      <td>...</td>\n",
              "      <td>...</td>\n",
              "      <td>...</td>\n",
              "      <td>...</td>\n",
              "      <td>...</td>\n",
              "      <td>...</td>\n",
              "    </tr>\n",
              "    <tr>\n",
              "      <th>85</th>\n",
              "      <td>0.003021</td>\n",
              "      <td>0.000018</td>\n",
              "      <td>0.001501</td>\n",
              "      <td>0.000020</td>\n",
              "      <td>3</td>\n",
              "      <td>16.0184</td>\n",
              "      <td>{'polynomial_features__degree': 3, 'ridge_regr...</td>\n",
              "      <td>-5.387809</td>\n",
              "      <td>0.436739</td>\n",
              "      <td>0.467324</td>\n",
              "      <td>-1.494582</td>\n",
              "      <td>2.752956</td>\n",
              "      <td>65</td>\n",
              "    </tr>\n",
              "    <tr>\n",
              "      <th>86</th>\n",
              "      <td>0.003024</td>\n",
              "      <td>0.000035</td>\n",
              "      <td>0.001525</td>\n",
              "      <td>0.000060</td>\n",
              "      <td>3</td>\n",
              "      <td>16.9326</td>\n",
              "      <td>{'polynomial_features__degree': 3, 'ridge_regr...</td>\n",
              "      <td>-5.259179</td>\n",
              "      <td>0.432275</td>\n",
              "      <td>0.455113</td>\n",
              "      <td>-1.457264</td>\n",
              "      <td>2.688376</td>\n",
              "      <td>64</td>\n",
              "    </tr>\n",
              "    <tr>\n",
              "      <th>87</th>\n",
              "      <td>0.002958</td>\n",
              "      <td>0.000024</td>\n",
              "      <td>0.001518</td>\n",
              "      <td>0.000019</td>\n",
              "      <td>3</td>\n",
              "      <td>17.8989</td>\n",
              "      <td>{'polynomial_features__degree': 3, 'ridge_regr...</td>\n",
              "      <td>-5.127540</td>\n",
              "      <td>0.427860</td>\n",
              "      <td>0.443804</td>\n",
              "      <td>-1.418625</td>\n",
              "      <td>2.622607</td>\n",
              "      <td>63</td>\n",
              "    </tr>\n",
              "    <tr>\n",
              "      <th>88</th>\n",
              "      <td>0.003099</td>\n",
              "      <td>0.000058</td>\n",
              "      <td>0.001544</td>\n",
              "      <td>0.000015</td>\n",
              "      <td>3</td>\n",
              "      <td>18.9203</td>\n",
              "      <td>{'polynomial_features__degree': 3, 'ridge_regr...</td>\n",
              "      <td>-4.993132</td>\n",
              "      <td>0.423497</td>\n",
              "      <td>0.433477</td>\n",
              "      <td>-1.378719</td>\n",
              "      <td>2.555779</td>\n",
              "      <td>62</td>\n",
              "    </tr>\n",
              "    <tr>\n",
              "      <th>89</th>\n",
              "      <td>0.003114</td>\n",
              "      <td>0.000044</td>\n",
              "      <td>0.001491</td>\n",
              "      <td>0.000006</td>\n",
              "      <td>3</td>\n",
              "      <td>20</td>\n",
              "      <td>{'polynomial_features__degree': 3, 'ridge_regr...</td>\n",
              "      <td>-4.856212</td>\n",
              "      <td>0.419185</td>\n",
              "      <td>0.424201</td>\n",
              "      <td>-1.337609</td>\n",
              "      <td>2.488029</td>\n",
              "      <td>61</td>\n",
              "    </tr>\n",
              "  </tbody>\n",
              "</table>\n",
              "<p>90 rows × 13 columns</p>\n",
              "</div>"
            ],
            "text/plain": [
              "    mean_fit_time  std_fit_time  ...  std_test_score  rank_test_score\n",
              "0        0.004046      0.000439  ...        0.101596               11\n",
              "1        0.005552      0.001051  ...        0.102552                9\n",
              "2        0.003169      0.000102  ...        0.103520                8\n",
              "3        0.003081      0.000070  ...        0.104498                6\n",
              "4        0.002846      0.000025  ...        0.105485                4\n",
              "..            ...           ...  ...             ...              ...\n",
              "85       0.003021      0.000018  ...        2.752956               65\n",
              "86       0.003024      0.000035  ...        2.688376               64\n",
              "87       0.002958      0.000024  ...        2.622607               63\n",
              "88       0.003099      0.000058  ...        2.555779               62\n",
              "89       0.003114      0.000044  ...        2.488029               61\n",
              "\n",
              "[90 rows x 13 columns]"
            ]
          },
          "metadata": {
            "tags": []
          },
          "execution_count": 76
        }
      ]
    },
    {
      "cell_type": "markdown",
      "metadata": {
        "id": "wXVRGAxO3I9D"
      },
      "source": [
        "### Lasso with and without scaling\r\n",
        "We discussed Lasso in lecture.\r\n",
        "\r\n",
        "Let's review together:\r\n",
        "\r\n",
        "What is different about Lasso vs. regular Linear Regression?\r\n",
        "Is standardization more or less important with Lasso vs. Linear Regression? Why?"
      ]
    },
    {
      "cell_type": "code",
      "metadata": {
        "id": "7SYnIEfvfbd7"
      },
      "source": [
        "from sklearn.linear_model import Lasso\r\n",
        "from sklearn.preprocessing import PolynomialFeatures"
      ],
      "execution_count": 77,
      "outputs": []
    },
    {
      "cell_type": "markdown",
      "metadata": {
        "id": "zYkF04dB3Rm5"
      },
      "source": [
        "## Create polynomial features\r\n",
        "PolynomialFeatures"
      ]
    },
    {
      "cell_type": "code",
      "metadata": {
        "id": "yR_JmuMQfbhz"
      },
      "source": [
        "pf = PolynomialFeatures(degree=2, include_bias=False,)\r\n",
        "X_pf = pf.fit_transform(X)"
      ],
      "execution_count": 78,
      "outputs": []
    },
    {
      "cell_type": "markdown",
      "metadata": {
        "id": "vk6SPLxe3aJS"
      },
      "source": [
        "**Note:** We use include_bias=False since Lasso includes a bias by default."
      ]
    },
    {
      "cell_type": "code",
      "metadata": {
        "id": "QPS0s2KS3YNo"
      },
      "source": [
        "X_pf_ss = s.fit_transform(X_pf)"
      ],
      "execution_count": 79,
      "outputs": []
    },
    {
      "cell_type": "markdown",
      "metadata": {
        "id": "GxdhEC9j3m70"
      },
      "source": [
        "## Lasso\r\n",
        "Lasso documentation"
      ]
    },
    {
      "cell_type": "code",
      "metadata": {
        "colab": {
          "base_uri": "https://localhost:8080/"
        },
        "id": "E2jBmQAi3YQ1",
        "outputId": "7d0f1fb8-fdf1-4279-c053-a2852c8ec638"
      },
      "source": [
        "las = Lasso()\r\n",
        "las.fit(X_pf_ss, y)\r\n",
        "las.coef_ "
      ],
      "execution_count": 80,
      "outputs": [
        {
          "output_type": "execute_result",
          "data": {
            "text/plain": [
              "array([  0.        , -17.64314015,  -0.        ,   0.        ,\n",
              "         4.92812486,  -0.        ,   0.        , -41.20456677,\n",
              "       -20.74293952,  -0.        ,   0.        ,  -3.29161187,\n",
              "        -5.63225979, 103.18561845])"
            ]
          },
          "metadata": {
            "tags": []
          },
          "execution_count": 80
        }
      ]
    },
    {
      "cell_type": "markdown",
      "metadata": {
        "id": "TcrH0s6830cx"
      },
      "source": [
        "## Exercise\r\n",
        "Compare\r\n",
        "\r\n",
        "* Sum of magnitudes of the coefficients\r\n",
        "* Number of coefficients that are zero\r\n",
        "for Lasso with alpha 0.1 vs. 1.\r\n",
        "\r\n",
        "Before doing the exercise, answer the following questions in one sentence each:\r\n",
        "\r\n",
        "* Which do you expect to have greater magnitude?\r\n",
        "* Which do you expect to have more zeros?"
      ]
    },
    {
      "cell_type": "code",
      "metadata": {
        "colab": {
          "base_uri": "https://localhost:8080/"
        },
        "id": "Ckh6Upsn3YT5",
        "outputId": "71b0f7d9-beee-4852-f94c-b7ccf557c497"
      },
      "source": [
        "las01 = Lasso(alpha = 0.1)\r\n",
        "las01.fit(X_pf_ss, y)\r\n",
        "print('sum of coefficients:', abs(las01.coef_).sum() )\r\n",
        "print('number of coefficients not equal to 0:', (las01.coef_!=0).sum())"
      ],
      "execution_count": 81,
      "outputs": [
        {
          "output_type": "stream",
          "text": [
            "sum of coefficients: 1680.296532559976\n",
            "number of coefficients not equal to 0: 14\n"
          ],
          "name": "stdout"
        },
        {
          "output_type": "stream",
          "text": [
            "/usr/local/lib/python3.6/dist-packages/sklearn/linear_model/_coordinate_descent.py:476: ConvergenceWarning: Objective did not converge. You might want to increase the number of iterations. Duality gap: 10014.054421865992, tolerance: 58.836647916666664\n",
            "  positive)\n"
          ],
          "name": "stderr"
        }
      ]
    },
    {
      "cell_type": "code",
      "metadata": {
        "colab": {
          "base_uri": "https://localhost:8080/"
        },
        "id": "gdp6JzOT3YXK",
        "outputId": "dc044856-70ab-4513-caf1-b521ae05e732"
      },
      "source": [
        "las1 = Lasso(alpha = 1)\r\n",
        "las1.fit(X_pf_ss, y)\r\n",
        "print('sum of coefficients:',abs(las1.coef_).sum() )\r\n",
        "print('number of coefficients not equal to 0:',(las1.coef_!=0).sum())"
      ],
      "execution_count": 82,
      "outputs": [
        {
          "output_type": "stream",
          "text": [
            "sum of coefficients: 196.62826141518\n",
            "number of coefficients not equal to 0: 7\n"
          ],
          "name": "stdout"
        }
      ]
    },
    {
      "cell_type": "markdown",
      "metadata": {
        "id": "7det6xzc4Tfe"
      },
      "source": [
        "With more regularization (higher alpha) we will expect the penalty for higher weights to be greater and thus the coefficients to be pushed down. Thus a higher alpha means lower magnitude with more coefficients pushed down to 0.\r\n",
        "\r\n",
        "## Exercise:  𝑅2 \r\n",
        "Calculate the  𝑅2  of each model without train/test split.\r\n",
        "\r\n",
        "Recall that we import  𝑅2  using:\r\n",
        "\r\n",
        "from sklearn.metrics import r2_score"
      ]
    },
    {
      "cell_type": "code",
      "metadata": {
        "colab": {
          "base_uri": "https://localhost:8080/"
        },
        "id": "skx0mIZS3Yae",
        "outputId": "5ba03c77-4d79-4e5d-8e9e-3ac2f7c5510d"
      },
      "source": [
        "from sklearn.metrics import r2_score\r\n",
        "r2_score(y,las.predict(X_pf_ss))"
      ],
      "execution_count": 83,
      "outputs": [
        {
          "output_type": "execute_result",
          "data": {
            "text/plain": [
              "0.7093600182448968"
            ]
          },
          "metadata": {
            "tags": []
          },
          "execution_count": 83
        }
      ]
    },
    {
      "cell_type": "markdown",
      "metadata": {
        "id": "eM1UEGA44vuF"
      },
      "source": [
        "#### Discuss:\r\n",
        "Will regularization ever increase model performance if we evaluate on the same dataset that we trained on?\r\n",
        "\r\n",
        "## With train/test split\r\n",
        "Discuss\r\n",
        "Are there any issues with what we've done so far?\r\n",
        "\r\n",
        "Hint: Think about the way we have done feature scaling.\r\n",
        "\r\n",
        "Discuss in groups of two or three."
      ]
    },
    {
      "cell_type": "code",
      "metadata": {
        "id": "prA4Oq9Z3Yf0"
      },
      "source": [
        "from sklearn.model_selection import train_test_split"
      ],
      "execution_count": 84,
      "outputs": []
    },
    {
      "cell_type": "code",
      "metadata": {
        "id": "4m2mkK2X3Yks"
      },
      "source": [
        "X_train, X_test, y_train, y_test = train_test_split(X_pf, y, test_size=0.3, \r\n",
        "                                                    random_state=72018)"
      ],
      "execution_count": 85,
      "outputs": []
    },
    {
      "cell_type": "code",
      "metadata": {
        "colab": {
          "base_uri": "https://localhost:8080/"
        },
        "id": "oIscfrZK3Yo7",
        "outputId": "1a14787b-9eda-4eb3-b878-2ceddba46de9"
      },
      "source": [
        "X_train_s = s.fit_transform(X_train)\r\n",
        "las.fit(X_train_s, y_train)\r\n",
        "X_test_s = s.transform(X_test)\r\n",
        "y_pred = las.predict(X_test_s)\r\n",
        "r2_score(y_pred, y_test)"
      ],
      "execution_count": 86,
      "outputs": [
        {
          "output_type": "execute_result",
          "data": {
            "text/plain": [
              "0.4609769497766186"
            ]
          },
          "metadata": {
            "tags": []
          },
          "execution_count": 86
        }
      ]
    },
    {
      "cell_type": "code",
      "metadata": {
        "colab": {
          "base_uri": "https://localhost:8080/"
        },
        "id": "XYttqQqy3Ys0",
        "outputId": "9bb9aec4-fa46-4647-c528-813156b77e02"
      },
      "source": [
        "X_train_s = s.fit_transform(X_train)\r\n",
        "las01.fit(X_train_s, y_train)\r\n",
        "X_test_s = s.transform(X_test)\r\n",
        "y_pred = las01.predict(X_test_s)\r\n",
        "r2_score(y_pred, y_test)"
      ],
      "execution_count": 87,
      "outputs": [
        {
          "output_type": "stream",
          "text": [
            "/usr/local/lib/python3.6/dist-packages/sklearn/linear_model/_coordinate_descent.py:476: ConvergenceWarning: Objective did not converge. You might want to increase the number of iterations. Duality gap: 14443.304354670407, tolerance: 37.11060606060606\n",
            "  positive)\n"
          ],
          "name": "stderr"
        },
        {
          "output_type": "execute_result",
          "data": {
            "text/plain": [
              "0.19446723255352427"
            ]
          },
          "metadata": {
            "tags": []
          },
          "execution_count": 87
        }
      ]
    },
    {
      "cell_type": "markdown",
      "metadata": {
        "id": "djjU6xrE5l0H"
      },
      "source": [
        "### Exercise\r\n",
        "#### Part 1:\r\n",
        "Do the same thing with Lasso of:\r\n",
        "\r\n",
        "alpha of 0.001\r\n",
        "Increase max_iter to 100000 to ensure convergence.\r\n",
        "Calculate the  𝑅2  of the model.\r\n",
        "\r\n",
        "Feel free to copy-paste code from above, but write a one sentence comment above each line of code explaining why you're doing what you're doing.\r\n",
        "\r\n",
        "#### Part 2:\r\n",
        "Do the same procedure as before, but with Linear Regression.\r\n",
        "\r\n",
        "Calculate the  𝑅2  of this model.\r\n",
        "\r\n",
        "#### Part 3:\r\n",
        "Compare the sums of the absolute values of the coefficients for both models, as well as the number of coefficients that are zero. Based on these measures, which model is a \"simpler\" description of the relationship between the features and the target?"
      ]
    },
    {
      "cell_type": "code",
      "metadata": {
        "colab": {
          "base_uri": "https://localhost:8080/"
        },
        "id": "JG6ItUR44_vW",
        "outputId": "b56e5a91-0367-4b74-8bb5-25ca36fb8790"
      },
      "source": [
        "# Part 1\r\n",
        "\r\n",
        "# Decreasing regularization and ensuring convergence\r\n",
        "las001 = Lasso(alpha = 0.001, max_iter=100000)\r\n",
        "\r\n",
        "# Transforming training set to get standardized units\r\n",
        "X_train_s = s.fit_transform(X_train)\r\n",
        "\r\n",
        "# Fitting model to training set\r\n",
        "las001.fit(X_train_s, y_train)\r\n",
        "\r\n",
        "# Transforming test set using the parameters defined from training set\r\n",
        "X_test_s = s.transform(X_test)\r\n",
        "\r\n",
        "# Finding prediction on test set\r\n",
        "y_pred = las001.predict(X_test_s)\r\n",
        "\r\n",
        "# Calculating r2 score\r\n",
        "print(\"r2 score for alpha = 0.001:\", r2_score(y_pred, y_test))\r\n",
        "\r\n",
        "\r\n",
        "# Part 2\r\n",
        "\r\n",
        "# Using vanilla Linear Regression\r\n",
        "lr = LinearRegression()\r\n",
        "\r\n",
        "# Fitting model to training set\r\n",
        "lr.fit(X_train_s, y_train)\r\n",
        "\r\n",
        "# predicting on test set\r\n",
        "y_pred_lr = lr.predict(X_test_s)\r\n",
        "\r\n",
        "# Calculating r2 score\r\n",
        "print(\"r2 score for Linear Regression:\", r2_score(y_pred_lr, y_test))\r\n",
        "\r\n",
        "\r\n",
        "# Part 3\r\n",
        "print('Magnitude of Lasso coefficients:', abs(las001.coef_).sum())\r\n",
        "print('Number of coeffients not equal to 0 for Lasso:', (las001.coef_!=0).sum())\r\n",
        "\r\n",
        "print('Magnitude of Linear Regression coefficients:', abs(lr.coef_).sum())\r\n",
        "print('Number of coeffients not equal to 0 for Linear Regression:', (lr.coef_!=0).sum())"
      ],
      "execution_count": 88,
      "outputs": [
        {
          "output_type": "stream",
          "text": [
            "r2 score for alpha = 0.001: -0.5002390690094176\n",
            "r2 score for Linear Regression: -0.5057452957820394\n",
            "Magnitude of Lasso coefficients: 2846.7631898942163\n",
            "Number of coeffients not equal to 0 for Lasso: 14\n",
            "Magnitude of Linear Regression coefficients: 2884.974684303446\n",
            "Number of coeffients not equal to 0 for Linear Regression: 14\n"
          ],
          "name": "stdout"
        }
      ]
    },
    {
      "cell_type": "markdown",
      "metadata": {
        "id": "4T8f0RVT5w4J"
      },
      "source": [
        "### L1 vs. L2 Regularization\r\n",
        "As mentioned in the deck: Lasso and Ridge regression have the same syntax in SciKit Learn.\r\n",
        "\r\n",
        "Now we're going to compare the results from Ridge vs. Lasso regression:\r\n",
        "\r\n",
        "Ridge"
      ]
    },
    {
      "cell_type": "code",
      "metadata": {
        "id": "56etnwv94_y0"
      },
      "source": [
        "from sklearn.linear_model import Ridge"
      ],
      "execution_count": 89,
      "outputs": []
    },
    {
      "cell_type": "markdown",
      "metadata": {
        "id": "Izdxmiyn58ti"
      },
      "source": [
        "### Exercise\r\n",
        "Following the Ridge documentation from above:\r\n",
        "\r\n",
        "1. Define a Ridge object r with the same alpha as las001.\r\n",
        "2. Fit that object on X and y and print out the resulting coefficients."
      ]
    },
    {
      "cell_type": "code",
      "metadata": {
        "colab": {
          "base_uri": "https://localhost:8080/"
        },
        "id": "FIEwUIRg4_3M",
        "outputId": "6e17cc0f-395c-4a75-f5d8-7e90e9a8a171"
      },
      "source": [
        "r = Ridge(alpha = 0.001)\r\n",
        "X_train_s = s.fit_transform(X_train)\r\n",
        "r.fit(X_train_s, y_train)\r\n",
        "X_test_s = s.transform(X_test)\r\n",
        "y_pred_r = r.predict(X_test_s)\r\n",
        "\r\n",
        "# Calculating r2 score\r\n",
        "r.coef_"
      ],
      "execution_count": 90,
      "outputs": [
        {
          "output_type": "execute_result",
          "data": {
            "text/plain": [
              "array([  -9.3679424 ,   18.03085649,  411.94093985, -171.04496261,\n",
              "         77.57747323,  135.97430869,  -18.40180212, -149.55365378,\n",
              "         60.56000832,  131.21960254, -343.63493358,  -30.72697267,\n",
              "       -504.17653575,  598.17096961])"
            ]
          },
          "metadata": {
            "tags": []
          },
          "execution_count": 90
        }
      ]
    },
    {
      "cell_type": "code",
      "metadata": {
        "colab": {
          "base_uri": "https://localhost:8080/"
        },
        "id": "DK8gu0np4_6H",
        "outputId": "6bda6d81-3ebf-429b-f2d0-2ab0d15d03f3"
      },
      "source": [
        "las001 # same alpha as Ridge above"
      ],
      "execution_count": 91,
      "outputs": [
        {
          "output_type": "execute_result",
          "data": {
            "text/plain": [
              "Lasso(alpha=0.001, copy_X=True, fit_intercept=True, max_iter=100000,\n",
              "      normalize=False, positive=False, precompute=False, random_state=None,\n",
              "      selection='cyclic', tol=0.0001, warm_start=False)"
            ]
          },
          "metadata": {
            "tags": []
          },
          "execution_count": 91
        }
      ]
    },
    {
      "cell_type": "code",
      "metadata": {
        "colab": {
          "base_uri": "https://localhost:8080/"
        },
        "id": "AaTu14g06JXA",
        "outputId": "25efdefa-5593-40f6-815b-1c9ad73fa42b"
      },
      "source": [
        "las001.coef_"
      ],
      "execution_count": 92,
      "outputs": [
        {
          "output_type": "execute_result",
          "data": {
            "text/plain": [
              "array([ -10.32198084,   42.89950165,  445.39851412, -206.09500118,\n",
              "         76.33743329,  122.61459552,  -30.64699829, -138.06071389,\n",
              "         69.25257543,  130.60571358, -377.16110261,  -31.92112376,\n",
              "       -522.90055619,  642.54737955])"
            ]
          },
          "metadata": {
            "tags": []
          },
          "execution_count": 92
        }
      ]
    },
    {
      "cell_type": "code",
      "metadata": {
        "colab": {
          "base_uri": "https://localhost:8080/"
        },
        "id": "FSNajUJd6JaW",
        "outputId": "aa09cc6a-2a3d-4723-c3f8-b33d33111e5e"
      },
      "source": [
        "print(np.sum(np.abs(r.coef_)))\r\n",
        "print(np.sum(np.abs(las001.coef_)))\r\n",
        "\r\n",
        "print(np.sum(r.coef_ != 0))\r\n",
        "print(np.sum(las001.coef_ != 0))"
      ],
      "execution_count": 93,
      "outputs": [
        {
          "output_type": "stream",
          "text": [
            "2660.3809616393246\n",
            "2846.7631898942163\n",
            "14\n",
            "14\n"
          ],
          "name": "stdout"
        }
      ]
    },
    {
      "cell_type": "markdown",
      "metadata": {
        "id": "1lUXvKwL6VP7"
      },
      "source": [
        "**Conclusion**: Ridge does not make any coefficients 0. In addition, on this particular dataset, Lasso provides stronger overall regularization than Ridge for this value of alpha (not necessarily true in general)."
      ]
    },
    {
      "cell_type": "code",
      "metadata": {
        "colab": {
          "base_uri": "https://localhost:8080/"
        },
        "id": "2aXke4F76Je1",
        "outputId": "761256ee-8a81-4460-b4ab-7cea3049ed4b"
      },
      "source": [
        "y_pred = r.predict(X_pf_ss)\r\n",
        "print(r2_score(y, y_pred))\r\n",
        "\r\n",
        "y_pred = las001.predict(X_pf_ss)\r\n",
        "print(r2_score(y, y_pred))"
      ],
      "execution_count": 94,
      "outputs": [
        {
          "output_type": "stream",
          "text": [
            "-0.05669364636345975\n",
            "-0.11067691671508317\n"
          ],
          "name": "stdout"
        }
      ]
    },
    {
      "cell_type": "markdown",
      "metadata": {
        "id": "Ss73msM66mPM"
      },
      "source": [
        "# Example: Does it matter when you scale?"
      ]
    },
    {
      "cell_type": "code",
      "metadata": {
        "id": "r2sYxUtI6Jpj"
      },
      "source": [
        "from sklearn.preprocessing import StandardScaler"
      ],
      "execution_count": 95,
      "outputs": []
    },
    {
      "cell_type": "code",
      "metadata": {
        "id": "X6G4QXaN6JtF"
      },
      "source": [
        "s = StandardScaler()\r\n",
        "X_ss = s.fit_transform(X)"
      ],
      "execution_count": 96,
      "outputs": []
    },
    {
      "cell_type": "code",
      "metadata": {
        "colab": {
          "base_uri": "https://localhost:8080/"
        },
        "id": "SF-Ebrv86J0I",
        "outputId": "1586c016-9306-4ee5-b088-ab9b07ff1d1a"
      },
      "source": [
        "lr2 = LinearRegression()\r\n",
        "lr2.fit(X_ss, y)\r\n",
        "print(lr2.coef_) # coefficients now \"on the same scale\""
      ],
      "execution_count": 97,
      "outputs": [
        {
          "output_type": "stream",
          "text": [
            "[-32.7310515  -37.79691223  -8.3813148   73.3569154 ]\n"
          ],
          "name": "stdout"
        }
      ]
    },
    {
      "cell_type": "code",
      "metadata": {
        "id": "yB0vIy5d6J4G"
      },
      "source": [
        "X_train, X_test, y_train, y_test = train_test_split(X_ss, y, test_size=0.3, \r\n",
        "                                                    random_state=72018)"
      ],
      "execution_count": 98,
      "outputs": []
    },
    {
      "cell_type": "code",
      "metadata": {
        "colab": {
          "base_uri": "https://localhost:8080/"
        },
        "id": "ls1QDuyr6J7i",
        "outputId": "e9bb1c13-1888-4a07-80c7-75c98a38efca"
      },
      "source": [
        "lr = LinearRegression()\r\n",
        "lr.fit(X_train, y_train)\r\n",
        "y_pred = lr.predict(X_test)\r\n",
        "r2_score(y_pred, y_test)"
      ],
      "execution_count": 99,
      "outputs": [
        {
          "output_type": "execute_result",
          "data": {
            "text/plain": [
              "0.75392809099585"
            ]
          },
          "metadata": {
            "tags": []
          },
          "execution_count": 99
        }
      ]
    },
    {
      "cell_type": "code",
      "metadata": {
        "id": "S0SNvygs7PJM"
      },
      "source": [
        "X_train, X_test, y_train, y_test = train_test_split(X, y, test_size=0.3, \r\n",
        "                                                    random_state=72018)"
      ],
      "execution_count": 100,
      "outputs": []
    },
    {
      "cell_type": "code",
      "metadata": {
        "colab": {
          "base_uri": "https://localhost:8080/"
        },
        "id": "t5wpwVFn7PNj",
        "outputId": "73f51177-25be-465a-b95f-3641ee8ea09e"
      },
      "source": [
        "s = StandardScaler()\r\n",
        "lr_s = LinearRegression()\r\n",
        "X_train_s = s.fit_transform(X_train)\r\n",
        "lr_s.fit(X_train_s, y_train)\r\n",
        "X_test_s = s.transform(X_test)\r\n",
        "y_pred_s = lr_s.predict(X_test_s)\r\n",
        "r2_score(y_pred_s, y_test)"
      ],
      "execution_count": 101,
      "outputs": [
        {
          "output_type": "execute_result",
          "data": {
            "text/plain": [
              "0.7539280909958498"
            ]
          },
          "metadata": {
            "tags": []
          },
          "execution_count": 101
        }
      ]
    },
    {
      "cell_type": "code",
      "metadata": {
        "id": "ytb02WIS7wKX"
      },
      "source": [
        "X = dataset[['Petrol_tax', 'Average_income', 'Paved_Highways',\r\n",
        "       'Population_Driver_licence(%)']]\r\n",
        "y = dataset['Petrol_Consumption']"
      ],
      "execution_count": 102,
      "outputs": []
    },
    {
      "cell_type": "code",
      "metadata": {
        "id": "2XrziHRd7wOW"
      },
      "source": [
        "from sklearn.model_selection import train_test_split\r\n",
        "X_train, X_test, y_train, y_test = train_test_split(X, y, test_size=0.2, random_state=0)"
      ],
      "execution_count": 103,
      "outputs": []
    },
    {
      "cell_type": "markdown",
      "metadata": {
        "id": "RdcDX3oq76vE"
      },
      "source": [
        "## Training the Algorithm\r\n",
        "And finally, to train the algorithm we execute the same code as before, using the fit() method of the LinearRegression class:"
      ]
    },
    {
      "cell_type": "code",
      "metadata": {
        "colab": {
          "base_uri": "https://localhost:8080/"
        },
        "id": "SMKMm8j97wR6",
        "outputId": "f05c8a69-bd5b-44ad-a940-d26aab99cec6"
      },
      "source": [
        "from sklearn.linear_model import LinearRegression\r\n",
        "regressor = LinearRegression()\r\n",
        "regressor.fit(X_train, y_train)\r\n"
      ],
      "execution_count": 104,
      "outputs": [
        {
          "output_type": "execute_result",
          "data": {
            "text/plain": [
              "LinearRegression(copy_X=True, fit_intercept=True, n_jobs=None, normalize=False)"
            ]
          },
          "metadata": {
            "tags": []
          },
          "execution_count": 104
        }
      ]
    },
    {
      "cell_type": "markdown",
      "metadata": {
        "id": "PguUKOV78DIC"
      },
      "source": [
        "As said earlier, in case of multivariable linear regression, the regression model has to find the most optimal coefficients for all the attributes. To see what coefficients our regression model has chosen, execute the following script:"
      ]
    },
    {
      "cell_type": "code",
      "metadata": {
        "colab": {
          "base_uri": "https://localhost:8080/",
          "height": 173
        },
        "id": "x0eliKrc7wWE",
        "outputId": "b00c0560-9fcd-4450-bcf4-5517fae12181"
      },
      "source": [
        "coeff_df = pd.DataFrame(regressor.coef_, X.columns, columns=['Coefficient'])\r\n",
        "coeff_df"
      ],
      "execution_count": 105,
      "outputs": [
        {
          "output_type": "execute_result",
          "data": {
            "text/html": [
              "<div>\n",
              "<style scoped>\n",
              "    .dataframe tbody tr th:only-of-type {\n",
              "        vertical-align: middle;\n",
              "    }\n",
              "\n",
              "    .dataframe tbody tr th {\n",
              "        vertical-align: top;\n",
              "    }\n",
              "\n",
              "    .dataframe thead th {\n",
              "        text-align: right;\n",
              "    }\n",
              "</style>\n",
              "<table border=\"1\" class=\"dataframe\">\n",
              "  <thead>\n",
              "    <tr style=\"text-align: right;\">\n",
              "      <th></th>\n",
              "      <th>Coefficient</th>\n",
              "    </tr>\n",
              "  </thead>\n",
              "  <tbody>\n",
              "    <tr>\n",
              "      <th>Petrol_tax</th>\n",
              "      <td>-40.016660</td>\n",
              "    </tr>\n",
              "    <tr>\n",
              "      <th>Average_income</th>\n",
              "      <td>-0.065413</td>\n",
              "    </tr>\n",
              "    <tr>\n",
              "      <th>Paved_Highways</th>\n",
              "      <td>-0.004741</td>\n",
              "    </tr>\n",
              "    <tr>\n",
              "      <th>Population_Driver_licence(%)</th>\n",
              "      <td>1341.862121</td>\n",
              "    </tr>\n",
              "  </tbody>\n",
              "</table>\n",
              "</div>"
            ],
            "text/plain": [
              "                              Coefficient\n",
              "Petrol_tax                     -40.016660\n",
              "Average_income                  -0.065413\n",
              "Paved_Highways                  -0.004741\n",
              "Population_Driver_licence(%)  1341.862121"
            ]
          },
          "metadata": {
            "tags": []
          },
          "execution_count": 105
        }
      ]
    },
    {
      "cell_type": "markdown",
      "metadata": {
        "id": "Dk9jKHkG8J__"
      },
      "source": [
        "This means that for a unit increase in \"petrol_tax\", there is a decrease of 24.19 million gallons in gas consumption. Similarly, a unit increase in proportion of population with a drivers license results in an increase of 1.324 billion gallons of gas consumption. We can see that \"Average_income\" and \"Paved_Highways\" have a very little effect on the gas consumption.\r\n",
        "\r\n",
        "### Making Predictions\r\n",
        "To make pre-dictions on the test data, execute the following script:"
      ]
    },
    {
      "cell_type": "code",
      "metadata": {
        "id": "1q3n_Rj57wZF"
      },
      "source": [
        "y_pred = regressor.predict(X_test)"
      ],
      "execution_count": 106,
      "outputs": []
    },
    {
      "cell_type": "markdown",
      "metadata": {
        "id": "O0ToVk488Q_U"
      },
      "source": [
        "To compare the actual output values for X_test with the predicted values, execute the following script:"
      ]
    },
    {
      "cell_type": "code",
      "metadata": {
        "colab": {
          "base_uri": "https://localhost:8080/",
          "height": 359
        },
        "id": "wXYjQtO37wb-",
        "outputId": "b648da25-c026-4d33-ebfa-0964a6cc6530"
      },
      "source": [
        "df = pd.DataFrame({'Actual': y_test, 'Predicted': y_pred})\r\n",
        "df"
      ],
      "execution_count": 107,
      "outputs": [
        {
          "output_type": "execute_result",
          "data": {
            "text/html": [
              "<div>\n",
              "<style scoped>\n",
              "    .dataframe tbody tr th:only-of-type {\n",
              "        vertical-align: middle;\n",
              "    }\n",
              "\n",
              "    .dataframe tbody tr th {\n",
              "        vertical-align: top;\n",
              "    }\n",
              "\n",
              "    .dataframe thead th {\n",
              "        text-align: right;\n",
              "    }\n",
              "</style>\n",
              "<table border=\"1\" class=\"dataframe\">\n",
              "  <thead>\n",
              "    <tr style=\"text-align: right;\">\n",
              "      <th></th>\n",
              "      <th>Actual</th>\n",
              "      <th>Predicted</th>\n",
              "    </tr>\n",
              "  </thead>\n",
              "  <tbody>\n",
              "    <tr>\n",
              "      <th>29</th>\n",
              "      <td>534</td>\n",
              "      <td>469.391989</td>\n",
              "    </tr>\n",
              "    <tr>\n",
              "      <th>4</th>\n",
              "      <td>410</td>\n",
              "      <td>545.645464</td>\n",
              "    </tr>\n",
              "    <tr>\n",
              "      <th>26</th>\n",
              "      <td>577</td>\n",
              "      <td>589.668394</td>\n",
              "    </tr>\n",
              "    <tr>\n",
              "      <th>30</th>\n",
              "      <td>571</td>\n",
              "      <td>569.730413</td>\n",
              "    </tr>\n",
              "    <tr>\n",
              "      <th>32</th>\n",
              "      <td>577</td>\n",
              "      <td>649.774809</td>\n",
              "    </tr>\n",
              "    <tr>\n",
              "      <th>37</th>\n",
              "      <td>704</td>\n",
              "      <td>646.631164</td>\n",
              "    </tr>\n",
              "    <tr>\n",
              "      <th>34</th>\n",
              "      <td>487</td>\n",
              "      <td>511.608148</td>\n",
              "    </tr>\n",
              "    <tr>\n",
              "      <th>40</th>\n",
              "      <td>587</td>\n",
              "      <td>672.475177</td>\n",
              "    </tr>\n",
              "    <tr>\n",
              "      <th>7</th>\n",
              "      <td>467</td>\n",
              "      <td>502.074782</td>\n",
              "    </tr>\n",
              "    <tr>\n",
              "      <th>10</th>\n",
              "      <td>580</td>\n",
              "      <td>501.270734</td>\n",
              "    </tr>\n",
              "  </tbody>\n",
              "</table>\n",
              "</div>"
            ],
            "text/plain": [
              "    Actual   Predicted\n",
              "29     534  469.391989\n",
              "4      410  545.645464\n",
              "26     577  589.668394\n",
              "30     571  569.730413\n",
              "32     577  649.774809\n",
              "37     704  646.631164\n",
              "34     487  511.608148\n",
              "40     587  672.475177\n",
              "7      467  502.074782\n",
              "10     580  501.270734"
            ]
          },
          "metadata": {
            "tags": []
          },
          "execution_count": 107
        }
      ]
    },
    {
      "cell_type": "markdown",
      "metadata": {
        "id": "RLFoiVeU8XcD"
      },
      "source": [
        "### Evaluating the Algorithm\r\n",
        "The final step is to evaluate the performance of algorithm. We'll do this by finding the values for MAE, MSE and RMSE. Execute the following script:"
      ]
    },
    {
      "cell_type": "code",
      "metadata": {
        "colab": {
          "base_uri": "https://localhost:8080/"
        },
        "id": "mFqdxUoq7wfi",
        "outputId": "616b3395-c81a-47a0-8a68-220ab372dcc7"
      },
      "source": [
        "from sklearn import metrics\r\n",
        "print('Mean Absolute Error:', metrics.mean_absolute_error(y_test, y_pred))\r\n",
        "print('Mean Squared Error:', metrics.mean_squared_error(y_test, y_pred))\r\n",
        "print('Root Mean Squared Error:', np.sqrt(metrics.mean_squared_error(y_test, y_pred)))"
      ],
      "execution_count": 108,
      "outputs": [
        {
          "output_type": "stream",
          "text": [
            "Mean Absolute Error: 56.8222474789647\n",
            "Mean Squared Error: 4666.344787588362\n",
            "Root Mean Squared Error: 68.31064915215168\n"
          ],
          "name": "stdout"
        }
      ]
    },
    {
      "cell_type": "markdown",
      "metadata": {
        "id": "yFWoA2DK8hvg"
      },
      "source": [
        "You can see that the value of root mean squared error is 60.07, which is slightly greater than 10% of the mean value of the gas consumption in all states. This means that our algorithm was not very accurate but can still make reasonably good predictions.\r\n",
        "\r\n",
        "There are many factors that may have contributed to this inaccuracy, a few of which are listed here:\r\n",
        "\r\n",
        "1. Need more data: Only one year worth of data isn't that much, whereas having multiple years worth could have helped us improve the accuracy quite a bit.\r\n",
        "2. Bad assumptions: We made the assumption that this data has a linear relationship, but that might not be the case. Visualizing the data may help you determine that.\r\n",
        "3. Poor features: The features we used may not have had a high enough correlation to the values we were trying to predict."
      ]
    }
  ]
}