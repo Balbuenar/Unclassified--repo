{
  "nbformat": 4,
  "nbformat_minor": 0,
  "metadata": {
    "colab": {
      "name": "Petrol_Consumption.ipynb",
      "provenance": [],
      "collapsed_sections": [],
      "authorship_tag": "ABX9TyNBjuTlFoyUn/0Qrt5s7668",
      "include_colab_link": true
    },
    "kernelspec": {
      "name": "python3",
      "display_name": "Python 3"
    }
  },
  "cells": [
    {
      "cell_type": "markdown",
      "metadata": {
        "id": "view-in-github",
        "colab_type": "text"
      },
      "source": [
        "<a href=\"https://colab.research.google.com/github/Balbuenar/Unclassified--repo/blob/master/Petrol_Consumption.ipynb\" target=\"_parent\"><img src=\"https://colab.research.google.com/assets/colab-badge.svg\" alt=\"Open In Colab\"/></a>"
      ]
    },
    {
      "cell_type": "code",
      "metadata": {
        "id": "pS09hZRjv07N"
      },
      "source": [
        "import numpy as np\r\n",
        "import pickle\r\n",
        "import pandas as pd\r\n",
        "import matplotlib.pyplot as plt\r\n",
        "\r\n",
        "from sklearn.preprocessing import StandardScaler, PolynomialFeatures\r\n",
        "from sklearn.model_selection import KFold, cross_val_predict\r\n",
        "from sklearn.linear_model import LinearRegression, Lasso, Ridge\r\n",
        "from sklearn.metrics import r2_score\r\n",
        "from sklearn.pipeline import Pipeline"
      ],
      "execution_count": 1,
      "outputs": []
    },
    {
      "cell_type": "code",
      "metadata": {
        "colab": {
          "base_uri": "https://localhost:8080/"
        },
        "id": "SGW5gh6-v81J",
        "outputId": "42544747-4f90-4ceb-90e4-8d9e91367528"
      },
      "source": [
        "from google.colab import drive\r\n",
        "drive.mount(\"/content/gdrive\")"
      ],
      "execution_count": 2,
      "outputs": [
        {
          "output_type": "stream",
          "text": [
            "Drive already mounted at /content/gdrive; to attempt to forcibly remount, call drive.mount(\"/content/gdrive\", force_remount=True).\n"
          ],
          "name": "stdout"
        }
      ]
    },
    {
      "cell_type": "code",
      "metadata": {
        "id": "tZ67fGU6v9Cq"
      },
      "source": [
        "dataset = pd.read_csv(\"/content/gdrive/MyDrive/petrol_consumption.csv\")"
      ],
      "execution_count": 3,
      "outputs": []
    },
    {
      "cell_type": "code",
      "metadata": {
        "colab": {
          "base_uri": "https://localhost:8080/"
        },
        "id": "8YXpUMgGv9GU",
        "outputId": "14f59e32-6c7f-409e-b07c-1abf5c79e573"
      },
      "source": [
        "dataset.shape"
      ],
      "execution_count": 4,
      "outputs": [
        {
          "output_type": "execute_result",
          "data": {
            "text/plain": [
              "(48, 5)"
            ]
          },
          "metadata": {
            "tags": []
          },
          "execution_count": 4
        }
      ]
    },
    {
      "cell_type": "code",
      "metadata": {
        "colab": {
          "base_uri": "https://localhost:8080/"
        },
        "id": "M_3Wun7nv9J2",
        "outputId": "433aeed3-7b80-4bcd-d528-6fc3c00ec315"
      },
      "source": [
        "dataset.keys()"
      ],
      "execution_count": 5,
      "outputs": [
        {
          "output_type": "execute_result",
          "data": {
            "text/plain": [
              "Index(['Petrol_tax', 'Average_income', 'Paved_Highways',\n",
              "       'Population_Driver_licence(%)', 'Petrol_Consumption'],\n",
              "      dtype='object')"
            ]
          },
          "metadata": {
            "tags": []
          },
          "execution_count": 5
        }
      ]
    },
    {
      "cell_type": "code",
      "metadata": {
        "colab": {
          "base_uri": "https://localhost:8080/",
          "height": 204
        },
        "id": "givb83Cdv9M4",
        "outputId": "2a58a1b4-9ac1-480b-e699-36b74c94fbef"
      },
      "source": [
        "dataset.head()"
      ],
      "execution_count": 6,
      "outputs": [
        {
          "output_type": "execute_result",
          "data": {
            "text/html": [
              "<div>\n",
              "<style scoped>\n",
              "    .dataframe tbody tr th:only-of-type {\n",
              "        vertical-align: middle;\n",
              "    }\n",
              "\n",
              "    .dataframe tbody tr th {\n",
              "        vertical-align: top;\n",
              "    }\n",
              "\n",
              "    .dataframe thead th {\n",
              "        text-align: right;\n",
              "    }\n",
              "</style>\n",
              "<table border=\"1\" class=\"dataframe\">\n",
              "  <thead>\n",
              "    <tr style=\"text-align: right;\">\n",
              "      <th></th>\n",
              "      <th>Petrol_tax</th>\n",
              "      <th>Average_income</th>\n",
              "      <th>Paved_Highways</th>\n",
              "      <th>Population_Driver_licence(%)</th>\n",
              "      <th>Petrol_Consumption</th>\n",
              "    </tr>\n",
              "  </thead>\n",
              "  <tbody>\n",
              "    <tr>\n",
              "      <th>0</th>\n",
              "      <td>9.0</td>\n",
              "      <td>3571</td>\n",
              "      <td>1976</td>\n",
              "      <td>0.525</td>\n",
              "      <td>541</td>\n",
              "    </tr>\n",
              "    <tr>\n",
              "      <th>1</th>\n",
              "      <td>9.0</td>\n",
              "      <td>4092</td>\n",
              "      <td>1250</td>\n",
              "      <td>0.572</td>\n",
              "      <td>524</td>\n",
              "    </tr>\n",
              "    <tr>\n",
              "      <th>2</th>\n",
              "      <td>9.0</td>\n",
              "      <td>3865</td>\n",
              "      <td>1586</td>\n",
              "      <td>0.580</td>\n",
              "      <td>561</td>\n",
              "    </tr>\n",
              "    <tr>\n",
              "      <th>3</th>\n",
              "      <td>7.5</td>\n",
              "      <td>4870</td>\n",
              "      <td>2351</td>\n",
              "      <td>0.529</td>\n",
              "      <td>414</td>\n",
              "    </tr>\n",
              "    <tr>\n",
              "      <th>4</th>\n",
              "      <td>8.0</td>\n",
              "      <td>4399</td>\n",
              "      <td>431</td>\n",
              "      <td>0.544</td>\n",
              "      <td>410</td>\n",
              "    </tr>\n",
              "  </tbody>\n",
              "</table>\n",
              "</div>"
            ],
            "text/plain": [
              "   Petrol_tax  Average_income  ...  Population_Driver_licence(%)  Petrol_Consumption\n",
              "0         9.0            3571  ...                         0.525                 541\n",
              "1         9.0            4092  ...                         0.572                 524\n",
              "2         9.0            3865  ...                         0.580                 561\n",
              "3         7.5            4870  ...                         0.529                 414\n",
              "4         8.0            4399  ...                         0.544                 410\n",
              "\n",
              "[5 rows x 5 columns]"
            ]
          },
          "metadata": {
            "tags": []
          },
          "execution_count": 6
        }
      ]
    },
    {
      "cell_type": "markdown",
      "metadata": {
        "id": "k1hVd9pPwt9G"
      },
      "source": [
        "Discussion:\r\n",
        "Suppose we want to do Linear Regression on our dataset to get an estimate, based on mean squared error, of how well our model will perform on data outside our dataset.\r\n",
        "\r\n",
        "Suppose also that our data is split into three folds: Fold 1, Fold 2, and Fold 3.\r\n",
        "\r\n",
        "What would the steps be, in English, to do this?\r\n",
        "\r\n",
        "Your response below\r\n",
        "\r\n",
        "Coding this up\r\n",
        "The KFold object in SciKit Learn tells the cross validation object (see below) how to split up the data:"
      ]
    },
    {
      "cell_type": "markdown",
      "metadata": {
        "id": "ndfMIm3Jwmj7"
      },
      "source": [
        ""
      ]
    },
    {
      "cell_type": "code",
      "metadata": {
        "id": "eq7r3PQTv9Tf"
      },
      "source": [
        "X = dataset.drop('Petrol_Consumption', axis=1)\r\n",
        "y = dataset.Petrol_Consumption"
      ],
      "execution_count": 7,
      "outputs": []
    },
    {
      "cell_type": "code",
      "metadata": {
        "id": "pBup1zOGv9Wd"
      },
      "source": [
        "kf = KFold(shuffle=True, random_state=72018, n_splits=3)"
      ],
      "execution_count": 8,
      "outputs": []
    },
    {
      "cell_type": "code",
      "metadata": {
        "colab": {
          "base_uri": "https://localhost:8080/"
        },
        "id": "KUGkdNGNv9Z1",
        "outputId": "5719c45e-3fa4-48ab-c388-0882e13e4cea"
      },
      "source": [
        "kf.split(X)"
      ],
      "execution_count": 9,
      "outputs": [
        {
          "output_type": "execute_result",
          "data": {
            "text/plain": [
              "<generator object _BaseKFold.split at 0x7fd76a6287d8>"
            ]
          },
          "metadata": {
            "tags": []
          },
          "execution_count": 9
        }
      ]
    },
    {
      "cell_type": "code",
      "metadata": {
        "colab": {
          "base_uri": "https://localhost:8080/"
        },
        "id": "55rHzXRhv9c9",
        "outputId": "c434e08f-febf-4f23-b178-7b26e8704bc3"
      },
      "source": [
        "X.shape"
      ],
      "execution_count": 10,
      "outputs": [
        {
          "output_type": "execute_result",
          "data": {
            "text/plain": [
              "(48, 4)"
            ]
          },
          "metadata": {
            "tags": []
          },
          "execution_count": 10
        }
      ]
    },
    {
      "cell_type": "code",
      "metadata": {
        "colab": {
          "base_uri": "https://localhost:8080/",
          "height": 204
        },
        "id": "yG-cT-yzv9gJ",
        "outputId": "b098d778-14ca-4ed9-c7db-4f624324ddbf"
      },
      "source": [
        "X.tail()"
      ],
      "execution_count": 11,
      "outputs": [
        {
          "output_type": "execute_result",
          "data": {
            "text/html": [
              "<div>\n",
              "<style scoped>\n",
              "    .dataframe tbody tr th:only-of-type {\n",
              "        vertical-align: middle;\n",
              "    }\n",
              "\n",
              "    .dataframe tbody tr th {\n",
              "        vertical-align: top;\n",
              "    }\n",
              "\n",
              "    .dataframe thead th {\n",
              "        text-align: right;\n",
              "    }\n",
              "</style>\n",
              "<table border=\"1\" class=\"dataframe\">\n",
              "  <thead>\n",
              "    <tr style=\"text-align: right;\">\n",
              "      <th></th>\n",
              "      <th>Petrol_tax</th>\n",
              "      <th>Average_income</th>\n",
              "      <th>Paved_Highways</th>\n",
              "      <th>Population_Driver_licence(%)</th>\n",
              "    </tr>\n",
              "  </thead>\n",
              "  <tbody>\n",
              "    <tr>\n",
              "      <th>43</th>\n",
              "      <td>7.0</td>\n",
              "      <td>3745</td>\n",
              "      <td>2611</td>\n",
              "      <td>0.508</td>\n",
              "    </tr>\n",
              "    <tr>\n",
              "      <th>44</th>\n",
              "      <td>6.0</td>\n",
              "      <td>5215</td>\n",
              "      <td>2302</td>\n",
              "      <td>0.672</td>\n",
              "    </tr>\n",
              "    <tr>\n",
              "      <th>45</th>\n",
              "      <td>9.0</td>\n",
              "      <td>4476</td>\n",
              "      <td>3942</td>\n",
              "      <td>0.571</td>\n",
              "    </tr>\n",
              "    <tr>\n",
              "      <th>46</th>\n",
              "      <td>7.0</td>\n",
              "      <td>4296</td>\n",
              "      <td>4083</td>\n",
              "      <td>0.623</td>\n",
              "    </tr>\n",
              "    <tr>\n",
              "      <th>47</th>\n",
              "      <td>7.0</td>\n",
              "      <td>5002</td>\n",
              "      <td>9794</td>\n",
              "      <td>0.593</td>\n",
              "    </tr>\n",
              "  </tbody>\n",
              "</table>\n",
              "</div>"
            ],
            "text/plain": [
              "    Petrol_tax  Average_income  Paved_Highways  Population_Driver_licence(%)\n",
              "43         7.0            3745            2611                         0.508\n",
              "44         6.0            5215            2302                         0.672\n",
              "45         9.0            4476            3942                         0.571\n",
              "46         7.0            4296            4083                         0.623\n",
              "47         7.0            5002            9794                         0.593"
            ]
          },
          "metadata": {
            "tags": []
          },
          "execution_count": 11
        }
      ]
    },
    {
      "cell_type": "code",
      "metadata": {
        "colab": {
          "base_uri": "https://localhost:8080/"
        },
        "id": "R4JccW4Yxcma",
        "outputId": "bd296153-b62f-4622-b5d7-1e9aca2e3772"
      },
      "source": [
        "for train_index, test_index in kf.split(X):\r\n",
        "    print(\"Train index:\", train_index[:10], len(train_index))\r\n",
        "    print(\"Test index:\",test_index[:10], len(test_index))\r\n",
        "    print('')"
      ],
      "execution_count": 12,
      "outputs": [
        {
          "output_type": "stream",
          "text": [
            "Train index: [ 0  1  2  4  5  7  8 10 12 15] 32\n",
            "Test index: [ 3  6  9 11 13 14 18 19 25 27] 16\n",
            "\n",
            "Train index: [ 2  3  5  6  8  9 10 11 12 13] 32\n",
            "Test index: [ 0  1  4  7 15 17 26 28 30 31] 16\n",
            "\n",
            "Train index: [ 0  1  3  4  6  7  9 11 13 14] 32\n",
            "Test index: [ 2  5  8 10 12 16 20 21 22 23] 16\n",
            "\n"
          ],
          "name": "stdout"
        }
      ]
    },
    {
      "cell_type": "code",
      "metadata": {
        "colab": {
          "base_uri": "https://localhost:8080/"
        },
        "id": "Hto8IL1Kxcpi",
        "outputId": "8de1e41f-962c-4c42-cc52-5785e450c40f"
      },
      "source": [
        "#from sklearn.metrics import r2_score, mean_squared_error\r\n",
        "\r\n",
        "scores = []\r\n",
        "lr = LinearRegression()\r\n",
        "\r\n",
        "for train_index, test_index in kf.split(X):\r\n",
        "    X_train, X_test, y_train, y_test = (X.iloc[train_index, :], \r\n",
        "                                        X.iloc[test_index, :], \r\n",
        "                                        y[train_index], \r\n",
        "                                        y[test_index])\r\n",
        "    \r\n",
        "    lr.fit(X_train, y_train)\r\n",
        "        \r\n",
        "    y_pred = lr.predict(X_test)\r\n",
        "\r\n",
        "    score = r2_score(y_test.values, y_pred)\r\n",
        "    \r\n",
        "    scores.append(score)\r\n",
        "    \r\n",
        "scores"
      ],
      "execution_count": 13,
      "outputs": [
        {
          "output_type": "execute_result",
          "data": {
            "text/plain": [
              "[0.7017166726032875, 0.5408566834972458, 0.5583743341459353]"
            ]
          },
          "metadata": {
            "tags": []
          },
          "execution_count": 13
        }
      ]
    },
    {
      "cell_type": "markdown",
      "metadata": {
        "id": "Lk_kf5Z5xwLG"
      },
      "source": [
        "### Discussion (Part 2): \r\n",
        "\r\n",
        "Now suppose we want to do the same, but appropriately scaling our data as we go through the folds.\r\n",
        "\r\n",
        "What would the steps be _now_?"
      ]
    },
    {
      "cell_type": "code",
      "metadata": {
        "id": "bw-2MD7IxcsU"
      },
      "source": [
        "scores = []\r\n",
        "\r\n",
        "lr = LinearRegression()\r\n",
        "s = StandardScaler()\r\n",
        "\r\n",
        "for train_index, test_index in kf.split(X):\r\n",
        "    X_train, X_test, y_train, y_test = (X.iloc[train_index, :], \r\n",
        "                                        X.iloc[test_index, :], \r\n",
        "                                        y[train_index], \r\n",
        "                                        y[test_index])\r\n",
        "    \r\n",
        "    X_train_s = s.fit_transform(X_train)\r\n",
        "    \r\n",
        "    lr.fit(X_train_s, y_train)\r\n",
        "    \r\n",
        "    X_test_s = s.transform(X_test)\r\n",
        "    \r\n",
        "    y_pred = lr.predict(X_test_s)\r\n",
        "\r\n",
        "    score = r2_score(y_test.values, y_pred)\r\n",
        "    \r\n",
        "    scores.append(score)"
      ],
      "execution_count": 14,
      "outputs": []
    },
    {
      "cell_type": "code",
      "metadata": {
        "colab": {
          "base_uri": "https://localhost:8080/"
        },
        "id": "RjjNWmZUxcu_",
        "outputId": "3323044d-7a00-4c8f-e59e-79f6dc623e6a"
      },
      "source": [
        "scores"
      ],
      "execution_count": 15,
      "outputs": [
        {
          "output_type": "execute_result",
          "data": {
            "text/plain": [
              "[0.7017166726032883, 0.5408566834972457, 0.5583743341459347]"
            ]
          },
          "metadata": {
            "tags": []
          },
          "execution_count": 15
        }
      ]
    },
    {
      "cell_type": "markdown",
      "metadata": {
        "id": "AhVTjMguyHIl"
      },
      "source": [
        "(same scores, because for vanilla linear regression with no regularization, scaling actually doesn't matter for performance)"
      ]
    },
    {
      "cell_type": "markdown",
      "metadata": {
        "id": "4tX_lOxLyMVm"
      },
      "source": [
        "This is getting quite cumbersome! \r\n",
        "\r\n",
        "_Very_ luckily, SciKit Learn has some wonderful functions that handle a lot of this for us."
      ]
    },
    {
      "cell_type": "markdown",
      "metadata": {
        "id": "4ez0bJOiyP25"
      },
      "source": [
        "### `Pipeline` and `cross_val_predict`"
      ]
    },
    {
      "cell_type": "markdown",
      "metadata": {
        "id": "A2_jQHtbyTk6"
      },
      "source": [
        "Pipeline lets you chain together multiple operators on your data that both have a fit method."
      ]
    },
    {
      "cell_type": "code",
      "metadata": {
        "id": "MV-KKYSSxcx6"
      },
      "source": [
        "s = StandardScaler()\r\n",
        "lr = LinearRegression()"
      ],
      "execution_count": 16,
      "outputs": []
    },
    {
      "cell_type": "markdown",
      "metadata": {
        "id": "gGCTfj9ayalu"
      },
      "source": [
        "### Combine multiple processing steps into a Pipeline\r\n",
        "A pipeline contains a series of steps, where a step is (\"name of step\", actual_model). The \"name of step\" string is only used to help you identify which step you are on, and to allow you to specify parameters at that step."
      ]
    },
    {
      "cell_type": "code",
      "metadata": {
        "id": "vM0Uy3kyxc0d"
      },
      "source": [
        "estimator = Pipeline([(\"scaler\", s),\r\n",
        "                      (\"regression\", lr)])"
      ],
      "execution_count": 17,
      "outputs": []
    },
    {
      "cell_type": "code",
      "metadata": {
        "colab": {
          "base_uri": "https://localhost:8080/"
        },
        "id": "u5T3PsU2xc3i",
        "outputId": "f4339435-baca-4936-93ac-35c335794d76"
      },
      "source": [
        "estimator.fit(X_train,y_train)"
      ],
      "execution_count": 18,
      "outputs": [
        {
          "output_type": "execute_result",
          "data": {
            "text/plain": [
              "Pipeline(memory=None,\n",
              "         steps=[('scaler',\n",
              "                 StandardScaler(copy=True, with_mean=True, with_std=True)),\n",
              "                ('regression',\n",
              "                 LinearRegression(copy_X=True, fit_intercept=True, n_jobs=None,\n",
              "                                  normalize=False))],\n",
              "         verbose=False)"
            ]
          },
          "metadata": {
            "tags": []
          },
          "execution_count": 18
        }
      ]
    },
    {
      "cell_type": "code",
      "metadata": {
        "colab": {
          "base_uri": "https://localhost:8080/"
        },
        "id": "oSfn2Ku8xc6g",
        "outputId": "b23f5d95-b6f7-4d8a-9b1a-fefbec944838"
      },
      "source": [
        "estimator.predict(X_test)"
      ],
      "execution_count": 19,
      "outputs": [
        {
          "output_type": "execute_result",
          "data": {
            "text/plain": [
              "array([560.00408745, 404.30933052, 477.45432197, 487.29144751,\n",
              "       564.27043016, 599.85130396, 707.60559346, 561.62671887,\n",
              "       388.20749602, 436.19633625, 489.69871415, 445.61335864,\n",
              "       606.70602534, 647.20695471, 731.68248338, 574.49672119])"
            ]
          },
          "metadata": {
            "tags": []
          },
          "execution_count": 19
        }
      ]
    },
    {
      "cell_type": "markdown",
      "metadata": {
        "id": "G-MdB5Mvz-DI"
      },
      "source": [
        "### cross_val_predict¶\r\n",
        "cross_val_predict is a function that does K-fold cross validation for us, appropriately fitting and transforming at every step of the way."
      ]
    },
    {
      "cell_type": "code",
      "metadata": {
        "colab": {
          "base_uri": "https://localhost:8080/"
        },
        "id": "E3YvUAtQxc-5",
        "outputId": "508f8de4-468f-4859-96d2-574ec86767c8"
      },
      "source": [
        "kf"
      ],
      "execution_count": 20,
      "outputs": [
        {
          "output_type": "execute_result",
          "data": {
            "text/plain": [
              "KFold(n_splits=3, random_state=72018, shuffle=True)"
            ]
          },
          "metadata": {
            "tags": []
          },
          "execution_count": 20
        }
      ]
    },
    {
      "cell_type": "code",
      "metadata": {
        "id": "OuajZzFcxdDa"
      },
      "source": [
        "predictions = cross_val_predict(estimator, X, y, cv=kf)"
      ],
      "execution_count": 21,
      "outputs": []
    },
    {
      "cell_type": "code",
      "metadata": {
        "colab": {
          "base_uri": "https://localhost:8080/"
        },
        "id": "nKUoU51CxdFs",
        "outputId": "66767286-bef2-4934-f52e-10afba94aecc"
      },
      "source": [
        "len(predictions)"
      ],
      "execution_count": 22,
      "outputs": [
        {
          "output_type": "execute_result",
          "data": {
            "text/plain": [
              "48"
            ]
          },
          "metadata": {
            "tags": []
          },
          "execution_count": 22
        }
      ]
    },
    {
      "cell_type": "code",
      "metadata": {
        "colab": {
          "base_uri": "https://localhost:8080/"
        },
        "id": "q6KtAwowxdIC",
        "outputId": "6ce3112d-896b-4350-af2d-d87740217e89"
      },
      "source": [
        "r2_score(y, predictions)"
      ],
      "execution_count": 23,
      "outputs": [
        {
          "output_type": "execute_result",
          "data": {
            "text/plain": [
              "0.6105004390528358"
            ]
          },
          "metadata": {
            "tags": []
          },
          "execution_count": 23
        }
      ]
    },
    {
      "cell_type": "code",
      "metadata": {
        "colab": {
          "base_uri": "https://localhost:8080/"
        },
        "id": "Goz3Gvn9xdKk",
        "outputId": "2f9b71d1-95ca-4277-dde7-d52382e5865c"
      },
      "source": [
        "np.mean(scores) # almost identical!"
      ],
      "execution_count": 24,
      "outputs": [
        {
          "output_type": "execute_result",
          "data": {
            "text/plain": [
              "0.6003158967488229"
            ]
          },
          "metadata": {
            "tags": []
          },
          "execution_count": 24
        }
      ]
    },
    {
      "cell_type": "markdown",
      "metadata": {
        "id": "2Le6uDxa2xZc"
      },
      "source": [
        "### Hyperparameter tuning\r\n",
        "#### Definition\r\n",
        "Hyperparameter tuning involves using cross validation (or train-test split) to determine which hyperparameters are most likely to generate a model that generalizes well outside of your sample.\r\n",
        "\r\n",
        "#### Mechanics\r\n",
        "We can generate an exponentially spaces range of values using the numpy geomspace function.\r\n",
        "\r\n",
        "np.geomspace(1, 1000, num=4)\r\n",
        "produces:\r\n",
        "\r\n",
        "array([    1.,    10.,   100.,  1000.])\r\n",
        "Use this function to generate a list of length 10 called alphas for hyperparameter tuning:"
      ]
    },
    {
      "cell_type": "code",
      "metadata": {
        "colab": {
          "base_uri": "https://localhost:8080/"
        },
        "id": "LPNUxjnFxdMw",
        "outputId": "a3aabee4-6a96-4aa3-8ea3-8df87a92809c"
      },
      "source": [
        "alphas = np.geomspace(1e-9, 1e0, num=10)\r\n",
        "alphas"
      ],
      "execution_count": 25,
      "outputs": [
        {
          "output_type": "execute_result",
          "data": {
            "text/plain": [
              "array([1.e-09, 1.e-08, 1.e-07, 1.e-06, 1.e-05, 1.e-04, 1.e-03, 1.e-02,\n",
              "       1.e-01, 1.e+00])"
            ]
          },
          "metadata": {
            "tags": []
          },
          "execution_count": 25
        }
      ]
    },
    {
      "cell_type": "markdown",
      "metadata": {
        "id": "oTVbnwmQ3Nct"
      },
      "source": [
        "The code below tunes the alpha hyperparameter for Lasso regression."
      ]
    },
    {
      "cell_type": "code",
      "metadata": {
        "id": "249bOu1L3L1S"
      },
      "source": [
        "scores = []\r\n",
        "coefs = []\r\n",
        "for alpha in alphas:\r\n",
        "    las = Lasso(alpha=alpha, max_iter=100000)\r\n",
        "    \r\n",
        "    estimator = Pipeline([\r\n",
        "        (\"scaler\", s),\r\n",
        "        (\"lasso_regression\", las)])\r\n",
        "\r\n",
        "    predictions = cross_val_predict(estimator, X, y, cv = kf)\r\n",
        "    \r\n",
        "    score = r2_score(y, predictions)\r\n",
        "    \r\n",
        "    scores.append(score)"
      ],
      "execution_count": 26,
      "outputs": []
    },
    {
      "cell_type": "code",
      "metadata": {
        "colab": {
          "base_uri": "https://localhost:8080/"
        },
        "id": "6KEK8aAE3JBJ",
        "outputId": "b6870fca-c567-485e-eb8f-647b787a2433"
      },
      "source": [
        "list(zip(alphas,scores))"
      ],
      "execution_count": 27,
      "outputs": [
        {
          "output_type": "execute_result",
          "data": {
            "text/plain": [
              "[(1e-09, 0.6105004390591973),\n",
              " (1e-08, 0.6105004391164308),\n",
              " (1e-07, 0.6105004396916721),\n",
              " (1e-06, 0.6105004454507883),\n",
              " (1e-05, 0.6105005033458499),\n",
              " (0.0001, 0.6105010812886296),\n",
              " (0.001, 0.61050680053286),\n",
              " (0.01, 0.6105643511619387),\n",
              " (0.1, 0.6111318580577028),\n",
              " (1.0, 0.6158565247629548)]"
            ]
          },
          "metadata": {
            "tags": []
          },
          "execution_count": 27
        }
      ]
    },
    {
      "cell_type": "code",
      "metadata": {
        "colab": {
          "base_uri": "https://localhost:8080/"
        },
        "id": "FA_FHlrW2vy3",
        "outputId": "b0733054-7502-4810-cb5d-7c7ac01fa4f8"
      },
      "source": [
        "Lasso(alpha=1e-6).fit(X, y).coef_"
      ],
      "execution_count": 28,
      "outputs": [
        {
          "output_type": "execute_result",
          "data": {
            "text/plain": [
              "array([-3.47901580e+01, -6.65887451e-02, -2.42589059e-03,  1.33644896e+03])"
            ]
          },
          "metadata": {
            "tags": []
          },
          "execution_count": 28
        }
      ]
    },
    {
      "cell_type": "code",
      "metadata": {
        "colab": {
          "base_uri": "https://localhost:8080/"
        },
        "id": "0Qy_yMsP2v2d",
        "outputId": "6d8afc45-bebe-421d-feda-89bd80652f6b"
      },
      "source": [
        "Lasso(alpha=1.0).fit(X, y).coef_"
      ],
      "execution_count": 29,
      "outputs": [
        {
          "output_type": "execute_result",
          "data": {
            "text/plain": [
              "array([-4.35894133e+01, -5.99092343e-02, -4.13243720e-03,  9.43357424e+02])"
            ]
          },
          "metadata": {
            "tags": []
          },
          "execution_count": 29
        }
      ]
    },
    {
      "cell_type": "code",
      "metadata": {
        "colab": {
          "base_uri": "https://localhost:8080/",
          "height": 392
        },
        "id": "C5vknsxl2v52",
        "outputId": "8c90aede-1030-4714-eb1d-a32caa58045d"
      },
      "source": [
        "plt.figure(figsize=(10,6))\r\n",
        "plt.semilogx(alphas, scores, '-o')\r\n",
        "plt.xlabel('$\\\\alpha$')\r\n",
        "plt.ylabel('$R^2$');"
      ],
      "execution_count": 30,
      "outputs": [
        {
          "output_type": "display_data",
          "data": {
            "image/png": "[encoded data removed]",
            "text/plain": [
              "<Figure size 720x432 with 1 Axes>"
            ]
          },
          "metadata": {
            "tags": [],
            "needs_background": "light"
          }
        }
      ]
    },
    {
      "cell_type": "markdown",
      "metadata": {
        "id": "_VmTCJQp3nLf"
      },
      "source": [
        "### Exercise\r\n",
        "Add PolynomialFeatures to this Pipeline, and re-run the cross validation with the PolynomialFeatures added.\r\n",
        "\r\n",
        "#### Hint #1: pipelines process input from first to last. Think about the order that it would make sense to add Polynomial Features to the data in sequence and add them in the appropriate place in the pipeline.\r\n",
        "\r\n",
        "#### Hint #2: you should see a significant increase in cross validation accuracy from doing this"
      ]
    },
    {
      "cell_type": "code",
      "metadata": {
        "id": "SgL-23BQ2v8l"
      },
      "source": [
        "pf = PolynomialFeatures(degree=3)\r\n",
        "\r\n",
        "scores = []\r\n",
        "alphas = np.geomspace(0.06, 6.0, 20)\r\n",
        "for alpha in alphas:\r\n",
        "    las = Lasso(alpha=alpha, max_iter=100000)\r\n",
        "    \r\n",
        "    estimator = Pipeline([\r\n",
        "        (\"scaler\", s),\r\n",
        "        (\"make_higher_degree\", pf),\r\n",
        "        (\"lasso_regression\", las)])\r\n",
        "\r\n",
        "    predictions = cross_val_predict(estimator, X, y, cv = kf)\r\n",
        "    \r\n",
        "    score = r2_score(y, predictions)\r\n",
        "    \r\n",
        "    scores.append(score)"
      ],
      "execution_count": 31,
      "outputs": []
    },
    {
      "cell_type": "code",
      "metadata": {
        "colab": {
          "base_uri": "https://localhost:8080/"
        },
        "id": "j5HhX_za2v_z",
        "outputId": "d72dc942-3e5e-4953-dad0-2d6bf2d08144"
      },
      "source": [
        "alphas"
      ],
      "execution_count": 32,
      "outputs": [
        {
          "output_type": "execute_result",
          "data": {
            "text/plain": [
              "array([0.06      , 0.0764565 , 0.0974266 , 0.12414828, 0.15819905,\n",
              "       0.2015891 , 0.25687994, 0.32733569, 0.41711568, 0.53152007,\n",
              "       0.67730274, 0.86306993, 1.09978843, 1.40143288, 1.78581086,\n",
              "       2.27561411, 2.89975814, 3.69508927, 4.70855982, 6.        ])"
            ]
          },
          "metadata": {
            "tags": []
          },
          "execution_count": 32
        }
      ]
    },
    {
      "cell_type": "code",
      "metadata": {
        "colab": {
          "base_uri": "https://localhost:8080/"
        },
        "id": "qmqi1WTS2wDY",
        "outputId": "2035f1b4-2039-4ad7-b545-af5c1240883e"
      },
      "source": [
        "scores"
      ],
      "execution_count": 33,
      "outputs": [
        {
          "output_type": "execute_result",
          "data": {
            "text/plain": [
              "[-10.033663104790428,\n",
              " -8.816117593421122,\n",
              " -8.7188858441567,\n",
              " -9.845556551530416,\n",
              " -10.461529795919867,\n",
              " -9.981663088267279,\n",
              " -10.183996288825838,\n",
              " -7.961911825405821,\n",
              " -6.235150565584016,\n",
              " -4.66783244409745,\n",
              " -3.7521517544500798,\n",
              " -3.7011303162430806,\n",
              " -3.6941106479082144,\n",
              " -3.470123467207258,\n",
              " -3.207002817328049,\n",
              " -2.822445243640689,\n",
              " -2.489793556541159,\n",
              " -2.1937391298981264,\n",
              " -1.9626169144545718,\n",
              " -1.6654884877767855]"
            ]
          },
          "metadata": {
            "tags": []
          },
          "execution_count": 33
        }
      ]
    },
    {
      "cell_type": "code",
      "metadata": {
        "colab": {
          "base_uri": "https://localhost:8080/",
          "height": 269
        },
        "id": "eN0Bwwaq38PU",
        "outputId": "e3d2135b-de00-4a31-b15a-2e34464087e9"
      },
      "source": [
        "plt.semilogx(alphas, scores);"
      ],
      "execution_count": 34,
      "outputs": [
        {
          "output_type": "display_data",
          "data": {
            "image/png": "[encoded data removed]",
            "text/plain": [
              "<Figure size 432x288 with 1 Axes>"
            ]
          },
          "metadata": {
            "tags": [],
            "needs_background": "light"
          }
        }
      ]
    },
    {
      "cell_type": "code",
      "metadata": {
        "colab": {
          "base_uri": "https://localhost:8080/"
        },
        "id": "y3cR0k6M38SU",
        "outputId": "a06c5917-2849-4511-f99b-41721d980e73"
      },
      "source": [
        "# Once we have found the hyperparameter (alpha~1e-2=0.01)\r\n",
        "# make the model and train it on ALL the data\r\n",
        "# Then release it into the wild .....\r\n",
        "best_estimator = Pipeline([\r\n",
        "                    (\"scaler\", s),\r\n",
        "                    (\"make_higher_degree\", PolynomialFeatures(degree=2)),\r\n",
        "                    (\"lasso_regression\", Lasso(alpha=0.03))])\r\n",
        "\r\n",
        "best_estimator.fit(X, y)\r\n",
        "best_estimator.score(X, y)"
      ],
      "execution_count": 35,
      "outputs": [
        {
          "output_type": "execute_result",
          "data": {
            "text/plain": [
              "0.7996648724875631"
            ]
          },
          "metadata": {
            "tags": []
          },
          "execution_count": 35
        }
      ]
    },
    {
      "cell_type": "code",
      "metadata": {
        "colab": {
          "base_uri": "https://localhost:8080/"
        },
        "id": "rvvRpZd338Vq",
        "outputId": "bea9f7bf-a72c-4a79-d60b-61efd73faa09"
      },
      "source": [
        "best_estimator.named_steps[\"lasso_regression\"].coef_"
      ],
      "execution_count": 36,
      "outputs": [
        {
          "output_type": "execute_result",
          "data": {
            "text/plain": [
              "array([  0.        , -25.39177543, -54.49590474,  -5.72327172,\n",
              "        70.58708746,   8.74648122,  26.41648306,  15.27794607,\n",
              "       -30.63655538, -14.81371958,   9.02861099,  18.71406467,\n",
              "         5.30092588, -23.59501191,   4.85586125])"
            ]
          },
          "metadata": {
            "tags": []
          },
          "execution_count": 36
        }
      ]
    },
    {
      "cell_type": "markdown",
      "metadata": {
        "id": "Q-ULcLFm4NG-"
      },
      "source": [
        "### Exercise\r\n",
        "Do the same, but with Ridge regression\r\n",
        "\r\n",
        "Which model, Ridge or Lasso, performs best with its optimal hyperparameters on the dataset?"
      ]
    },
    {
      "cell_type": "code",
      "metadata": {
        "colab": {
          "base_uri": "https://localhost:8080/",
          "height": 282
        },
        "id": "VM_xZgJz38Ys",
        "outputId": "d9620802-75ba-445f-f74c-15e257d8a5ba"
      },
      "source": [
        "pf = PolynomialFeatures(degree=2)\r\n",
        "alphas = np.geomspace(4, 20, 20)\r\n",
        "scores=[]\r\n",
        "for alpha in alphas:\r\n",
        "    ridge = Ridge(alpha=alpha, max_iter=100000)\r\n",
        "\r\n",
        "    estimator = Pipeline([\r\n",
        "        (\"scaler\", s),\r\n",
        "        (\"polynomial_features\", pf),\r\n",
        "        (\"ridge_regression\", ridge)])\r\n",
        "\r\n",
        "    predictions = cross_val_predict(estimator, X, y, cv = kf)\r\n",
        "    score = r2_score(y, predictions)\r\n",
        "    scores.append(score)\r\n",
        "\r\n",
        "plt.plot(alphas, scores)"
      ],
      "execution_count": 37,
      "outputs": [
        {
          "output_type": "execute_result",
          "data": {
            "text/plain": [
              "[<matplotlib.lines.Line2D at 0x7fd767877a58>]"
            ]
          },
          "metadata": {
            "tags": []
          },
          "execution_count": 37
        },
        {
          "output_type": "display_data",
          "data": {
            "image/png": "[encoded data removed]",
            "text/plain": [
              "<Figure size 432x288 with 1 Axes>"
            ]
          },
          "metadata": {
            "tags": [],
            "needs_background": "light"
          }
        }
      ]
    },
    {
      "cell_type": "markdown",
      "metadata": {
        "id": "FNN2e5Tz4x98"
      },
      "source": [
        "**Conclusion:** Both Lasso and Ridge with proper hyperparameter tuning give better results than plain ol' Linear Regression!\r\n",
        "\r\n",
        "**Exercise:**\r\n",
        "Now, for whatever your best overall hyperparameter was:\r\n",
        "\r\n",
        "Standardize the data\r\n",
        "\r\n",
        "Fit and predict on the entire dataset\r\n",
        "\r\n",
        "See what the largest coefficients were\r\n",
        "\r\n",
        "Hint: use\r\n",
        "\r\n",
        "dict(zip(model.coef_, pf.get_feature_names()))\r\n",
        "for your model model to get the feature names from PolynomialFeatures.\r\n",
        "\r\n",
        "Then, use\r\n",
        "\r\n",
        "dict(zip(list(range(len(X.columns.values))), X.columns.values))\r\n",
        "to see which features in the PolynomialFeatures DataFrame correspond to which columns in the original DataFrame."
      ]
    },
    {
      "cell_type": "code",
      "metadata": {
        "colab": {
          "base_uri": "https://localhost:8080/"
        },
        "id": "6BcUztyj38bQ",
        "outputId": "f6715c2b-b574-49d1-ce90-b3ca6382a9ed"
      },
      "source": [
        "# Once we have found the hyperparameter (alpha~1e-2=0.01)\r\n",
        "# make the model and train it on ALL the data\r\n",
        "# Then release it into the wild .....\r\n",
        "best_estimator = Pipeline([\r\n",
        "                    (\"make_higher_degree\", PolynomialFeatures(degree=2, include_bias=False)),\r\n",
        "                    (\"scaler\", s),\r\n",
        "                    (\"lasso_regression\", Lasso(alpha=0.01))])\r\n",
        "\r\n",
        "best_estimator.fit(X, y)\r\n",
        "best_estimator.score(X, y)"
      ],
      "execution_count": 38,
      "outputs": [
        {
          "output_type": "stream",
          "text": [
            "/usr/local/lib/python3.6/dist-packages/sklearn/linear_model/_coordinate_descent.py:476: ConvergenceWarning: Objective did not converge. You might want to increase the number of iterations. Duality gap: 47623.69057613884, tolerance: 58.836647916666664\n",
            "  positive)\n"
          ],
          "name": "stderr"
        },
        {
          "output_type": "execute_result",
          "data": {
            "text/plain": [
              "0.7986990072322395"
            ]
          },
          "metadata": {
            "tags": []
          },
          "execution_count": 38
        }
      ]
    },
    {
      "cell_type": "code",
      "metadata": {
        "id": "R_Ph2Gly38d-"
      },
      "source": [
        "df_importances = pd.DataFrame(zip(best_estimator.named_steps[\"make_higher_degree\"].get_feature_names(),\r\n",
        "                 best_estimator.named_steps[\"lasso_regression\"].coef_,\r\n",
        "))"
      ],
      "execution_count": 39,
      "outputs": []
    },
    {
      "cell_type": "code",
      "metadata": {
        "colab": {
          "base_uri": "https://localhost:8080/"
        },
        "id": "Lqa9hKrS38g-",
        "outputId": "6f97a9bf-9896-4e06-d0dc-920a5b86d111"
      },
      "source": [
        "# Once we have found the hyperparameter (alpha~1e-2=0.01)\r\n",
        "# make the model and train it on ALL the data\r\n",
        "# Then release it into the wild .....\r\n",
        "best_estimator = Pipeline([\r\n",
        "                    (\"scaler\", s),\r\n",
        "                    (\"make_higher_degree\", PolynomialFeatures(degree=2)),\r\n",
        "                    (\"lasso_regression\", Lasso(alpha=0.03))])\r\n",
        "\r\n",
        "best_estimator.fit(X, y)\r\n",
        "best_estimator.score(X, y)"
      ],
      "execution_count": 40,
      "outputs": [
        {
          "output_type": "execute_result",
          "data": {
            "text/plain": [
              "0.7996648724875631"
            ]
          },
          "metadata": {
            "tags": []
          },
          "execution_count": 40
        }
      ]
    },
    {
      "cell_type": "code",
      "metadata": {
        "id": "jyrGXIIZ38kZ"
      },
      "source": [
        "df_importances = pd.DataFrame(zip(best_estimator.named_steps[\"make_higher_degree\"].get_feature_names(input_features=X.columns),\r\n",
        "                 best_estimator.named_steps[\"lasso_regression\"].coef_,\r\n",
        "))"
      ],
      "execution_count": 41,
      "outputs": []
    },
    {
      "cell_type": "code",
      "metadata": {
        "colab": {
          "base_uri": "https://localhost:8080/",
          "height": 514
        },
        "id": "Vi4-06ts38nx",
        "outputId": "8027c3d3-2e66-4cab-9ece-9fd7ff75c454"
      },
      "source": [
        "df_importances.sort_values(by=1)"
      ],
      "execution_count": 42,
      "outputs": [
        {
          "output_type": "execute_result",
          "data": {
            "text/html": [
              "<div>\n",
              "<style scoped>\n",
              "    .dataframe tbody tr th:only-of-type {\n",
              "        vertical-align: middle;\n",
              "    }\n",
              "\n",
              "    .dataframe tbody tr th {\n",
              "        vertical-align: top;\n",
              "    }\n",
              "\n",
              "    .dataframe thead th {\n",
              "        text-align: right;\n",
              "    }\n",
              "</style>\n",
              "<table border=\"1\" class=\"dataframe\">\n",
              "  <thead>\n",
              "    <tr style=\"text-align: right;\">\n",
              "      <th></th>\n",
              "      <th>0</th>\n",
              "      <th>1</th>\n",
              "    </tr>\n",
              "  </thead>\n",
              "  <tbody>\n",
              "    <tr>\n",
              "      <th>2</th>\n",
              "      <td>Average_income</td>\n",
              "      <td>-54.495905</td>\n",
              "    </tr>\n",
              "    <tr>\n",
              "      <th>8</th>\n",
              "      <td>Petrol_tax Population_Driver_licence(%)</td>\n",
              "      <td>-30.636555</td>\n",
              "    </tr>\n",
              "    <tr>\n",
              "      <th>1</th>\n",
              "      <td>Petrol_tax</td>\n",
              "      <td>-25.391775</td>\n",
              "    </tr>\n",
              "    <tr>\n",
              "      <th>13</th>\n",
              "      <td>Paved_Highways Population_Driver_licence(%)</td>\n",
              "      <td>-23.595012</td>\n",
              "    </tr>\n",
              "    <tr>\n",
              "      <th>9</th>\n",
              "      <td>Average_income^2</td>\n",
              "      <td>-14.813720</td>\n",
              "    </tr>\n",
              "    <tr>\n",
              "      <th>3</th>\n",
              "      <td>Paved_Highways</td>\n",
              "      <td>-5.723272</td>\n",
              "    </tr>\n",
              "    <tr>\n",
              "      <th>0</th>\n",
              "      <td>1</td>\n",
              "      <td>0.000000</td>\n",
              "    </tr>\n",
              "    <tr>\n",
              "      <th>14</th>\n",
              "      <td>Population_Driver_licence(%)^2</td>\n",
              "      <td>4.855861</td>\n",
              "    </tr>\n",
              "    <tr>\n",
              "      <th>12</th>\n",
              "      <td>Paved_Highways^2</td>\n",
              "      <td>5.300926</td>\n",
              "    </tr>\n",
              "    <tr>\n",
              "      <th>5</th>\n",
              "      <td>Petrol_tax^2</td>\n",
              "      <td>8.746481</td>\n",
              "    </tr>\n",
              "    <tr>\n",
              "      <th>10</th>\n",
              "      <td>Average_income Paved_Highways</td>\n",
              "      <td>9.028611</td>\n",
              "    </tr>\n",
              "    <tr>\n",
              "      <th>7</th>\n",
              "      <td>Petrol_tax Paved_Highways</td>\n",
              "      <td>15.277946</td>\n",
              "    </tr>\n",
              "    <tr>\n",
              "      <th>11</th>\n",
              "      <td>Average_income Population_Driver_licence(%)</td>\n",
              "      <td>18.714065</td>\n",
              "    </tr>\n",
              "    <tr>\n",
              "      <th>6</th>\n",
              "      <td>Petrol_tax Average_income</td>\n",
              "      <td>26.416483</td>\n",
              "    </tr>\n",
              "    <tr>\n",
              "      <th>4</th>\n",
              "      <td>Population_Driver_licence(%)</td>\n",
              "      <td>70.587087</td>\n",
              "    </tr>\n",
              "  </tbody>\n",
              "</table>\n",
              "</div>"
            ],
            "text/plain": [
              "                                              0          1\n",
              "2                                Average_income -54.495905\n",
              "8       Petrol_tax Population_Driver_licence(%) -30.636555\n",
              "1                                    Petrol_tax -25.391775\n",
              "13  Paved_Highways Population_Driver_licence(%) -23.595012\n",
              "9                              Average_income^2 -14.813720\n",
              "3                                Paved_Highways  -5.723272\n",
              "0                                             1   0.000000\n",
              "14               Population_Driver_licence(%)^2   4.855861\n",
              "12                             Paved_Highways^2   5.300926\n",
              "5                                  Petrol_tax^2   8.746481\n",
              "10                Average_income Paved_Highways   9.028611\n",
              "7                     Petrol_tax Paved_Highways  15.277946\n",
              "11  Average_income Population_Driver_licence(%)  18.714065\n",
              "6                     Petrol_tax Average_income  26.416483\n",
              "4                  Population_Driver_licence(%)  70.587087"
            ]
          },
          "metadata": {
            "tags": []
          },
          "execution_count": 42
        }
      ]
    },
    {
      "cell_type": "code",
      "metadata": {
        "id": "nZFYT0jo38qJ"
      },
      "source": [
        "col_names_dict = dict(zip(list(range(len(X.columns.values))), X.columns.values))"
      ],
      "execution_count": 43,
      "outputs": []
    },
    {
      "cell_type": "code",
      "metadata": {
        "colab": {
          "base_uri": "https://localhost:8080/"
        },
        "id": "wN7iTl0G5WB5",
        "outputId": "0c58cddb-a75f-4e8f-bfe8-d89b9c07bdd6"
      },
      "source": [
        "col_names_dict"
      ],
      "execution_count": 44,
      "outputs": [
        {
          "output_type": "execute_result",
          "data": {
            "text/plain": [
              "{0: 'Petrol_tax',\n",
              " 1: 'Average_income',\n",
              " 2: 'Paved_Highways',\n",
              " 3: 'Population_Driver_licence(%)'}"
            ]
          },
          "metadata": {
            "tags": []
          },
          "execution_count": 44
        }
      ]
    },
    {
      "cell_type": "code",
      "metadata": {
        "colab": {
          "base_uri": "https://localhost:8080/",
          "height": 514
        },
        "id": "q8m2s68g5WF2",
        "outputId": "d69d39c5-b876-4d47-d7ab-4d7b96de5072"
      },
      "source": [
        "df_importances.sort_values(by=1)"
      ],
      "execution_count": 45,
      "outputs": [
        {
          "output_type": "execute_result",
          "data": {
            "text/html": [
              "<div>\n",
              "<style scoped>\n",
              "    .dataframe tbody tr th:only-of-type {\n",
              "        vertical-align: middle;\n",
              "    }\n",
              "\n",
              "    .dataframe tbody tr th {\n",
              "        vertical-align: top;\n",
              "    }\n",
              "\n",
              "    .dataframe thead th {\n",
              "        text-align: right;\n",
              "    }\n",
              "</style>\n",
              "<table border=\"1\" class=\"dataframe\">\n",
              "  <thead>\n",
              "    <tr style=\"text-align: right;\">\n",
              "      <th></th>\n",
              "      <th>0</th>\n",
              "      <th>1</th>\n",
              "    </tr>\n",
              "  </thead>\n",
              "  <tbody>\n",
              "    <tr>\n",
              "      <th>2</th>\n",
              "      <td>Average_income</td>\n",
              "      <td>-54.495905</td>\n",
              "    </tr>\n",
              "    <tr>\n",
              "      <th>8</th>\n",
              "      <td>Petrol_tax Population_Driver_licence(%)</td>\n",
              "      <td>-30.636555</td>\n",
              "    </tr>\n",
              "    <tr>\n",
              "      <th>1</th>\n",
              "      <td>Petrol_tax</td>\n",
              "      <td>-25.391775</td>\n",
              "    </tr>\n",
              "    <tr>\n",
              "      <th>13</th>\n",
              "      <td>Paved_Highways Population_Driver_licence(%)</td>\n",
              "      <td>-23.595012</td>\n",
              "    </tr>\n",
              "    <tr>\n",
              "      <th>9</th>\n",
              "      <td>Average_income^2</td>\n",
              "      <td>-14.813720</td>\n",
              "    </tr>\n",
              "    <tr>\n",
              "      <th>3</th>\n",
              "      <td>Paved_Highways</td>\n",
              "      <td>-5.723272</td>\n",
              "    </tr>\n",
              "    <tr>\n",
              "      <th>0</th>\n",
              "      <td>1</td>\n",
              "      <td>0.000000</td>\n",
              "    </tr>\n",
              "    <tr>\n",
              "      <th>14</th>\n",
              "      <td>Population_Driver_licence(%)^2</td>\n",
              "      <td>4.855861</td>\n",
              "    </tr>\n",
              "    <tr>\n",
              "      <th>12</th>\n",
              "      <td>Paved_Highways^2</td>\n",
              "      <td>5.300926</td>\n",
              "    </tr>\n",
              "    <tr>\n",
              "      <th>5</th>\n",
              "      <td>Petrol_tax^2</td>\n",
              "      <td>8.746481</td>\n",
              "    </tr>\n",
              "    <tr>\n",
              "      <th>10</th>\n",
              "      <td>Average_income Paved_Highways</td>\n",
              "      <td>9.028611</td>\n",
              "    </tr>\n",
              "    <tr>\n",
              "      <th>7</th>\n",
              "      <td>Petrol_tax Paved_Highways</td>\n",
              "      <td>15.277946</td>\n",
              "    </tr>\n",
              "    <tr>\n",
              "      <th>11</th>\n",
              "      <td>Average_income Population_Driver_licence(%)</td>\n",
              "      <td>18.714065</td>\n",
              "    </tr>\n",
              "    <tr>\n",
              "      <th>6</th>\n",
              "      <td>Petrol_tax Average_income</td>\n",
              "      <td>26.416483</td>\n",
              "    </tr>\n",
              "    <tr>\n",
              "      <th>4</th>\n",
              "      <td>Population_Driver_licence(%)</td>\n",
              "      <td>70.587087</td>\n",
              "    </tr>\n",
              "  </tbody>\n",
              "</table>\n",
              "</div>"
            ],
            "text/plain": [
              "                                              0          1\n",
              "2                                Average_income -54.495905\n",
              "8       Petrol_tax Population_Driver_licence(%) -30.636555\n",
              "1                                    Petrol_tax -25.391775\n",
              "13  Paved_Highways Population_Driver_licence(%) -23.595012\n",
              "9                              Average_income^2 -14.813720\n",
              "3                                Paved_Highways  -5.723272\n",
              "0                                             1   0.000000\n",
              "14               Population_Driver_licence(%)^2   4.855861\n",
              "12                             Paved_Highways^2   5.300926\n",
              "5                                  Petrol_tax^2   8.746481\n",
              "10                Average_income Paved_Highways   9.028611\n",
              "7                     Petrol_tax Paved_Highways  15.277946\n",
              "11  Average_income Population_Driver_licence(%)  18.714065\n",
              "6                     Petrol_tax Average_income  26.416483\n",
              "4                  Population_Driver_licence(%)  70.587087"
            ]
          },
          "metadata": {
            "tags": []
          },
          "execution_count": 45
        }
      ]
    },
    {
      "cell_type": "code",
      "metadata": {
        "colab": {
          "base_uri": "https://localhost:8080/"
        },
        "id": "pzp0ZD7I5WIe",
        "outputId": "8752b198-2574-4fdc-a172-06e4a2782575"
      },
      "source": [
        "best_estimator.named_steps[\"make_higher_degree\"].get_feature_names(input_features=X.columns)"
      ],
      "execution_count": 46,
      "outputs": [
        {
          "output_type": "execute_result",
          "data": {
            "text/plain": [
              "['1',\n",
              " 'Petrol_tax',\n",
              " 'Average_income',\n",
              " 'Paved_Highways',\n",
              " 'Population_Driver_licence(%)',\n",
              " 'Petrol_tax^2',\n",
              " 'Petrol_tax Average_income',\n",
              " 'Petrol_tax Paved_Highways',\n",
              " 'Petrol_tax Population_Driver_licence(%)',\n",
              " 'Average_income^2',\n",
              " 'Average_income Paved_Highways',\n",
              " 'Average_income Population_Driver_licence(%)',\n",
              " 'Paved_Highways^2',\n",
              " 'Paved_Highways Population_Driver_licence(%)',\n",
              " 'Population_Driver_licence(%)^2']"
            ]
          },
          "metadata": {
            "tags": []
          },
          "execution_count": 46
        }
      ]
    },
    {
      "cell_type": "code",
      "metadata": {
        "colab": {
          "base_uri": "https://localhost:8080/"
        },
        "id": "YPEK0d9G5WLw",
        "outputId": "7e27bfaf-3e29-4b0d-bb33-c0e2c78b22fd"
      },
      "source": [
        " best_estimator.named_steps[\"lasso_regression\"].coef_"
      ],
      "execution_count": 47,
      "outputs": [
        {
          "output_type": "execute_result",
          "data": {
            "text/plain": [
              "array([  0.        , -25.39177543, -54.49590474,  -5.72327172,\n",
              "        70.58708746,   8.74648122,  26.41648306,  15.27794607,\n",
              "       -30.63655538, -14.81371958,   9.02861099,  18.71406467,\n",
              "         5.30092588, -23.59501191,   4.85586125])"
            ]
          },
          "metadata": {
            "tags": []
          },
          "execution_count": 47
        }
      ]
    },
    {
      "cell_type": "markdown",
      "metadata": {
        "id": "NAIPRtRM6Dfb"
      },
      "source": [
        "### Grid Search CV\r\n",
        "To do cross-validation, we used two techniques:\r\n",
        "\r\n",
        "* use KFolds and manually create a loop to do cross-validation\r\n",
        "* use cross_val_predict and score to get a cross-valiated score in a couple of lines.\r\n",
        "To do hyper-parameter tuning, we see a general pattern:\r\n",
        "\r\n",
        "* use cross_val_predict and score in a manually written loop over hyperparemeters, then select the best one.\r\n",
        "Perhaps not surprisingly, there is a function that does this for us -- GridSearchCV"
      ]
    },
    {
      "cell_type": "code",
      "metadata": {
        "id": "wQDbeIJU5WQd"
      },
      "source": [
        "from sklearn.model_selection import GridSearchCV\r\n",
        "\r\n",
        "# Same estimator as before\r\n",
        "estimator = Pipeline([(\"scaler\", StandardScaler()),\r\n",
        "        (\"polynomial_features\", PolynomialFeatures()),\r\n",
        "        (\"ridge_regression\", Ridge())])\r\n",
        "\r\n",
        "params = {\r\n",
        "    'polynomial_features__degree': [1, 2, 3],\r\n",
        "    'ridge_regression__alpha': np.geomspace(4, 20, 30)\r\n",
        "}\r\n",
        "\r\n",
        "grid = GridSearchCV(estimator, params, cv=kf)"
      ],
      "execution_count": 48,
      "outputs": []
    },
    {
      "cell_type": "code",
      "metadata": {
        "colab": {
          "base_uri": "https://localhost:8080/"
        },
        "id": "DaBFmL-B5WT6",
        "outputId": "8718a605-e2ec-4915-d4fa-227fd024ecfc"
      },
      "source": [
        "grid.fit(X, y)"
      ],
      "execution_count": 49,
      "outputs": [
        {
          "output_type": "execute_result",
          "data": {
            "text/plain": [
              "GridSearchCV(cv=KFold(n_splits=3, random_state=72018, shuffle=True),\n",
              "             error_score=nan,\n",
              "             estimator=Pipeline(memory=None,\n",
              "                                steps=[('scaler',\n",
              "                                        StandardScaler(copy=True,\n",
              "                                                       with_mean=True,\n",
              "                                                       with_std=True)),\n",
              "                                       ('polynomial_features',\n",
              "                                        PolynomialFeatures(degree=2,\n",
              "                                                           include_bias=True,\n",
              "                                                           interaction_only=False,\n",
              "                                                           order='C')),\n",
              "                                       ('ridge_regression',\n",
              "                                        Ridge(alpha=1.0, copy_X=True,\n",
              "                                              fit_intercep...\n",
              "        5.27924796,  5.58051751,  5.89897953,  6.23561514,  6.59146146,\n",
              "        6.96761476,  7.36523392,  7.78554391,  8.22983963,  8.69948987,\n",
              "        9.19594151,  9.72072404, 10.27545421, 10.86184103, 11.48169104,\n",
              "       12.13691388, 12.82952815, 13.56166768, 14.33558803, 15.15367351,\n",
              "       16.01844446, 16.93256509, 17.89885162, 18.92028098, 20.        ])},\n",
              "             pre_dispatch='2*n_jobs', refit=True, return_train_score=False,\n",
              "             scoring=None, verbose=0)"
            ]
          },
          "metadata": {
            "tags": []
          },
          "execution_count": 49
        }
      ]
    },
    {
      "cell_type": "code",
      "metadata": {
        "colab": {
          "base_uri": "https://localhost:8080/"
        },
        "id": "3BRhWPJC5WXw",
        "outputId": "720c207d-45a6-4434-f770-352b9954bdc6"
      },
      "source": [
        "grid.best_score_, grid.best_params_"
      ],
      "execution_count": 50,
      "outputs": [
        {
          "output_type": "execute_result",
          "data": {
            "text/plain": [
              "(0.6370529481159518,\n",
              " {'polynomial_features__degree': 1,\n",
              "  'ridge_regression__alpha': 5.58051750774668})"
            ]
          },
          "metadata": {
            "tags": []
          },
          "execution_count": 50
        }
      ]
    },
    {
      "cell_type": "code",
      "metadata": {
        "id": "ZKa3P-FC5WbI"
      },
      "source": [
        "y_predict = grid.predict(X)"
      ],
      "execution_count": 51,
      "outputs": []
    },
    {
      "cell_type": "code",
      "metadata": {
        "colab": {
          "base_uri": "https://localhost:8080/"
        },
        "id": "QlmOQXC65WeG",
        "outputId": "7c434386-5a79-43f5-a85f-2f1244078b64"
      },
      "source": [
        "# This includes both in-sample and out-of-sample\r\n",
        "r2_score(y, y_predict)"
      ],
      "execution_count": 52,
      "outputs": [
        {
          "output_type": "execute_result",
          "data": {
            "text/plain": [
              "0.6716764507971167"
            ]
          },
          "metadata": {
            "tags": []
          },
          "execution_count": 52
        }
      ]
    },
    {
      "cell_type": "code",
      "metadata": {
        "colab": {
          "base_uri": "https://localhost:8080/"
        },
        "id": "jqSBubwj5Wh3",
        "outputId": "b1bb1a61-74a1-406a-880a-84fcf3099ebd"
      },
      "source": [
        "# Notice that \"grid\" is a fit object!\r\n",
        "# We can use grid.predict(X_test) to get brand new predictions!\r\n",
        "grid.best_estimator_.named_steps['ridge_regression'].coef_"
      ],
      "execution_count": 53,
      "outputs": [
        {
          "output_type": "execute_result",
          "data": {
            "text/plain": [
              "array([  0.        , -30.89689686, -32.83045687,  -7.32204101,\n",
              "        65.55194851])"
            ]
          },
          "metadata": {
            "tags": []
          },
          "execution_count": 53
        }
      ]
    },
    {
      "cell_type": "code",
      "metadata": {
        "colab": {
          "base_uri": "https://localhost:8080/"
        },
        "id": "4tNswo9_5Wkk",
        "outputId": "9c9eaf6d-102f-4a0d-a694-fc13721769b2"
      },
      "source": [
        "grid.cv_results_"
      ],
      "execution_count": 54,
      "outputs": [
        {
          "output_type": "execute_result",
          "data": {
            "text/plain": [
              "{'mean_fit_time': array([0.0038596 , 0.00330114, 0.0042673 , 0.00327786, 0.00313783,\n",
              "        0.00272004, 0.00285077, 0.00273498, 0.00263929, 0.00277352,\n",
              "        0.00422994, 0.00362611, 0.00280364, 0.00282462, 0.00276685,\n",
              "        0.00281612, 0.00271598, 0.00275771, 0.00271042, 0.00276709,\n",
              "        0.00269326, 0.0027597 , 0.00268459, 0.00297523, 0.00283178,\n",
              "        0.0027136 , 0.00281707, 0.00275071, 0.00272544, 0.00267879,\n",
              "        0.00273188, 0.00283647, 0.00285085, 0.00274777, 0.00275389,\n",
              "        0.00274865, 0.00385539, 0.00361037, 0.00285188, 0.00282637,\n",
              "        0.00280658, 0.0028437 , 0.00282637, 0.00288161, 0.00273514,\n",
              "        0.00276224, 0.00281517, 0.00272012, 0.00277702, 0.0027833 ,\n",
              "        0.00284028, 0.00277106, 0.00290203, 0.00285109, 0.00418115,\n",
              "        0.00435678, 0.00328581, 0.00318877, 0.00286913, 0.00272703,\n",
              "        0.00371774, 0.00428009, 0.00412742, 0.00443053, 0.00410978,\n",
              "        0.00348838, 0.00408268, 0.00286794, 0.00291697, 0.00286937,\n",
              "        0.00283694, 0.0027589 , 0.0027624 , 0.0027949 , 0.00282256,\n",
              "        0.00285625, 0.00278743, 0.00283829, 0.00288701, 0.00286436,\n",
              "        0.00277988, 0.00287088, 0.00282462, 0.00290346, 0.00284195,\n",
              "        0.00283837, 0.00286802, 0.00296823, 0.00274491, 0.00277487]),\n",
              " 'mean_score_time': array([0.00191657, 0.0013361 , 0.00154257, 0.0019513 , 0.00128253,\n",
              "        0.00125599, 0.00132473, 0.00127927, 0.00125519, 0.0013001 ,\n",
              "        0.00295321, 0.00145133, 0.00124582, 0.00130653, 0.00131114,\n",
              "        0.00133983, 0.00140436, 0.00148797, 0.00126878, 0.00135231,\n",
              "        0.00132648, 0.00130018, 0.00124534, 0.00125448, 0.00138013,\n",
              "        0.00143393, 0.0012513 , 0.00126719, 0.00133459, 0.00133634,\n",
              "        0.00134889, 0.00136169, 0.00137774, 0.00140524, 0.0013787 ,\n",
              "        0.00137083, 0.00193318, 0.0016102 , 0.0013965 , 0.00138529,\n",
              "        0.00141223, 0.00151531, 0.00144649, 0.00146858, 0.00135509,\n",
              "        0.00138267, 0.00138108, 0.00139872, 0.00141835, 0.00135954,\n",
              "        0.00141795, 0.00136749, 0.00141247, 0.00136344, 0.002105  ,\n",
              "        0.00201138, 0.0015649 , 0.00152699, 0.00141613, 0.00139888,\n",
              "        0.00199803, 0.00199811, 0.00201503, 0.00204229, 0.00199612,\n",
              "        0.00161473, 0.00171296, 0.00145864, 0.00145706, 0.00141962,\n",
              "        0.00148606, 0.00140158, 0.00145515, 0.00142177, 0.00141454,\n",
              "        0.00144092, 0.00137909, 0.00150156, 0.00144847, 0.00139848,\n",
              "        0.00138712, 0.00147883, 0.00139554, 0.00146071, 0.00143782,\n",
              "        0.00145968, 0.00141978, 0.00149592, 0.00149576, 0.00147621]),\n",
              " 'mean_test_score': array([ 0.63528682,  0.63581198,  0.63625851,  0.63661652,  0.6368756 ,\n",
              "         0.63702487,  0.63705295,  0.63694803,  0.63669791,  0.63629001,\n",
              "         0.63571144,  0.63494906,  0.63398953,  0.63281941,  0.63142518,\n",
              "         0.62979341,  0.62791074,  0.6257641 ,  0.62334069,  0.62062818,\n",
              "         0.61761477,  0.61428929,  0.61064138,  0.6066615 ,  0.60234114,\n",
              "         0.59767286,  0.59265043,  0.5872689 ,  0.58152471,  0.57541577,\n",
              "         0.35066217,  0.35923195,  0.36748476,  0.37540845,  0.38299306,\n",
              "         0.39023086,  0.39711633,  0.40364612,  0.40981894,  0.41563543,\n",
              "         0.42109805,  0.42621086,  0.43097936,  0.43541026,  0.43951124,\n",
              "         0.44329073,  0.44675769,  0.44992133,  0.45279094,  0.45537562,\n",
              "         0.45768412,  0.45972464,  0.46150468,  0.46303089,  0.46430899,\n",
              "         0.46534365,  0.46613848,  0.46669596,  0.46701748,  0.46710334,\n",
              "        -2.14090719, -2.11092158, -2.08299444, -2.05686012, -2.03225374,\n",
              "        -2.00891325, -1.98658129, -1.96500713, -1.94394839, -1.9231726 ,\n",
              "        -1.90245877, -1.88159865, -1.86039788, -1.838677  , -1.81627223,\n",
              "        -1.79303614, -1.76883801, -1.74356421, -1.71711821, -1.6894206 ,\n",
              "        -1.66040888, -1.63003709, -1.59827543, -1.56510962, -1.5305403 ,\n",
              "        -1.49458229, -1.45726374, -1.41862533, -1.37871932, -1.33760862]),\n",
              " 'param_polynomial_features__degree': masked_array(data=[1, 1, 1, 1, 1, 1, 1, 1, 1, 1, 1, 1, 1, 1, 1, 1, 1, 1,\n",
              "                    1, 1, 1, 1, 1, 1, 1, 1, 1, 1, 1, 1, 2, 2, 2, 2, 2, 2,\n",
              "                    2, 2, 2, 2, 2, 2, 2, 2, 2, 2, 2, 2, 2, 2, 2, 2, 2, 2,\n",
              "                    2, 2, 2, 2, 2, 2, 3, 3, 3, 3, 3, 3, 3, 3, 3, 3, 3, 3,\n",
              "                    3, 3, 3, 3, 3, 3, 3, 3, 3, 3, 3, 3, 3, 3, 3, 3, 3, 3],\n",
              "              mask=[False, False, False, False, False, False, False, False,\n",
              "                    False, False, False, False, False, False, False, False,\n",
              "                    False, False, False, False, False, False, False, False,\n",
              "                    False, False, False, False, False, False, False, False,\n",
              "                    False, False, False, False, False, False, False, False,\n",
              "                    False, False, False, False, False, False, False, False,\n",
              "                    False, False, False, False, False, False, False, False,\n",
              "                    False, False, False, False, False, False, False, False,\n",
              "                    False, False, False, False, False, False, False, False,\n",
              "                    False, False, False, False, False, False, False, False,\n",
              "                    False, False, False, False, False, False, False, False,\n",
              "                    False, False],\n",
              "        fill_value='?',\n",
              "             dtype=object),\n",
              " 'param_ridge_regression__alpha': masked_array(data=[4.0, 4.228267015769416, 4.4695604891609,\n",
              "                    4.724623797826311, 4.994242741567055,\n",
              "                    5.279247963228449, 5.58051750774668, 5.898979527232258,\n",
              "                    6.235615140423803, 6.591461455321584,\n",
              "                    6.9676147643129305, 7.365233921633089,\n",
              "                    7.785543913566802, 8.229839632389709,\n",
              "                    8.699489865676323, 9.195941513264877,\n",
              "                    9.720724044870641, 10.275454212080797,\n",
              "                    10.861841029247536, 11.481691038624568,\n",
              "                    12.136913875967887, 12.82952815374728,\n",
              "                    13.561667680093686, 14.335588032641558,\n",
              "                    15.153673507519274, 16.018444464895637,\n",
              "                    16.932565093713098, 17.898851619528912,\n",
              "                    18.920280980751272, 20.000000000000004, 4.0,\n",
              "                    4.228267015769416, 4.4695604891609, 4.724623797826311,\n",
              "                    4.994242741567055, 5.279247963228449, 5.58051750774668,\n",
              "                    5.898979527232258, 6.235615140423803,\n",
              "                    6.591461455321584, 6.9676147643129305,\n",
              "                    7.365233921633089, 7.785543913566802,\n",
              "                    8.229839632389709, 8.699489865676323,\n",
              "                    9.195941513264877, 9.720724044870641,\n",
              "                    10.275454212080797, 10.861841029247536,\n",
              "                    11.481691038624568, 12.136913875967887,\n",
              "                    12.82952815374728, 13.561667680093686,\n",
              "                    14.335588032641558, 15.153673507519274,\n",
              "                    16.018444464895637, 16.932565093713098,\n",
              "                    17.898851619528912, 18.920280980751272,\n",
              "                    20.000000000000004, 4.0, 4.228267015769416,\n",
              "                    4.4695604891609, 4.724623797826311, 4.994242741567055,\n",
              "                    5.279247963228449, 5.58051750774668, 5.898979527232258,\n",
              "                    6.235615140423803, 6.591461455321584,\n",
              "                    6.9676147643129305, 7.365233921633089,\n",
              "                    7.785543913566802, 8.229839632389709,\n",
              "                    8.699489865676323, 9.195941513264877,\n",
              "                    9.720724044870641, 10.275454212080797,\n",
              "                    10.861841029247536, 11.481691038624568,\n",
              "                    12.136913875967887, 12.82952815374728,\n",
              "                    13.561667680093686, 14.335588032641558,\n",
              "                    15.153673507519274, 16.018444464895637,\n",
              "                    16.932565093713098, 17.898851619528912,\n",
              "                    18.920280980751272, 20.000000000000004],\n",
              "              mask=[False, False, False, False, False, False, False, False,\n",
              "                    False, False, False, False, False, False, False, False,\n",
              "                    False, False, False, False, False, False, False, False,\n",
              "                    False, False, False, False, False, False, False, False,\n",
              "                    False, False, False, False, False, False, False, False,\n",
              "                    False, False, False, False, False, False, False, False,\n",
              "                    False, False, False, False, False, False, False, False,\n",
              "                    False, False, False, False, False, False, False, False,\n",
              "                    False, False, False, False, False, False, False, False,\n",
              "                    False, False, False, False, False, False, False, False,\n",
              "                    False, False, False, False, False, False, False, False,\n",
              "                    False, False],\n",
              "        fill_value='?',\n",
              "             dtype=object),\n",
              " 'params': [{'polynomial_features__degree': 1, 'ridge_regression__alpha': 4.0},\n",
              "  {'polynomial_features__degree': 1,\n",
              "   'ridge_regression__alpha': 4.228267015769416},\n",
              "  {'polynomial_features__degree': 1,\n",
              "   'ridge_regression__alpha': 4.4695604891609},\n",
              "  {'polynomial_features__degree': 1,\n",
              "   'ridge_regression__alpha': 4.724623797826311},\n",
              "  {'polynomial_features__degree': 1,\n",
              "   'ridge_regression__alpha': 4.994242741567055},\n",
              "  {'polynomial_features__degree': 1,\n",
              "   'ridge_regression__alpha': 5.279247963228449},\n",
              "  {'polynomial_features__degree': 1,\n",
              "   'ridge_regression__alpha': 5.58051750774668},\n",
              "  {'polynomial_features__degree': 1,\n",
              "   'ridge_regression__alpha': 5.898979527232258},\n",
              "  {'polynomial_features__degree': 1,\n",
              "   'ridge_regression__alpha': 6.235615140423803},\n",
              "  {'polynomial_features__degree': 1,\n",
              "   'ridge_regression__alpha': 6.591461455321584},\n",
              "  {'polynomial_features__degree': 1,\n",
              "   'ridge_regression__alpha': 6.9676147643129305},\n",
              "  {'polynomial_features__degree': 1,\n",
              "   'ridge_regression__alpha': 7.365233921633089},\n",
              "  {'polynomial_features__degree': 1,\n",
              "   'ridge_regression__alpha': 7.785543913566802},\n",
              "  {'polynomial_features__degree': 1,\n",
              "   'ridge_regression__alpha': 8.229839632389709},\n",
              "  {'polynomial_features__degree': 1,\n",
              "   'ridge_regression__alpha': 8.699489865676323},\n",
              "  {'polynomial_features__degree': 1,\n",
              "   'ridge_regression__alpha': 9.195941513264877},\n",
              "  {'polynomial_features__degree': 1,\n",
              "   'ridge_regression__alpha': 9.720724044870641},\n",
              "  {'polynomial_features__degree': 1,\n",
              "   'ridge_regression__alpha': 10.275454212080797},\n",
              "  {'polynomial_features__degree': 1,\n",
              "   'ridge_regression__alpha': 10.861841029247536},\n",
              "  {'polynomial_features__degree': 1,\n",
              "   'ridge_regression__alpha': 11.481691038624568},\n",
              "  {'polynomial_features__degree': 1,\n",
              "   'ridge_regression__alpha': 12.136913875967887},\n",
              "  {'polynomial_features__degree': 1,\n",
              "   'ridge_regression__alpha': 12.82952815374728},\n",
              "  {'polynomial_features__degree': 1,\n",
              "   'ridge_regression__alpha': 13.561667680093686},\n",
              "  {'polynomial_features__degree': 1,\n",
              "   'ridge_regression__alpha': 14.335588032641558},\n",
              "  {'polynomial_features__degree': 1,\n",
              "   'ridge_regression__alpha': 15.153673507519274},\n",
              "  {'polynomial_features__degree': 1,\n",
              "   'ridge_regression__alpha': 16.018444464895637},\n",
              "  {'polynomial_features__degree': 1,\n",
              "   'ridge_regression__alpha': 16.932565093713098},\n",
              "  {'polynomial_features__degree': 1,\n",
              "   'ridge_regression__alpha': 17.898851619528912},\n",
              "  {'polynomial_features__degree': 1,\n",
              "   'ridge_regression__alpha': 18.920280980751272},\n",
              "  {'polynomial_features__degree': 1,\n",
              "   'ridge_regression__alpha': 20.000000000000004},\n",
              "  {'polynomial_features__degree': 2, 'ridge_regression__alpha': 4.0},\n",
              "  {'polynomial_features__degree': 2,\n",
              "   'ridge_regression__alpha': 4.228267015769416},\n",
              "  {'polynomial_features__degree': 2,\n",
              "   'ridge_regression__alpha': 4.4695604891609},\n",
              "  {'polynomial_features__degree': 2,\n",
              "   'ridge_regression__alpha': 4.724623797826311},\n",
              "  {'polynomial_features__degree': 2,\n",
              "   'ridge_regression__alpha': 4.994242741567055},\n",
              "  {'polynomial_features__degree': 2,\n",
              "   'ridge_regression__alpha': 5.279247963228449},\n",
              "  {'polynomial_features__degree': 2,\n",
              "   'ridge_regression__alpha': 5.58051750774668},\n",
              "  {'polynomial_features__degree': 2,\n",
              "   'ridge_regression__alpha': 5.898979527232258},\n",
              "  {'polynomial_features__degree': 2,\n",
              "   'ridge_regression__alpha': 6.235615140423803},\n",
              "  {'polynomial_features__degree': 2,\n",
              "   'ridge_regression__alpha': 6.591461455321584},\n",
              "  {'polynomial_features__degree': 2,\n",
              "   'ridge_regression__alpha': 6.9676147643129305},\n",
              "  {'polynomial_features__degree': 2,\n",
              "   'ridge_regression__alpha': 7.365233921633089},\n",
              "  {'polynomial_features__degree': 2,\n",
              "   'ridge_regression__alpha': 7.785543913566802},\n",
              "  {'polynomial_features__degree': 2,\n",
              "   'ridge_regression__alpha': 8.229839632389709},\n",
              "  {'polynomial_features__degree': 2,\n",
              "   'ridge_regression__alpha': 8.699489865676323},\n",
              "  {'polynomial_features__degree': 2,\n",
              "   'ridge_regression__alpha': 9.195941513264877},\n",
              "  {'polynomial_features__degree': 2,\n",
              "   'ridge_regression__alpha': 9.720724044870641},\n",
              "  {'polynomial_features__degree': 2,\n",
              "   'ridge_regression__alpha': 10.275454212080797},\n",
              "  {'polynomial_features__degree': 2,\n",
              "   'ridge_regression__alpha': 10.861841029247536},\n",
              "  {'polynomial_features__degree': 2,\n",
              "   'ridge_regression__alpha': 11.481691038624568},\n",
              "  {'polynomial_features__degree': 2,\n",
              "   'ridge_regression__alpha': 12.136913875967887},\n",
              "  {'polynomial_features__degree': 2,\n",
              "   'ridge_regression__alpha': 12.82952815374728},\n",
              "  {'polynomial_features__degree': 2,\n",
              "   'ridge_regression__alpha': 13.561667680093686},\n",
              "  {'polynomial_features__degree': 2,\n",
              "   'ridge_regression__alpha': 14.335588032641558},\n",
              "  {'polynomial_features__degree': 2,\n",
              "   'ridge_regression__alpha': 15.153673507519274},\n",
              "  {'polynomial_features__degree': 2,\n",
              "   'ridge_regression__alpha': 16.018444464895637},\n",
              "  {'polynomial_features__degree': 2,\n",
              "   'ridge_regression__alpha': 16.932565093713098},\n",
              "  {'polynomial_features__degree': 2,\n",
              "   'ridge_regression__alpha': 17.898851619528912},\n",
              "  {'polynomial_features__degree': 2,\n",
              "   'ridge_regression__alpha': 18.920280980751272},\n",
              "  {'polynomial_features__degree': 2,\n",
              "   'ridge_regression__alpha': 20.000000000000004},\n",
              "  {'polynomial_features__degree': 3, 'ridge_regression__alpha': 4.0},\n",
              "  {'polynomial_features__degree': 3,\n",
              "   'ridge_regression__alpha': 4.228267015769416},\n",
              "  {'polynomial_features__degree': 3,\n",
              "   'ridge_regression__alpha': 4.4695604891609},\n",
              "  {'polynomial_features__degree': 3,\n",
              "   'ridge_regression__alpha': 4.724623797826311},\n",
              "  {'polynomial_features__degree': 3,\n",
              "   'ridge_regression__alpha': 4.994242741567055},\n",
              "  {'polynomial_features__degree': 3,\n",
              "   'ridge_regression__alpha': 5.279247963228449},\n",
              "  {'polynomial_features__degree': 3,\n",
              "   'ridge_regression__alpha': 5.58051750774668},\n",
              "  {'polynomial_features__degree': 3,\n",
              "   'ridge_regression__alpha': 5.898979527232258},\n",
              "  {'polynomial_features__degree': 3,\n",
              "   'ridge_regression__alpha': 6.235615140423803},\n",
              "  {'polynomial_features__degree': 3,\n",
              "   'ridge_regression__alpha': 6.591461455321584},\n",
              "  {'polynomial_features__degree': 3,\n",
              "   'ridge_regression__alpha': 6.9676147643129305},\n",
              "  {'polynomial_features__degree': 3,\n",
              "   'ridge_regression__alpha': 7.365233921633089},\n",
              "  {'polynomial_features__degree': 3,\n",
              "   'ridge_regression__alpha': 7.785543913566802},\n",
              "  {'polynomial_features__degree': 3,\n",
              "   'ridge_regression__alpha': 8.229839632389709},\n",
              "  {'polynomial_features__degree': 3,\n",
              "   'ridge_regression__alpha': 8.699489865676323},\n",
              "  {'polynomial_features__degree': 3,\n",
              "   'ridge_regression__alpha': 9.195941513264877},\n",
              "  {'polynomial_features__degree': 3,\n",
              "   'ridge_regression__alpha': 9.720724044870641},\n",
              "  {'polynomial_features__degree': 3,\n",
              "   'ridge_regression__alpha': 10.275454212080797},\n",
              "  {'polynomial_features__degree': 3,\n",
              "   'ridge_regression__alpha': 10.861841029247536},\n",
              "  {'polynomial_features__degree': 3,\n",
              "   'ridge_regression__alpha': 11.481691038624568},\n",
              "  {'polynomial_features__degree': 3,\n",
              "   'ridge_regression__alpha': 12.136913875967887},\n",
              "  {'polynomial_features__degree': 3,\n",
              "   'ridge_regression__alpha': 12.82952815374728},\n",
              "  {'polynomial_features__degree': 3,\n",
              "   'ridge_regression__alpha': 13.561667680093686},\n",
              "  {'polynomial_features__degree': 3,\n",
              "   'ridge_regression__alpha': 14.335588032641558},\n",
              "  {'polynomial_features__degree': 3,\n",
              "   'ridge_regression__alpha': 15.153673507519274},\n",
              "  {'polynomial_features__degree': 3,\n",
              "   'ridge_regression__alpha': 16.018444464895637},\n",
              "  {'polynomial_features__degree': 3,\n",
              "   'ridge_regression__alpha': 16.932565093713098},\n",
              "  {'polynomial_features__degree': 3,\n",
              "   'ridge_regression__alpha': 17.898851619528912},\n",
              "  {'polynomial_features__degree': 3,\n",
              "   'ridge_regression__alpha': 18.920280980751272},\n",
              "  {'polynomial_features__degree': 3,\n",
              "   'ridge_regression__alpha': 20.000000000000004}],\n",
              " 'rank_test_score': array([11,  9,  8,  6,  4,  2,  1,  3,  5,  7, 10, 12, 13, 14, 15, 16, 17,\n",
              "        18, 19, 20, 21, 22, 23, 24, 25, 26, 27, 28, 29, 30, 60, 59, 58, 57,\n",
              "        56, 55, 54, 53, 52, 51, 50, 49, 48, 47, 46, 45, 44, 43, 42, 41, 40,\n",
              "        39, 38, 37, 36, 35, 34, 33, 32, 31, 90, 89, 88, 87, 86, 85, 84, 83,\n",
              "        82, 81, 80, 79, 78, 77, 76, 75, 74, 73, 72, 71, 70, 69, 68, 67, 66,\n",
              "        65, 64, 63, 62, 61], dtype=int32),\n",
              " 'split0_test_score': array([ 7.54663676e-01,  7.54751830e-01,  7.54656162e-01,  7.54360631e-01,\n",
              "         7.53848950e-01,  7.53104688e-01,  7.52111385e-01,  7.50852667e-01,\n",
              "         7.49312383e-01,  7.47474737e-01,  7.45324428e-01,  7.42846804e-01,\n",
              "         7.40028004e-01,  7.36855113e-01,  7.33316307e-01,  7.29400998e-01,\n",
              "         7.25099969e-01,  7.20405507e-01,  7.15311518e-01,  7.09813627e-01,\n",
              "         7.03909270e-01,  6.97597762e-01,  6.90880343e-01,  6.83760212e-01,\n",
              "         6.76242527e-01,  6.68334391e-01,  6.60044812e-01,  6.51384642e-01,\n",
              "         6.42366491e-01,  6.33004623e-01, -1.48935069e-01, -1.25975510e-01,\n",
              "        -1.03549304e-01, -8.16994079e-02, -6.04639475e-02, -3.98759897e-02,\n",
              "        -1.99633823e-02, -7.48673313e-04,  1.77508949e-02,  3.55233176e-02,\n",
              "         5.25616890e-02,  6.88639991e-02,  8.44328711e-02,  9.92752461e-02,\n",
              "         1.13402025e-01,  1.26827676e-01,  1.39569808e-01,  1.51648737e-01,\n",
              "         1.63087036e-01,  1.73909080e-01,  1.84140604e-01,  1.93808271e-01,\n",
              "         2.02939254e-01,  2.11560849e-01,  2.19700109e-01,  2.27383515e-01,\n",
              "         2.34636678e-01,  2.41484073e-01,  2.47948819e-01,  2.54052485e-01,\n",
              "        -7.56124412e+00, -7.49313935e+00, -7.42628717e+00, -7.36022209e+00,\n",
              "        -7.29448252e+00, -7.22861447e+00, -7.16217526e+00, -7.09473717e+00,\n",
              "        -7.02589106e+00, -6.95524982e+00, -6.88245164e+00, -6.80716296e+00,\n",
              "        -6.72908119e+00, -6.64793701e+00, -6.56349631e+00, -6.47556172e+00,\n",
              "        -6.38397368e+00, -6.28861114e+00, -6.18939175e+00, -6.08627169e+00,\n",
              "        -5.97924503e+00, -5.86834283e+00, -5.75363171e+00, -5.63521232e+00,\n",
              "        -5.51321735e+00, -5.38780942e+00, -5.25917870e+00, -5.12754044e+00,\n",
              "        -4.99313231e+00, -4.85621171e+00]),\n",
              " 'split1_test_score': array([0.50635708, 0.5044709 , 0.50248721, 0.50040166, 0.49820982,\n",
              "        0.49590716, 0.49348905, 0.49095082, 0.48828772, 0.48549498,\n",
              "        0.4825678 , 0.47950142, 0.47629107, 0.47293207, 0.46941984,\n",
              "        0.46574991, 0.46191798, 0.45791996, 0.45375201, 0.44941057,\n",
              "        0.44489242, 0.44019473, 0.4353151 , 0.43025162, 0.4250029 ,\n",
              "        0.41956815, 0.41394719, 0.40814052, 0.40214935, 0.39597566,\n",
              "        0.48835026, 0.48462718, 0.48081763, 0.47692323, 0.47294573,\n",
              "        0.46888694, 0.46474877, 0.46053318, 0.45624211, 0.45187753,\n",
              "        0.44744139, 0.44293555, 0.43836185, 0.43372199, 0.4290176 ,\n",
              "        0.42425017, 0.41942106, 0.41453149, 0.40958251, 0.40457505,\n",
              "        0.39950988, 0.39438763, 0.38920879, 0.38397375, 0.37868278,\n",
              "        0.37333608, 0.36793379, 0.362476  , 0.35696282, 0.35139436,\n",
              "        0.55448748, 0.5500396 , 0.54552957, 0.54096191, 0.53634149,\n",
              "        0.53167343, 0.52696308, 0.52221601, 0.5174379 , 0.51263455,\n",
              "        0.5078118 , 0.50297547, 0.49813135, 0.49328512, 0.48844231,\n",
              "        0.48360829, 0.47878819, 0.4739869 , 0.46920903, 0.46445888,\n",
              "        0.45974042, 0.4550573 , 0.45041282, 0.4458099 , 0.44125113,\n",
              "        0.43673874, 0.4322746 , 0.42786024, 0.42349686, 0.41918532]),\n",
              " 'split2_test_score': array([0.64483969, 0.64821321, 0.65163216, 0.65508726, 0.65856804,\n",
              "        0.66206276, 0.66555841, 0.66904061, 0.67249363, 0.67590031,\n",
              "        0.67924208, 0.68249895, 0.68564952, 0.68867103, 0.6915394 ,\n",
              "        0.69422931, 0.69671428, 0.69896682, 0.70095854, 0.70266035,\n",
              "        0.70404261, 0.70507539, 0.70572869, 0.70597268, 0.705778  ,\n",
              "        0.70511605, 0.70395929, 0.70228153, 0.70005827, 0.69726703,\n",
              "        0.71257133, 0.71904416, 0.72518596, 0.73100153, 0.73649739,\n",
              "        0.74168162, 0.7465636 , 0.75115386, 0.75546381, 0.75950544,\n",
              "        0.76329106, 0.76683303, 0.77014337, 0.77323354, 0.77611408,\n",
              "        0.77879434, 0.78128219, 0.78358376, 0.78570326, 0.78764272,\n",
              "        0.78940187, 0.79097802, 0.79236599, 0.79355808, 0.79454408,\n",
              "        0.79531136, 0.79584498, 0.79612781, 0.7961408 , 0.79586317,\n",
              "        0.58403508, 0.61033501, 0.63177429, 0.64867982, 0.66137979,\n",
              "        0.67020131, 0.67546832, 0.67749976, 0.676608  , 0.67309746,\n",
              "        0.66726351, 0.65939154, 0.64975621, 0.63862091, 0.6262373 ,\n",
              "        0.61284502, 0.59867145, 0.58393162, 0.5688281 , 0.55355101,\n",
              "        0.53827798, 0.52317424, 0.50839261, 0.49407357, 0.48034532,\n",
              "        0.46732382, 0.45511288, 0.4438042 , 0.43347748, 0.42420053]),\n",
              " 'std_fit_time': array([7.84604460e-04, 5.22599748e-04, 1.40568900e-03, 6.68463689e-04,\n",
              "        3.96084138e-04, 3.86435912e-05, 4.32281222e-05, 8.08622972e-05,\n",
              "        5.03159238e-05, 4.38443923e-05, 1.18475097e-03, 1.01968346e-03,\n",
              "        4.50950884e-05, 1.67630398e-04, 1.68396220e-05, 4.41086543e-05,\n",
              "        4.60480590e-05, 1.63362644e-05, 5.00237305e-06, 6.36468954e-05,\n",
              "        2.81309227e-05, 5.38804889e-05, 1.14302916e-04, 3.67188505e-04,\n",
              "        1.27148777e-04, 5.07110333e-05, 1.18073189e-04, 4.82247704e-05,\n",
              "        7.78051879e-05, 6.34988646e-05, 8.28618809e-05, 6.63423706e-05,\n",
              "        4.90857992e-05, 5.15414429e-05, 3.86328026e-05, 1.72545810e-05,\n",
              "        8.98795678e-04, 8.86923523e-05, 6.03663203e-05, 1.27357235e-04,\n",
              "        4.03490526e-05, 7.25159253e-05, 8.12568698e-06, 4.73144592e-05,\n",
              "        3.25159590e-06, 4.11557400e-05, 2.32384404e-05, 5.76798883e-05,\n",
              "        2.56646892e-05, 4.42076310e-05, 7.48925345e-05, 9.50157782e-06,\n",
              "        7.48013991e-05, 9.62637137e-05, 1.03808229e-03, 8.56990541e-04,\n",
              "        8.06104777e-05, 1.22982755e-04, 1.89566911e-04, 2.07364779e-05,\n",
              "        4.82775638e-04, 1.71047455e-04, 5.71363988e-05, 4.33438201e-04,\n",
              "        2.81410243e-05, 5.28349857e-04, 6.44518846e-04, 2.88286087e-05,\n",
              "        9.07236910e-05, 4.09696274e-05, 6.40066932e-05, 4.44531141e-05,\n",
              "        4.39795941e-05, 4.22085438e-05, 3.74311264e-05, 2.14161294e-05,\n",
              "        4.32497407e-05, 6.03019405e-05, 2.94791823e-05, 8.43269584e-05,\n",
              "        9.29203255e-05, 2.28718969e-05, 8.32761054e-05, 9.99420426e-05,\n",
              "        1.61139920e-05, 2.54948141e-05, 1.16220736e-04, 2.30254779e-04,\n",
              "        3.83881061e-05, 4.10589436e-05]),\n",
              " 'std_score_time': array([2.44153534e-04, 1.02919532e-04, 1.86157536e-04, 5.24347498e-04,\n",
              "        9.53740541e-06, 3.94494502e-05, 5.16344900e-05, 6.02447262e-05,\n",
              "        5.25756066e-05, 3.55592872e-05, 1.41518758e-03, 1.77083045e-04,\n",
              "        6.29004465e-05, 3.03688249e-05, 3.23549229e-05, 4.14095545e-05,\n",
              "        2.98784132e-05, 5.68207049e-05, 5.88635896e-06, 9.10540500e-05,\n",
              "        4.64976679e-05, 1.22723183e-05, 3.16832687e-05, 4.84724510e-05,\n",
              "        1.84371245e-04, 1.94760043e-04, 1.73640469e-05, 3.73797958e-05,\n",
              "        4.15616463e-05, 8.43161723e-06, 5.54008491e-05, 3.82235540e-05,\n",
              "        2.73315010e-05, 8.02362652e-05, 5.48432986e-05, 4.31058036e-05,\n",
              "        4.07085107e-04, 1.89226498e-04, 1.70357634e-05, 4.96202214e-05,\n",
              "        3.40509441e-05, 1.19988807e-04, 4.98973120e-05, 8.14801865e-05,\n",
              "        2.17134048e-05, 4.75668800e-05, 3.15736380e-05, 5.67113337e-05,\n",
              "        8.34167518e-05, 4.74967204e-05, 2.70933691e-05, 5.62726214e-05,\n",
              "        1.33588511e-04, 3.51030821e-05, 5.60011899e-04, 6.47884385e-04,\n",
              "        2.96715942e-05, 1.66617613e-04, 4.32216930e-05, 5.18746574e-05,\n",
              "        6.85610845e-05, 2.09612586e-05, 3.10508101e-05, 5.16728842e-05,\n",
              "        5.48025156e-05, 2.43643517e-04, 2.78499322e-04, 1.44159474e-05,\n",
              "        3.97448531e-05, 2.19641476e-05, 1.21378397e-04, 2.76190771e-05,\n",
              "        6.23035795e-05, 3.38461091e-05, 9.12450880e-06, 4.69276301e-05,\n",
              "        6.51580524e-06, 7.96191935e-05, 4.21150672e-05, 2.85653805e-05,\n",
              "        4.86774996e-05, 1.82721914e-05, 4.95426439e-05, 2.41751684e-05,\n",
              "        1.43174719e-05, 3.43666596e-05, 5.35602266e-06, 9.95943655e-05,\n",
              "        4.51135722e-05, 2.40297333e-05]),\n",
              " 'std_test_score': array([0.10159555, 0.10255236, 0.10351991, 0.10449774, 0.10548542,\n",
              "        0.10648259, 0.10748891, 0.10850405, 0.10952768, 0.11055943,\n",
              "        0.11159883, 0.11264529, 0.11369802, 0.11475596, 0.11581775,\n",
              "        0.1168816 , 0.11794528, 0.11900601, 0.12006038, 0.12110435,\n",
              "        0.12213316, 0.12314129, 0.12412251, 0.1250698 , 0.12597546,\n",
              "        0.12683109, 0.12762773, 0.1283559 , 0.12900574, 0.12956717,\n",
              "        0.36493545, 0.35619053, 0.34769123, 0.33946   , 0.33151718,\n",
              "        0.3238808 , 0.31656649, 0.30958732, 0.3029537 , 0.29667338,\n",
              "        0.29075137, 0.28518997, 0.27998881, 0.27514491, 0.2706528 ,\n",
              "        0.26650458, 0.26269014, 0.25919722, 0.25601168, 0.25311758,\n",
              "        0.25049748, 0.24813252, 0.2460027 , 0.24408703, 0.24236375,\n",
              "        0.24081051, 0.23940455, 0.23812289, 0.23694252, 0.23584052,\n",
              "        3.83277599, 3.80588229, 3.77844258, 3.75030105, 3.72130778,\n",
              "        3.69131938, 3.66019974, 3.62782083, 3.5940636 , 3.5588189 ,\n",
              "        3.52198835, 3.48348526, 3.44323544, 3.40117794, 3.35726567,\n",
              "        3.31146593, 3.26376071, 3.21414692, 3.16263645, 3.10925596,\n",
              "        3.05404664, 2.99706374, 2.93837595, 2.87806467, 2.81622318,\n",
              "        2.75295562, 2.68837602, 2.6226071 , 2.55577918, 2.48802895])}"
            ]
          },
          "metadata": {
            "tags": []
          },
          "execution_count": 54
        }
      ]
    },
    {
      "cell_type": "code",
      "metadata": {
        "colab": {
          "base_uri": "https://localhost:8080/",
          "height": 609
        },
        "id": "nDr60vkR5WpJ",
        "outputId": "aeb2404b-bca6-4b04-97b6-94449679c762"
      },
      "source": [
        "pd.DataFrame(grid.cv_results_)"
      ],
      "execution_count": 55,
      "outputs": [
        {
          "output_type": "execute_result",
          "data": {
            "text/html": [
              "<div>\n",
              "<style scoped>\n",
              "    .dataframe tbody tr th:only-of-type {\n",
              "        vertical-align: middle;\n",
              "    }\n",
              "\n",
              "    .dataframe tbody tr th {\n",
              "        vertical-align: top;\n",
              "    }\n",
              "\n",
              "    .dataframe thead th {\n",
              "        text-align: right;\n",
              "    }\n",
              "</style>\n",
              "<table border=\"1\" class=\"dataframe\">\n",
              "  <thead>\n",
              "    <tr style=\"text-align: right;\">\n",
              "      <th></th>\n",
              "      <th>mean_fit_time</th>\n",
              "      <th>std_fit_time</th>\n",
              "      <th>mean_score_time</th>\n",
              "      <th>std_score_time</th>\n",
              "      <th>param_polynomial_features__degree</th>\n",
              "      <th>param_ridge_regression__alpha</th>\n",
              "      <th>params</th>\n",
              "      <th>split0_test_score</th>\n",
              "      <th>split1_test_score</th>\n",
              "      <th>split2_test_score</th>\n",
              "      <th>mean_test_score</th>\n",
              "      <th>std_test_score</th>\n",
              "      <th>rank_test_score</th>\n",
              "    </tr>\n",
              "  </thead>\n",
              "  <tbody>\n",
              "    <tr>\n",
              "      <th>0</th>\n",
              "      <td>0.003860</td>\n",
              "      <td>0.000785</td>\n",
              "      <td>0.001917</td>\n",
              "      <td>0.000244</td>\n",
              "      <td>1</td>\n",
              "      <td>4</td>\n",
              "      <td>{'polynomial_features__degree': 1, 'ridge_regr...</td>\n",
              "      <td>0.754664</td>\n",
              "      <td>0.506357</td>\n",
              "      <td>0.644840</td>\n",
              "      <td>0.635287</td>\n",
              "      <td>0.101596</td>\n",
              "      <td>11</td>\n",
              "    </tr>\n",
              "    <tr>\n",
              "      <th>1</th>\n",
              "      <td>0.003301</td>\n",
              "      <td>0.000523</td>\n",
              "      <td>0.001336</td>\n",
              "      <td>0.000103</td>\n",
              "      <td>1</td>\n",
              "      <td>4.22827</td>\n",
              "      <td>{'polynomial_features__degree': 1, 'ridge_regr...</td>\n",
              "      <td>0.754752</td>\n",
              "      <td>0.504471</td>\n",
              "      <td>0.648213</td>\n",
              "      <td>0.635812</td>\n",
              "      <td>0.102552</td>\n",
              "      <td>9</td>\n",
              "    </tr>\n",
              "    <tr>\n",
              "      <th>2</th>\n",
              "      <td>0.004267</td>\n",
              "      <td>0.001406</td>\n",
              "      <td>0.001543</td>\n",
              "      <td>0.000186</td>\n",
              "      <td>1</td>\n",
              "      <td>4.46956</td>\n",
              "      <td>{'polynomial_features__degree': 1, 'ridge_regr...</td>\n",
              "      <td>0.754656</td>\n",
              "      <td>0.502487</td>\n",
              "      <td>0.651632</td>\n",
              "      <td>0.636259</td>\n",
              "      <td>0.103520</td>\n",
              "      <td>8</td>\n",
              "    </tr>\n",
              "    <tr>\n",
              "      <th>3</th>\n",
              "      <td>0.003278</td>\n",
              "      <td>0.000668</td>\n",
              "      <td>0.001951</td>\n",
              "      <td>0.000524</td>\n",
              "      <td>1</td>\n",
              "      <td>4.72462</td>\n",
              "      <td>{'polynomial_features__degree': 1, 'ridge_regr...</td>\n",
              "      <td>0.754361</td>\n",
              "      <td>0.500402</td>\n",
              "      <td>0.655087</td>\n",
              "      <td>0.636617</td>\n",
              "      <td>0.104498</td>\n",
              "      <td>6</td>\n",
              "    </tr>\n",
              "    <tr>\n",
              "      <th>4</th>\n",
              "      <td>0.003138</td>\n",
              "      <td>0.000396</td>\n",
              "      <td>0.001283</td>\n",
              "      <td>0.000010</td>\n",
              "      <td>1</td>\n",
              "      <td>4.99424</td>\n",
              "      <td>{'polynomial_features__degree': 1, 'ridge_regr...</td>\n",
              "      <td>0.753849</td>\n",
              "      <td>0.498210</td>\n",
              "      <td>0.658568</td>\n",
              "      <td>0.636876</td>\n",
              "      <td>0.105485</td>\n",
              "      <td>4</td>\n",
              "    </tr>\n",
              "    <tr>\n",
              "      <th>...</th>\n",
              "      <td>...</td>\n",
              "      <td>...</td>\n",
              "      <td>...</td>\n",
              "      <td>...</td>\n",
              "      <td>...</td>\n",
              "      <td>...</td>\n",
              "      <td>...</td>\n",
              "      <td>...</td>\n",
              "      <td>...</td>\n",
              "      <td>...</td>\n",
              "      <td>...</td>\n",
              "      <td>...</td>\n",
              "      <td>...</td>\n",
              "    </tr>\n",
              "    <tr>\n",
              "      <th>85</th>\n",
              "      <td>0.002838</td>\n",
              "      <td>0.000025</td>\n",
              "      <td>0.001460</td>\n",
              "      <td>0.000034</td>\n",
              "      <td>3</td>\n",
              "      <td>16.0184</td>\n",
              "      <td>{'polynomial_features__degree': 3, 'ridge_regr...</td>\n",
              "      <td>-5.387809</td>\n",
              "      <td>0.436739</td>\n",
              "      <td>0.467324</td>\n",
              "      <td>-1.494582</td>\n",
              "      <td>2.752956</td>\n",
              "      <td>65</td>\n",
              "    </tr>\n",
              "    <tr>\n",
              "      <th>86</th>\n",
              "      <td>0.002868</td>\n",
              "      <td>0.000116</td>\n",
              "      <td>0.001420</td>\n",
              "      <td>0.000005</td>\n",
              "      <td>3</td>\n",
              "      <td>16.9326</td>\n",
              "      <td>{'polynomial_features__degree': 3, 'ridge_regr...</td>\n",
              "      <td>-5.259179</td>\n",
              "      <td>0.432275</td>\n",
              "      <td>0.455113</td>\n",
              "      <td>-1.457264</td>\n",
              "      <td>2.688376</td>\n",
              "      <td>64</td>\n",
              "    </tr>\n",
              "    <tr>\n",
              "      <th>87</th>\n",
              "      <td>0.002968</td>\n",
              "      <td>0.000230</td>\n",
              "      <td>0.001496</td>\n",
              "      <td>0.000100</td>\n",
              "      <td>3</td>\n",
              "      <td>17.8989</td>\n",
              "      <td>{'polynomial_features__degree': 3, 'ridge_regr...</td>\n",
              "      <td>-5.127540</td>\n",
              "      <td>0.427860</td>\n",
              "      <td>0.443804</td>\n",
              "      <td>-1.418625</td>\n",
              "      <td>2.622607</td>\n",
              "      <td>63</td>\n",
              "    </tr>\n",
              "    <tr>\n",
              "      <th>88</th>\n",
              "      <td>0.002745</td>\n",
              "      <td>0.000038</td>\n",
              "      <td>0.001496</td>\n",
              "      <td>0.000045</td>\n",
              "      <td>3</td>\n",
              "      <td>18.9203</td>\n",
              "      <td>{'polynomial_features__degree': 3, 'ridge_regr...</td>\n",
              "      <td>-4.993132</td>\n",
              "      <td>0.423497</td>\n",
              "      <td>0.433477</td>\n",
              "      <td>-1.378719</td>\n",
              "      <td>2.555779</td>\n",
              "      <td>62</td>\n",
              "    </tr>\n",
              "    <tr>\n",
              "      <th>89</th>\n",
              "      <td>0.002775</td>\n",
              "      <td>0.000041</td>\n",
              "      <td>0.001476</td>\n",
              "      <td>0.000024</td>\n",
              "      <td>3</td>\n",
              "      <td>20</td>\n",
              "      <td>{'polynomial_features__degree': 3, 'ridge_regr...</td>\n",
              "      <td>-4.856212</td>\n",
              "      <td>0.419185</td>\n",
              "      <td>0.424201</td>\n",
              "      <td>-1.337609</td>\n",
              "      <td>2.488029</td>\n",
              "      <td>61</td>\n",
              "    </tr>\n",
              "  </tbody>\n",
              "</table>\n",
              "<p>90 rows × 13 columns</p>\n",
              "</div>"
            ],
            "text/plain": [
              "    mean_fit_time  std_fit_time  ...  std_test_score  rank_test_score\n",
              "0        0.003860      0.000785  ...        0.101596               11\n",
              "1        0.003301      0.000523  ...        0.102552                9\n",
              "2        0.004267      0.001406  ...        0.103520                8\n",
              "3        0.003278      0.000668  ...        0.104498                6\n",
              "4        0.003138      0.000396  ...        0.105485                4\n",
              "..            ...           ...  ...             ...              ...\n",
              "85       0.002838      0.000025  ...        2.752956               65\n",
              "86       0.002868      0.000116  ...        2.688376               64\n",
              "87       0.002968      0.000230  ...        2.622607               63\n",
              "88       0.002745      0.000038  ...        2.555779               62\n",
              "89       0.002775      0.000041  ...        2.488029               61\n",
              "\n",
              "[90 rows x 13 columns]"
            ]
          },
          "metadata": {
            "tags": []
          },
          "execution_count": 55
        }
      ]
    },
    {
      "cell_type": "markdown",
      "metadata": {
        "id": "wXVRGAxO3I9D"
      },
      "source": [
        "### Lasso with and without scaling\r\n",
        "We discussed Lasso in lecture.\r\n",
        "\r\n",
        "Let's review together:\r\n",
        "\r\n",
        "What is different about Lasso vs. regular Linear Regression?\r\n",
        "Is standardization more or less important with Lasso vs. Linear Regression? Why?"
      ]
    },
    {
      "cell_type": "code",
      "metadata": {
        "id": "7SYnIEfvfbd7"
      },
      "source": [
        "from sklearn.linear_model import Lasso\r\n",
        "from sklearn.preprocessing import PolynomialFeatures"
      ],
      "execution_count": 56,
      "outputs": []
    },
    {
      "cell_type": "markdown",
      "metadata": {
        "id": "zYkF04dB3Rm5"
      },
      "source": [
        "## Create polynomial features\r\n",
        "PolynomialFeatures"
      ]
    },
    {
      "cell_type": "code",
      "metadata": {
        "id": "yR_JmuMQfbhz"
      },
      "source": [
        "pf = PolynomialFeatures(degree=2, include_bias=False,)\r\n",
        "X_pf = pf.fit_transform(X)"
      ],
      "execution_count": 57,
      "outputs": []
    },
    {
      "cell_type": "markdown",
      "metadata": {
        "id": "vk6SPLxe3aJS"
      },
      "source": [
        "**Note:** We use include_bias=False since Lasso includes a bias by default."
      ]
    },
    {
      "cell_type": "code",
      "metadata": {
        "id": "QPS0s2KS3YNo"
      },
      "source": [
        "X_pf_ss = s.fit_transform(X_pf)"
      ],
      "execution_count": 58,
      "outputs": []
    },
    {
      "cell_type": "markdown",
      "metadata": {
        "id": "GxdhEC9j3m70"
      },
      "source": [
        "## Lasso\r\n",
        "Lasso documentation"
      ]
    },
    {
      "cell_type": "code",
      "metadata": {
        "colab": {
          "base_uri": "https://localhost:8080/"
        },
        "id": "E2jBmQAi3YQ1",
        "outputId": "0d3c0105-5dff-44d8-af5d-a57ad476f649"
      },
      "source": [
        "las = Lasso()\r\n",
        "las.fit(X_pf_ss, y)\r\n",
        "las.coef_ "
      ],
      "execution_count": 59,
      "outputs": [
        {
          "output_type": "execute_result",
          "data": {
            "text/plain": [
              "array([  0.        , -17.64314015,  -0.        ,   0.        ,\n",
              "         4.92812486,  -0.        ,   0.        , -41.20456677,\n",
              "       -20.74293952,  -0.        ,   0.        ,  -3.29161187,\n",
              "        -5.63225979, 103.18561845])"
            ]
          },
          "metadata": {
            "tags": []
          },
          "execution_count": 59
        }
      ]
    },
    {
      "cell_type": "markdown",
      "metadata": {
        "id": "TcrH0s6830cx"
      },
      "source": [
        "## Exercise\r\n",
        "Compare\r\n",
        "\r\n",
        "* Sum of magnitudes of the coefficients\r\n",
        "* Number of coefficients that are zero\r\n",
        "for Lasso with alpha 0.1 vs. 1.\r\n",
        "\r\n",
        "Before doing the exercise, answer the following questions in one sentence each:\r\n",
        "\r\n",
        "* Which do you expect to have greater magnitude?\r\n",
        "* Which do you expect to have more zeros?"
      ]
    },
    {
      "cell_type": "code",
      "metadata": {
        "colab": {
          "base_uri": "https://localhost:8080/"
        },
        "id": "Ckh6Upsn3YT5",
        "outputId": "726f2f7e-1110-4fdb-ae0c-eeb951001bf3"
      },
      "source": [
        "las01 = Lasso(alpha = 0.1)\r\n",
        "las01.fit(X_pf_ss, y)\r\n",
        "print('sum of coefficients:', abs(las01.coef_).sum() )\r\n",
        "print('number of coefficients not equal to 0:', (las01.coef_!=0).sum())"
      ],
      "execution_count": 60,
      "outputs": [
        {
          "output_type": "stream",
          "text": [
            "sum of coefficients: 1680.296532559976\n",
            "number of coefficients not equal to 0: 14\n"
          ],
          "name": "stdout"
        },
        {
          "output_type": "stream",
          "text": [
            "/usr/local/lib/python3.6/dist-packages/sklearn/linear_model/_coordinate_descent.py:476: ConvergenceWarning: Objective did not converge. You might want to increase the number of iterations. Duality gap: 10014.054421865992, tolerance: 58.836647916666664\n",
            "  positive)\n"
          ],
          "name": "stderr"
        }
      ]
    },
    {
      "cell_type": "code",
      "metadata": {
        "colab": {
          "base_uri": "https://localhost:8080/"
        },
        "id": "gdp6JzOT3YXK",
        "outputId": "028285a5-13a7-40d6-d255-e4040917beab"
      },
      "source": [
        "las1 = Lasso(alpha = 1)\r\n",
        "las1.fit(X_pf_ss, y)\r\n",
        "print('sum of coefficients:',abs(las1.coef_).sum() )\r\n",
        "print('number of coefficients not equal to 0:',(las1.coef_!=0).sum())"
      ],
      "execution_count": 61,
      "outputs": [
        {
          "output_type": "stream",
          "text": [
            "sum of coefficients: 196.62826141518\n",
            "number of coefficients not equal to 0: 7\n"
          ],
          "name": "stdout"
        }
      ]
    },
    {
      "cell_type": "markdown",
      "metadata": {
        "id": "7det6xzc4Tfe"
      },
      "source": [
        "With more regularization (higher alpha) we will expect the penalty for higher weights to be greater and thus the coefficients to be pushed down. Thus a higher alpha means lower magnitude with more coefficients pushed down to 0.\r\n",
        "\r\n",
        "## Exercise:  𝑅2 \r\n",
        "Calculate the  𝑅2  of each model without train/test split.\r\n",
        "\r\n",
        "Recall that we import  𝑅2  using:\r\n",
        "\r\n",
        "from sklearn.metrics import r2_score"
      ]
    },
    {
      "cell_type": "code",
      "metadata": {
        "colab": {
          "base_uri": "https://localhost:8080/"
        },
        "id": "skx0mIZS3Yae",
        "outputId": "7b58f951-38e9-490a-bba6-886d7f82360f"
      },
      "source": [
        "from sklearn.metrics import r2_score\r\n",
        "r2_score(y,las.predict(X_pf_ss))"
      ],
      "execution_count": 62,
      "outputs": [
        {
          "output_type": "execute_result",
          "data": {
            "text/plain": [
              "0.7093600182448968"
            ]
          },
          "metadata": {
            "tags": []
          },
          "execution_count": 62
        }
      ]
    },
    {
      "cell_type": "markdown",
      "metadata": {
        "id": "eM1UEGA44vuF"
      },
      "source": [
        "#### Discuss:\r\n",
        "Will regularization ever increase model performance if we evaluate on the same dataset that we trained on?\r\n",
        "\r\n",
        "## With train/test split\r\n",
        "Discuss\r\n",
        "Are there any issues with what we've done so far?\r\n",
        "\r\n",
        "Hint: Think about the way we have done feature scaling.\r\n",
        "\r\n",
        "Discuss in groups of two or three."
      ]
    },
    {
      "cell_type": "code",
      "metadata": {
        "id": "prA4Oq9Z3Yf0"
      },
      "source": [
        "from sklearn.model_selection import train_test_split"
      ],
      "execution_count": 63,
      "outputs": []
    },
    {
      "cell_type": "code",
      "metadata": {
        "id": "4m2mkK2X3Yks"
      },
      "source": [
        "X_train, X_test, y_train, y_test = train_test_split(X_pf, y, test_size=0.3, \r\n",
        "                                                    random_state=72018)"
      ],
      "execution_count": 64,
      "outputs": []
    },
    {
      "cell_type": "code",
      "metadata": {
        "colab": {
          "base_uri": "https://localhost:8080/"
        },
        "id": "oIscfrZK3Yo7",
        "outputId": "d08529f2-eb6d-4f28-e797-949a7f388798"
      },
      "source": [
        "X_train_s = s.fit_transform(X_train)\r\n",
        "las.fit(X_train_s, y_train)\r\n",
        "X_test_s = s.transform(X_test)\r\n",
        "y_pred = las.predict(X_test_s)\r\n",
        "r2_score(y_pred, y_test)"
      ],
      "execution_count": 65,
      "outputs": [
        {
          "output_type": "execute_result",
          "data": {
            "text/plain": [
              "0.4609769497766186"
            ]
          },
          "metadata": {
            "tags": []
          },
          "execution_count": 65
        }
      ]
    },
    {
      "cell_type": "code",
      "metadata": {
        "colab": {
          "base_uri": "https://localhost:8080/"
        },
        "id": "XYttqQqy3Ys0",
        "outputId": "1c764a71-e4f3-465e-9cf5-af246ed4b596"
      },
      "source": [
        "X_train_s = s.fit_transform(X_train)\r\n",
        "las01.fit(X_train_s, y_train)\r\n",
        "X_test_s = s.transform(X_test)\r\n",
        "y_pred = las01.predict(X_test_s)\r\n",
        "r2_score(y_pred, y_test)"
      ],
      "execution_count": 67,
      "outputs": [
        {
          "output_type": "stream",
          "text": [
            "/usr/local/lib/python3.6/dist-packages/sklearn/linear_model/_coordinate_descent.py:476: ConvergenceWarning: Objective did not converge. You might want to increase the number of iterations. Duality gap: 14443.304354670407, tolerance: 37.11060606060606\n",
            "  positive)\n"
          ],
          "name": "stderr"
        },
        {
          "output_type": "execute_result",
          "data": {
            "text/plain": [
              "0.19446723255352427"
            ]
          },
          "metadata": {
            "tags": []
          },
          "execution_count": 67
        }
      ]
    },
    {
      "cell_type": "markdown",
      "metadata": {
        "id": "djjU6xrE5l0H"
      },
      "source": [
        "### Exercise\r\n",
        "#### Part 1:\r\n",
        "Do the same thing with Lasso of:\r\n",
        "\r\n",
        "alpha of 0.001\r\n",
        "Increase max_iter to 100000 to ensure convergence.\r\n",
        "Calculate the  𝑅2  of the model.\r\n",
        "\r\n",
        "Feel free to copy-paste code from above, but write a one sentence comment above each line of code explaining why you're doing what you're doing.\r\n",
        "\r\n",
        "#### Part 2:\r\n",
        "Do the same procedure as before, but with Linear Regression.\r\n",
        "\r\n",
        "Calculate the  𝑅2  of this model.\r\n",
        "\r\n",
        "#### Part 3:\r\n",
        "Compare the sums of the absolute values of the coefficients for both models, as well as the number of coefficients that are zero. Based on these measures, which model is a \"simpler\" description of the relationship between the features and the target?"
      ]
    },
    {
      "cell_type": "code",
      "metadata": {
        "colab": {
          "base_uri": "https://localhost:8080/"
        },
        "id": "JG6ItUR44_vW",
        "outputId": "a61e1d48-2e98-4e15-bf74-5925f11191ee"
      },
      "source": [
        "# Part 1\r\n",
        "\r\n",
        "# Decreasing regularization and ensuring convergence\r\n",
        "las001 = Lasso(alpha = 0.001, max_iter=100000)\r\n",
        "\r\n",
        "# Transforming training set to get standardized units\r\n",
        "X_train_s = s.fit_transform(X_train)\r\n",
        "\r\n",
        "# Fitting model to training set\r\n",
        "las001.fit(X_train_s, y_train)\r\n",
        "\r\n",
        "# Transforming test set using the parameters defined from training set\r\n",
        "X_test_s = s.transform(X_test)\r\n",
        "\r\n",
        "# Finding prediction on test set\r\n",
        "y_pred = las001.predict(X_test_s)\r\n",
        "\r\n",
        "# Calculating r2 score\r\n",
        "print(\"r2 score for alpha = 0.001:\", r2_score(y_pred, y_test))\r\n",
        "\r\n",
        "\r\n",
        "# Part 2\r\n",
        "\r\n",
        "# Using vanilla Linear Regression\r\n",
        "lr = LinearRegression()\r\n",
        "\r\n",
        "# Fitting model to training set\r\n",
        "lr.fit(X_train_s, y_train)\r\n",
        "\r\n",
        "# predicting on test set\r\n",
        "y_pred_lr = lr.predict(X_test_s)\r\n",
        "\r\n",
        "# Calculating r2 score\r\n",
        "print(\"r2 score for Linear Regression:\", r2_score(y_pred_lr, y_test))\r\n",
        "\r\n",
        "\r\n",
        "# Part 3\r\n",
        "print('Magnitude of Lasso coefficients:', abs(las001.coef_).sum())\r\n",
        "print('Number of coeffients not equal to 0 for Lasso:', (las001.coef_!=0).sum())\r\n",
        "\r\n",
        "print('Magnitude of Linear Regression coefficients:', abs(lr.coef_).sum())\r\n",
        "print('Number of coeffients not equal to 0 for Linear Regression:', (lr.coef_!=0).sum())"
      ],
      "execution_count": 68,
      "outputs": [
        {
          "output_type": "stream",
          "text": [
            "r2 score for alpha = 0.001: -0.5002390690094176\n",
            "r2 score for Linear Regression: -0.5057452957820394\n",
            "Magnitude of Lasso coefficients: 2846.7631898942163\n",
            "Number of coeffients not equal to 0 for Lasso: 14\n",
            "Magnitude of Linear Regression coefficients: 2884.974684303446\n",
            "Number of coeffients not equal to 0 for Linear Regression: 14\n"
          ],
          "name": "stdout"
        }
      ]
    },
    {
      "cell_type": "markdown",
      "metadata": {
        "id": "4T8f0RVT5w4J"
      },
      "source": [
        "### L1 vs. L2 Regularization\r\n",
        "As mentioned in the deck: Lasso and Ridge regression have the same syntax in SciKit Learn.\r\n",
        "\r\n",
        "Now we're going to compare the results from Ridge vs. Lasso regression:\r\n",
        "\r\n",
        "Ridge"
      ]
    },
    {
      "cell_type": "code",
      "metadata": {
        "id": "56etnwv94_y0"
      },
      "source": [
        "from sklearn.linear_model import Ridge"
      ],
      "execution_count": 69,
      "outputs": []
    },
    {
      "cell_type": "markdown",
      "metadata": {
        "id": "Izdxmiyn58ti"
      },
      "source": [
        "### Exercise\r\n",
        "Following the Ridge documentation from above:\r\n",
        "\r\n",
        "1. Define a Ridge object r with the same alpha as las001.\r\n",
        "2. Fit that object on X and y and print out the resulting coefficients."
      ]
    },
    {
      "cell_type": "code",
      "metadata": {
        "colab": {
          "base_uri": "https://localhost:8080/"
        },
        "id": "FIEwUIRg4_3M",
        "outputId": "c17fe1fe-13d9-408b-8276-8afeefadc9d4"
      },
      "source": [
        "r = Ridge(alpha = 0.001)\r\n",
        "X_train_s = s.fit_transform(X_train)\r\n",
        "r.fit(X_train_s, y_train)\r\n",
        "X_test_s = s.transform(X_test)\r\n",
        "y_pred_r = r.predict(X_test_s)\r\n",
        "\r\n",
        "# Calculating r2 score\r\n",
        "r.coef_"
      ],
      "execution_count": 70,
      "outputs": [
        {
          "output_type": "execute_result",
          "data": {
            "text/plain": [
              "array([  -9.3679424 ,   18.03085649,  411.94093985, -171.04496261,\n",
              "         77.57747323,  135.97430869,  -18.40180212, -149.55365378,\n",
              "         60.56000832,  131.21960254, -343.63493358,  -30.72697267,\n",
              "       -504.17653575,  598.17096961])"
            ]
          },
          "metadata": {
            "tags": []
          },
          "execution_count": 70
        }
      ]
    },
    {
      "cell_type": "code",
      "metadata": {
        "colab": {
          "base_uri": "https://localhost:8080/"
        },
        "id": "DK8gu0np4_6H",
        "outputId": "a879dcd6-7d78-4050-e512-f46920e397e2"
      },
      "source": [
        "las001 # same alpha as Ridge above"
      ],
      "execution_count": 71,
      "outputs": [
        {
          "output_type": "execute_result",
          "data": {
            "text/plain": [
              "Lasso(alpha=0.001, copy_X=True, fit_intercept=True, max_iter=100000,\n",
              "      normalize=False, positive=False, precompute=False, random_state=None,\n",
              "      selection='cyclic', tol=0.0001, warm_start=False)"
            ]
          },
          "metadata": {
            "tags": []
          },
          "execution_count": 71
        }
      ]
    },
    {
      "cell_type": "code",
      "metadata": {
        "colab": {
          "base_uri": "https://localhost:8080/"
        },
        "id": "AaTu14g06JXA",
        "outputId": "e4558480-f80d-4e4a-9b14-a8f952af41b2"
      },
      "source": [
        "las001.coef_"
      ],
      "execution_count": 72,
      "outputs": [
        {
          "output_type": "execute_result",
          "data": {
            "text/plain": [
              "array([ -10.32198084,   42.89950165,  445.39851412, -206.09500118,\n",
              "         76.33743329,  122.61459552,  -30.64699829, -138.06071389,\n",
              "         69.25257543,  130.60571358, -377.16110261,  -31.92112376,\n",
              "       -522.90055619,  642.54737955])"
            ]
          },
          "metadata": {
            "tags": []
          },
          "execution_count": 72
        }
      ]
    },
    {
      "cell_type": "code",
      "metadata": {
        "colab": {
          "base_uri": "https://localhost:8080/"
        },
        "id": "FSNajUJd6JaW",
        "outputId": "55713929-6a63-4dea-c75f-f539541f7cd3"
      },
      "source": [
        "print(np.sum(np.abs(r.coef_)))\r\n",
        "print(np.sum(np.abs(las001.coef_)))\r\n",
        "\r\n",
        "print(np.sum(r.coef_ != 0))\r\n",
        "print(np.sum(las001.coef_ != 0))"
      ],
      "execution_count": 73,
      "outputs": [
        {
          "output_type": "stream",
          "text": [
            "2660.3809616393246\n",
            "2846.7631898942163\n",
            "14\n",
            "14\n"
          ],
          "name": "stdout"
        }
      ]
    },
    {
      "cell_type": "markdown",
      "metadata": {
        "id": "1lUXvKwL6VP7"
      },
      "source": [
        "**Conclusion**: Ridge does not make any coefficients 0. In addition, on this particular dataset, Lasso provides stronger overall regularization than Ridge for this value of alpha (not necessarily true in general)."
      ]
    },
    {
      "cell_type": "code",
      "metadata": {
        "colab": {
          "base_uri": "https://localhost:8080/"
        },
        "id": "2aXke4F76Je1",
        "outputId": "06b494c3-f690-46ad-9b56-c81eea54a8ff"
      },
      "source": [
        "y_pred = r.predict(X_pf_ss)\r\n",
        "print(r2_score(y, y_pred))\r\n",
        "\r\n",
        "y_pred = las001.predict(X_pf_ss)\r\n",
        "print(r2_score(y, y_pred))"
      ],
      "execution_count": 74,
      "outputs": [
        {
          "output_type": "stream",
          "text": [
            "-0.05669364636345975\n",
            "-0.11067691671508317\n"
          ],
          "name": "stdout"
        }
      ]
    },
    {
      "cell_type": "markdown",
      "metadata": {
        "id": "Ss73msM66mPM"
      },
      "source": [
        "# Example: Does it matter when you scale?"
      ]
    },
    {
      "cell_type": "code",
      "metadata": {
        "id": "r2sYxUtI6Jpj"
      },
      "source": [
        "from sklearn.preprocessing import StandardScaler"
      ],
      "execution_count": 76,
      "outputs": []
    },
    {
      "cell_type": "code",
      "metadata": {
        "id": "X6G4QXaN6JtF"
      },
      "source": [
        "s = StandardScaler()\r\n",
        "X_ss = s.fit_transform(X)"
      ],
      "execution_count": 77,
      "outputs": []
    },
    {
      "cell_type": "code",
      "metadata": {
        "colab": {
          "base_uri": "https://localhost:8080/"
        },
        "id": "SF-Ebrv86J0I",
        "outputId": "b726b7ee-1f84-45f8-85d9-eb0066852b13"
      },
      "source": [
        "lr2 = LinearRegression()\r\n",
        "lr2.fit(X_ss, y)\r\n",
        "print(lr2.coef_) # coefficients now \"on the same scale\""
      ],
      "execution_count": 78,
      "outputs": [
        {
          "output_type": "stream",
          "text": [
            "[-32.7310515  -37.79691223  -8.3813148   73.3569154 ]\n"
          ],
          "name": "stdout"
        }
      ]
    },
    {
      "cell_type": "code",
      "metadata": {
        "id": "yB0vIy5d6J4G"
      },
      "source": [
        "X_train, X_test, y_train, y_test = train_test_split(X_ss, y, test_size=0.3, \r\n",
        "                                                    random_state=72018)"
      ],
      "execution_count": 79,
      "outputs": []
    },
    {
      "cell_type": "code",
      "metadata": {
        "colab": {
          "base_uri": "https://localhost:8080/"
        },
        "id": "ls1QDuyr6J7i",
        "outputId": "ece743f8-3fe6-401c-e1d2-df92ac1020ce"
      },
      "source": [
        "lr = LinearRegression()\r\n",
        "lr.fit(X_train, y_train)\r\n",
        "y_pred = lr.predict(X_test)\r\n",
        "r2_score(y_pred, y_test)"
      ],
      "execution_count": 80,
      "outputs": [
        {
          "output_type": "execute_result",
          "data": {
            "text/plain": [
              "0.75392809099585"
            ]
          },
          "metadata": {
            "tags": []
          },
          "execution_count": 80
        }
      ]
    },
    {
      "cell_type": "code",
      "metadata": {
        "id": "S0SNvygs7PJM"
      },
      "source": [
        "X_train, X_test, y_train, y_test = train_test_split(X, y, test_size=0.3, \r\n",
        "                                                    random_state=72018)"
      ],
      "execution_count": 81,
      "outputs": []
    },
    {
      "cell_type": "code",
      "metadata": {
        "colab": {
          "base_uri": "https://localhost:8080/"
        },
        "id": "t5wpwVFn7PNj",
        "outputId": "fe7dc2f2-af59-4d70-c0df-bc43d902b9f7"
      },
      "source": [
        "s = StandardScaler()\r\n",
        "lr_s = LinearRegression()\r\n",
        "X_train_s = s.fit_transform(X_train)\r\n",
        "lr_s.fit(X_train_s, y_train)\r\n",
        "X_test_s = s.transform(X_test)\r\n",
        "y_pred_s = lr_s.predict(X_test_s)\r\n",
        "r2_score(y_pred_s, y_test)"
      ],
      "execution_count": 82,
      "outputs": [
        {
          "output_type": "execute_result",
          "data": {
            "text/plain": [
              "0.7539280909958498"
            ]
          },
          "metadata": {
            "tags": []
          },
          "execution_count": 82
        }
      ]
    },
    {
      "cell_type": "code",
      "metadata": {
        "id": "ytb02WIS7wKX"
      },
      "source": [
        "X = dataset[['Petrol_tax', 'Average_income', 'Paved_Highways',\r\n",
        "       'Population_Driver_licence(%)']]\r\n",
        "y = dataset['Petrol_Consumption']"
      ],
      "execution_count": null,
      "outputs": []
    },
    {
      "cell_type": "code",
      "metadata": {
        "id": "2XrziHRd7wOW"
      },
      "source": [
        "from sklearn.model_selection import train_test_split\r\n",
        "X_train, X_test, y_train, y_test = train_test_split(X, y, test_size=0.2, random_state=0)"
      ],
      "execution_count": null,
      "outputs": []
    },
    {
      "cell_type": "markdown",
      "metadata": {
        "id": "RdcDX3oq76vE"
      },
      "source": [
        "## Training the Algorithm\r\n",
        "And finally, to train the algorithm we execute the same code as before, using the fit() method of the LinearRegression class:"
      ]
    },
    {
      "cell_type": "code",
      "metadata": {
        "colab": {
          "base_uri": "https://localhost:8080/"
        },
        "id": "SMKMm8j97wR6",
        "outputId": "96d0a639-3d7d-4454-83ce-bca6484aeba4"
      },
      "source": [
        "from sklearn.linear_model import LinearRegression\r\n",
        "regressor = LinearRegression()\r\n",
        "regressor.fit(X_train, y_train)\r\n"
      ],
      "execution_count": 83,
      "outputs": [
        {
          "output_type": "execute_result",
          "data": {
            "text/plain": [
              "LinearRegression(copy_X=True, fit_intercept=True, n_jobs=None, normalize=False)"
            ]
          },
          "metadata": {
            "tags": []
          },
          "execution_count": 83
        }
      ]
    },
    {
      "cell_type": "markdown",
      "metadata": {
        "id": "PguUKOV78DIC"
      },
      "source": [
        "As said earlier, in case of multivariable linear regression, the regression model has to find the most optimal coefficients for all the attributes. To see what coefficients our regression model has chosen, execute the following script:"
      ]
    },
    {
      "cell_type": "code",
      "metadata": {
        "colab": {
          "base_uri": "https://localhost:8080/",
          "height": 173
        },
        "id": "x0eliKrc7wWE",
        "outputId": "69628763-9806-425d-fcfb-20fb8ea25bec"
      },
      "source": [
        "coeff_df = pd.DataFrame(regressor.coef_, X.columns, columns=['Coefficient'])\r\n",
        "coeff_df"
      ],
      "execution_count": 84,
      "outputs": [
        {
          "output_type": "execute_result",
          "data": {
            "text/html": [
              "<div>\n",
              "<style scoped>\n",
              "    .dataframe tbody tr th:only-of-type {\n",
              "        vertical-align: middle;\n",
              "    }\n",
              "\n",
              "    .dataframe tbody tr th {\n",
              "        vertical-align: top;\n",
              "    }\n",
              "\n",
              "    .dataframe thead th {\n",
              "        text-align: right;\n",
              "    }\n",
              "</style>\n",
              "<table border=\"1\" class=\"dataframe\">\n",
              "  <thead>\n",
              "    <tr style=\"text-align: right;\">\n",
              "      <th></th>\n",
              "      <th>Coefficient</th>\n",
              "    </tr>\n",
              "  </thead>\n",
              "  <tbody>\n",
              "    <tr>\n",
              "      <th>Petrol_tax</th>\n",
              "      <td>-27.728412</td>\n",
              "    </tr>\n",
              "    <tr>\n",
              "      <th>Average_income</th>\n",
              "      <td>-0.080467</td>\n",
              "    </tr>\n",
              "    <tr>\n",
              "      <th>Paved_Highways</th>\n",
              "      <td>-0.001665</td>\n",
              "    </tr>\n",
              "    <tr>\n",
              "      <th>Population_Driver_licence(%)</th>\n",
              "      <td>1503.937881</td>\n",
              "    </tr>\n",
              "  </tbody>\n",
              "</table>\n",
              "</div>"
            ],
            "text/plain": [
              "                              Coefficient\n",
              "Petrol_tax                     -27.728412\n",
              "Average_income                  -0.080467\n",
              "Paved_Highways                  -0.001665\n",
              "Population_Driver_licence(%)  1503.937881"
            ]
          },
          "metadata": {
            "tags": []
          },
          "execution_count": 84
        }
      ]
    },
    {
      "cell_type": "markdown",
      "metadata": {
        "id": "Dk9jKHkG8J__"
      },
      "source": [
        "This means that for a unit increase in \"petrol_tax\", there is a decrease of 24.19 million gallons in gas consumption. Similarly, a unit increase in proportion of population with a drivers license results in an increase of 1.324 billion gallons of gas consumption. We can see that \"Average_income\" and \"Paved_Highways\" have a very little effect on the gas consumption.\r\n",
        "\r\n",
        "### Making Predictions\r\n",
        "To make pre-dictions on the test data, execute the following script:"
      ]
    },
    {
      "cell_type": "code",
      "metadata": {
        "id": "1q3n_Rj57wZF"
      },
      "source": [
        "y_pred = regressor.predict(X_test)"
      ],
      "execution_count": 85,
      "outputs": []
    },
    {
      "cell_type": "markdown",
      "metadata": {
        "id": "O0ToVk488Q_U"
      },
      "source": [
        "To compare the actual output values for X_test with the predicted values, execute the following script:"
      ]
    },
    {
      "cell_type": "code",
      "metadata": {
        "colab": {
          "base_uri": "https://localhost:8080/",
          "height": 514
        },
        "id": "wXYjQtO37wb-",
        "outputId": "85ae879b-6d37-4ae2-8569-9c2822381758"
      },
      "source": [
        "df = pd.DataFrame({'Actual': y_test, 'Predicted': y_pred})\r\n",
        "df"
      ],
      "execution_count": 86,
      "outputs": [
        {
          "output_type": "execute_result",
          "data": {
            "text/html": [
              "<div>\n",
              "<style scoped>\n",
              "    .dataframe tbody tr th:only-of-type {\n",
              "        vertical-align: middle;\n",
              "    }\n",
              "\n",
              "    .dataframe tbody tr th {\n",
              "        vertical-align: top;\n",
              "    }\n",
              "\n",
              "    .dataframe thead th {\n",
              "        text-align: right;\n",
              "    }\n",
              "</style>\n",
              "<table border=\"1\" class=\"dataframe\">\n",
              "  <thead>\n",
              "    <tr style=\"text-align: right;\">\n",
              "      <th></th>\n",
              "      <th>Actual</th>\n",
              "      <th>Predicted</th>\n",
              "    </tr>\n",
              "  </thead>\n",
              "  <tbody>\n",
              "    <tr>\n",
              "      <th>3</th>\n",
              "      <td>414</td>\n",
              "      <td>479.232274</td>\n",
              "    </tr>\n",
              "    <tr>\n",
              "      <th>36</th>\n",
              "      <td>640</td>\n",
              "      <td>644.892433</td>\n",
              "    </tr>\n",
              "    <tr>\n",
              "      <th>13</th>\n",
              "      <td>508</td>\n",
              "      <td>563.467888</td>\n",
              "    </tr>\n",
              "    <tr>\n",
              "      <th>11</th>\n",
              "      <td>471</td>\n",
              "      <td>432.912578</td>\n",
              "    </tr>\n",
              "    <tr>\n",
              "      <th>43</th>\n",
              "      <td>591</td>\n",
              "      <td>551.605906</td>\n",
              "    </tr>\n",
              "    <tr>\n",
              "      <th>41</th>\n",
              "      <td>699</td>\n",
              "      <td>639.196405</td>\n",
              "    </tr>\n",
              "    <tr>\n",
              "      <th>38</th>\n",
              "      <td>648</td>\n",
              "      <td>750.871143</td>\n",
              "    </tr>\n",
              "    <tr>\n",
              "      <th>14</th>\n",
              "      <td>566</td>\n",
              "      <td>645.528712</td>\n",
              "    </tr>\n",
              "    <tr>\n",
              "      <th>18</th>\n",
              "      <td>865</td>\n",
              "      <td>792.822414</td>\n",
              "    </tr>\n",
              "    <tr>\n",
              "      <th>27</th>\n",
              "      <td>631</td>\n",
              "      <td>625.655341</td>\n",
              "    </tr>\n",
              "    <tr>\n",
              "      <th>25</th>\n",
              "      <td>566</td>\n",
              "      <td>548.667415</td>\n",
              "    </tr>\n",
              "    <tr>\n",
              "      <th>9</th>\n",
              "      <td>498</td>\n",
              "      <td>546.244794</td>\n",
              "    </tr>\n",
              "    <tr>\n",
              "      <th>19</th>\n",
              "      <td>640</td>\n",
              "      <td>710.561549</td>\n",
              "    </tr>\n",
              "    <tr>\n",
              "      <th>32</th>\n",
              "      <td>577</td>\n",
              "      <td>677.516534</td>\n",
              "    </tr>\n",
              "    <tr>\n",
              "      <th>6</th>\n",
              "      <td>344</td>\n",
              "      <td>296.086215</td>\n",
              "    </tr>\n",
              "  </tbody>\n",
              "</table>\n",
              "</div>"
            ],
            "text/plain": [
              "    Actual   Predicted\n",
              "3      414  479.232274\n",
              "36     640  644.892433\n",
              "13     508  563.467888\n",
              "11     471  432.912578\n",
              "43     591  551.605906\n",
              "41     699  639.196405\n",
              "38     648  750.871143\n",
              "14     566  645.528712\n",
              "18     865  792.822414\n",
              "27     631  625.655341\n",
              "25     566  548.667415\n",
              "9      498  546.244794\n",
              "19     640  710.561549\n",
              "32     577  677.516534\n",
              "6      344  296.086215"
            ]
          },
          "metadata": {
            "tags": []
          },
          "execution_count": 86
        }
      ]
    },
    {
      "cell_type": "markdown",
      "metadata": {
        "id": "RLFoiVeU8XcD"
      },
      "source": [
        "### Evaluating the Algorithm\r\n",
        "The final step is to evaluate the performance of algorithm. We'll do this by finding the values for MAE, MSE and RMSE. Execute the following script:"
      ]
    },
    {
      "cell_type": "code",
      "metadata": {
        "colab": {
          "base_uri": "https://localhost:8080/"
        },
        "id": "mFqdxUoq7wfi",
        "outputId": "8e6c9867-39dc-484c-e394-0e745e704d44"
      },
      "source": [
        "from sklearn import metrics\r\n",
        "print('Mean Absolute Error:', metrics.mean_absolute_error(y_test, y_pred))\r\n",
        "print('Mean Squared Error:', metrics.mean_squared_error(y_test, y_pred))\r\n",
        "print('Root Mean Squared Error:', np.sqrt(metrics.mean_squared_error(y_test, y_pred)))"
      ],
      "execution_count": 87,
      "outputs": [
        {
          "output_type": "stream",
          "text": [
            "Mean Absolute Error: 53.8246035497069\n",
            "Mean Squared Error: 3739.1040706080316\n",
            "Root Mean Squared Error: 61.148213960900215\n"
          ],
          "name": "stdout"
        }
      ]
    },
    {
      "cell_type": "markdown",
      "metadata": {
        "id": "yFWoA2DK8hvg"
      },
      "source": [
        "You can see that the value of root mean squared error is 60.07, which is slightly greater than 10% of the mean value of the gas consumption in all states. This means that our algorithm was not very accurate but can still make reasonably good predictions.\r\n",
        "\r\n",
        "There are many factors that may have contributed to this inaccuracy, a few of which are listed here:\r\n",
        "\r\n",
        "1. Need more data: Only one year worth of data isn't that much, whereas having multiple years worth could have helped us improve the accuracy quite a bit.\r\n",
        "2. Bad assumptions: We made the assumption that this data has a linear relationship, but that might not be the case. Visualizing the data may help you determine that.\r\n",
        "3. Poor features: The features we used may not have had a high enough correlation to the values we were trying to predict."
      ]
    }
  ]
}